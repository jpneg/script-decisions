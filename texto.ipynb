{
 "cells": [
  {
   "cell_type": "markdown",
   "metadata": {},
   "source": [
    "# Data-driven script decisions: The Office"
   ]
  },
  {
   "cell_type": "markdown",
   "metadata": {},
   "source": [
    "Miembros:\n",
    " - Diana Arroyo - 157336\n",
    " - José Carlos Zamorano - 142576\n",
    " - Juan Pablo Negrete - 157962"
   ]
  },
  {
   "cell_type": "markdown",
   "metadata": {},
   "source": [
    "Nuestros votos:\n",
    " - 1: Equipo 6 Pokedex\n",
    " - 2: Equipo 3 Coca-Cola\n",
    " - 3: Equipo 5 Tienda\n",
    " - 4: Equipo 4 Banco\n",
    " - 5: Equipo 1 Ruleta"
   ]
  },
  {
   "cell_type": "markdown",
   "metadata": {},
   "source": [
    "## Problema\n",
    "### Descripción\n",
    "The Office es una serie de televisión de comedia estadounidense, se estrenó en 2005 y dejó de transmitir en 2013.\n",
    "\n",
    "### Objetivo\n",
    "Lograr tomar decisiones en torno al guion de nuevos capítulos para maximizar su recepción por los usuarios a través de las calificaciones obtenidas en Internet Movie DataBase (IMDB). Buscamos lograr este objetivo a través de la aplicación de algoritmos de aprendizaje de máquina y otras técnicas computacionales.\n",
    "\n",
    "### Problema de decisión\n",
    "Si planteamos nuestros objetivos como un problema de decisión, \n",
    " - **Tomador de decisiones**: en nuestro problema el tomador de decisiones puede ser un productor, el director o el guionista de un capítulo de una serie de televisión.\n",
    " - **Espacio de opciones**: un sinfín de posibilidades de guiones en donde pueden variar los personajes en cada escena, las líneas de cada personaje, el contenido de las líneas, etc.\n",
    " - **Espacio de eventos**: un número de 1 a 10 que define qué tan bien se recibió el capítulo por el usuario.\n",
    " - **Espacio de consecuencias**: el director o productor toma decisiones de contenido o historia de la serie."
   ]
  },
  {
   "cell_type": "markdown",
   "metadata": {},
   "source": [
    "## Datos"
   ]
  },
  {
   "cell_type": "markdown",
   "metadata": {},
   "source": [
    "En esta parte comenzaremos a utilizar código de Python para el análisis exploratorio de los datos. Comenzamos importando librerías útiles: *pandas* para organizar datos, *pyplot* y *seaborn* para graficarlos y *numpy* para procesarlos."
   ]
  },
  {
   "cell_type": "code",
   "execution_count": 1,
   "metadata": {},
   "outputs": [],
   "source": [
    "import matplotlib.pyplot as plt\n",
    "import pandas as pd\n",
    "import numpy as np\n",
    "import seaborn as sns"
   ]
  },
  {
   "cell_type": "markdown",
   "metadata": {},
   "source": [
    "### Descripción\n",
    "Los datos que tenemos a nuestra disposición fueron obtenidos de un __[Google Spreadsheet](https://docs.google.com/spreadsheets/d/18wS5AAwOh8QO95RwHLS95POmSNKA2jjzdt0phrxeAE0/edit#gid=747974534)__ que contiene información acerca de las líneas de cada capítulo como: las línea que se dice, el personaje que la dice y la escena, el capítulo y la temporada a la que pertenecen. Se presenta una muestra de los datos a continuación:"
   ]
  },
  {
   "cell_type": "code",
   "execution_count": 2,
   "metadata": {},
   "outputs": [
    {
     "data": {
      "text/html": [
       "<div>\n",
       "<style scoped>\n",
       "    .dataframe tbody tr th:only-of-type {\n",
       "        vertical-align: middle;\n",
       "    }\n",
       "\n",
       "    .dataframe tbody tr th {\n",
       "        vertical-align: top;\n",
       "    }\n",
       "\n",
       "    .dataframe thead th {\n",
       "        text-align: right;\n",
       "    }\n",
       "</style>\n",
       "<table border=\"1\" class=\"dataframe\">\n",
       "  <thead>\n",
       "    <tr style=\"text-align: right;\">\n",
       "      <th></th>\n",
       "      <th>season</th>\n",
       "      <th>episode</th>\n",
       "      <th>scene</th>\n",
       "      <th>line_text</th>\n",
       "      <th>speaker</th>\n",
       "      <th>deleted</th>\n",
       "    </tr>\n",
       "    <tr>\n",
       "      <th>id</th>\n",
       "      <th></th>\n",
       "      <th></th>\n",
       "      <th></th>\n",
       "      <th></th>\n",
       "      <th></th>\n",
       "      <th></th>\n",
       "    </tr>\n",
       "  </thead>\n",
       "  <tbody>\n",
       "    <tr>\n",
       "      <th>55908</th>\n",
       "      <td>9</td>\n",
       "      <td>12</td>\n",
       "      <td>15</td>\n",
       "      <td>Well, we created a fake profile for a really c...</td>\n",
       "      <td>Erin</td>\n",
       "      <td>False</td>\n",
       "    </tr>\n",
       "    <tr>\n",
       "      <th>24070</th>\n",
       "      <td>5</td>\n",
       "      <td>5</td>\n",
       "      <td>1</td>\n",
       "      <td>[dressed as Carrie Bradshaw] Wow you guys look...</td>\n",
       "      <td>Kelly</td>\n",
       "      <td>False</td>\n",
       "    </tr>\n",
       "    <tr>\n",
       "      <th>31569</th>\n",
       "      <td>6</td>\n",
       "      <td>3</td>\n",
       "      <td>20</td>\n",
       "      <td>Look, you guys are smart, so I'm just leveling...</td>\n",
       "      <td>Jim</td>\n",
       "      <td>False</td>\n",
       "    </tr>\n",
       "    <tr>\n",
       "      <th>35899</th>\n",
       "      <td>6</td>\n",
       "      <td>16</td>\n",
       "      <td>60</td>\n",
       "      <td>[on the phone]  Hey, what's up, kid?</td>\n",
       "      <td>Dwight</td>\n",
       "      <td>False</td>\n",
       "    </tr>\n",
       "    <tr>\n",
       "      <th>46266</th>\n",
       "      <td>8</td>\n",
       "      <td>2</td>\n",
       "      <td>32</td>\n",
       "      <td>There���s something about an underdog that rea...</td>\n",
       "      <td>Robert</td>\n",
       "      <td>False</td>\n",
       "    </tr>\n",
       "  </tbody>\n",
       "</table>\n",
       "</div>"
      ],
      "text/plain": [
       "       season  episode  scene  \\\n",
       "id                              \n",
       "55908       9       12     15   \n",
       "24070       5        5      1   \n",
       "31569       6        3     20   \n",
       "35899       6       16     60   \n",
       "46266       8        2     32   \n",
       "\n",
       "                                               line_text speaker  deleted  \n",
       "id                                                                         \n",
       "55908  Well, we created a fake profile for a really c...    Erin    False  \n",
       "24070  [dressed as Carrie Bradshaw] Wow you guys look...   Kelly    False  \n",
       "31569  Look, you guys are smart, so I'm just leveling...     Jim    False  \n",
       "35899               [on the phone]  Hey, what's up, kid?  Dwight    False  \n",
       "46266  There���s something about an underdog that rea...  Robert    False  "
      ]
     },
     "execution_count": 2,
     "metadata": {},
     "output_type": "execute_result"
    }
   ],
   "source": [
    "# Guardamos los datos originales en el DataFrame 'raw'\n",
    "raw = pd.read_csv('the-office.csv', encoding='utf-8').set_index('id')\n",
    "# Muestra de 5 elementos\n",
    "raw.sample(5)"
   ]
  },
  {
   "cell_type": "markdown",
   "metadata": {},
   "source": [
    "### Análisis Exploratorio\n",
    "Antes de realizar un análisis completo, comenzaremos por evaluar los datos que tenemos a nuestra disposición."
   ]
  },
  {
   "cell_type": "code",
   "execution_count": 3,
   "metadata": {},
   "outputs": [
    {
     "data": {
      "image/png": "[encoded data removed]",
      "text/plain": [
       "<Figure size 432x288 with 1 Axes>"
      ]
     },
     "metadata": {
      "needs_background": "light"
     },
     "output_type": "display_data"
    }
   ],
   "source": [
    "# Contar escenas por capítulo\n",
    "raw.groupby(['season', 'episode'])['scene'].count().hist(bins=100)\n",
    "plt.vlines(\n",
    "    x=raw.groupby(['season', 'episode'])['scene'].count().mean(),\n",
    "    linestyles='--',\n",
    "    color='r',\n",
    "    ymin=0,\n",
    "    ymax=15,\n",
    "    label=\"Promedio: {:.2f}\".format(raw.groupby(['season', 'episode'])['scene'].count().mean()))\n",
    "plt.legend()\n",
    "plt.show()"
   ]
  },
  {
   "cell_type": "code",
   "execution_count": 4,
   "metadata": {},
   "outputs": [
    {
     "data": {
      "image/png": "[encoded data removed]",
      "text/plain": [
       "<Figure size 432x288 with 1 Axes>"
      ]
     },
     "metadata": {
      "needs_background": "light"
     },
     "output_type": "display_data"
    }
   ],
   "source": [
    "# Contar palabras por escena\n",
    "aux = (\n",
    "    raw\n",
    "    .assign(words = lambda x: x.line_text.str.len())\n",
    "    .groupby(['season', 'episode', 'scene'])['words']\n",
    "    .sum()\n",
    ")\n",
    "aux.hist(bins=70, label='Palabras por escena')\n",
    "plt.vlines(\n",
    "    x=aux.mean(),\n",
    "    linestyles='--',\n",
    "    color='r',\n",
    "    ymin=0,\n",
    "    ymax=1750,\n",
    "    label=\"Promedio: {:.2f}\".format(aux.mean()))\n",
    "plt.vlines(\n",
    "    x=aux.median(),\n",
    "    linestyles='--',\n",
    "    color='y',\n",
    "    ymin=0,\n",
    "    ymax=1750,\n",
    "    label=\"Mediana: {:.2f}\".format(aux.median()))\n",
    "plt.legend()\n",
    "plt.show()"
   ]
  },
  {
   "cell_type": "code",
   "execution_count": 5,
   "metadata": {},
   "outputs": [
    {
     "data": {
      "image/png": "[encoded data removed]",
      "text/plain": [
       "<Figure size 432x288 with 2 Axes>"
      ]
     },
     "metadata": {
      "needs_background": "light"
     },
     "output_type": "display_data"
    }
   ],
   "source": [
    "# Observar lineas por personaje (con más de 200 líneas) por temporada\n",
    "sns.heatmap(\n",
    "    raw\n",
    "    .groupby(['speaker', 'season'])\n",
    "    .count()\n",
    "    .query('line_text > 200')\n",
    "    .sort_values(by='speaker')\n",
    "    .reset_index()\n",
    "    .pivot(index='speaker',\n",
    "          columns='season',\n",
    "          values='line_text')\n",
    ")\n",
    "plt.show()"
   ]
  },
  {
   "cell_type": "code",
   "execution_count": 6,
   "metadata": {},
   "outputs": [
    {
     "data": {
      "text/html": [
       "<div>\n",
       "<style scoped>\n",
       "    .dataframe tbody tr th:only-of-type {\n",
       "        vertical-align: middle;\n",
       "    }\n",
       "\n",
       "    .dataframe tbody tr th {\n",
       "        vertical-align: top;\n",
       "    }\n",
       "\n",
       "    .dataframe thead th {\n",
       "        text-align: right;\n",
       "    }\n",
       "</style>\n",
       "<table border=\"1\" class=\"dataframe\">\n",
       "  <thead>\n",
       "    <tr style=\"text-align: right;\">\n",
       "      <th></th>\n",
       "      <th>season</th>\n",
       "      <th>episode</th>\n",
       "      <th>scene</th>\n",
       "      <th>line_text</th>\n",
       "      <th>deleted</th>\n",
       "    </tr>\n",
       "    <tr>\n",
       "      <th>speaker</th>\n",
       "      <th></th>\n",
       "      <th></th>\n",
       "      <th></th>\n",
       "      <th></th>\n",
       "      <th></th>\n",
       "    </tr>\n",
       "  </thead>\n",
       "  <tbody>\n",
       "    <tr>\n",
       "      <th>Michael</th>\n",
       "      <td>12137</td>\n",
       "      <td>12137</td>\n",
       "      <td>12137</td>\n",
       "      <td>12137</td>\n",
       "      <td>12137</td>\n",
       "    </tr>\n",
       "    <tr>\n",
       "      <th>Dwight</th>\n",
       "      <td>7529</td>\n",
       "      <td>7529</td>\n",
       "      <td>7529</td>\n",
       "      <td>7529</td>\n",
       "      <td>7529</td>\n",
       "    </tr>\n",
       "    <tr>\n",
       "      <th>Jim</th>\n",
       "      <td>6814</td>\n",
       "      <td>6814</td>\n",
       "      <td>6814</td>\n",
       "      <td>6814</td>\n",
       "      <td>6814</td>\n",
       "    </tr>\n",
       "    <tr>\n",
       "      <th>Pam</th>\n",
       "      <td>5375</td>\n",
       "      <td>5375</td>\n",
       "      <td>5375</td>\n",
       "      <td>5375</td>\n",
       "      <td>5375</td>\n",
       "    </tr>\n",
       "    <tr>\n",
       "      <th>Andy</th>\n",
       "      <td>3968</td>\n",
       "      <td>3968</td>\n",
       "      <td>3968</td>\n",
       "      <td>3968</td>\n",
       "      <td>3968</td>\n",
       "    </tr>\n",
       "    <tr>\n",
       "      <th>Kevin</th>\n",
       "      <td>1708</td>\n",
       "      <td>1708</td>\n",
       "      <td>1708</td>\n",
       "      <td>1708</td>\n",
       "      <td>1708</td>\n",
       "    </tr>\n",
       "    <tr>\n",
       "      <th>Angela</th>\n",
       "      <td>1695</td>\n",
       "      <td>1695</td>\n",
       "      <td>1695</td>\n",
       "      <td>1695</td>\n",
       "      <td>1695</td>\n",
       "    </tr>\n",
       "    <tr>\n",
       "      <th>Oscar</th>\n",
       "      <td>1490</td>\n",
       "      <td>1490</td>\n",
       "      <td>1490</td>\n",
       "      <td>1490</td>\n",
       "      <td>1490</td>\n",
       "    </tr>\n",
       "    <tr>\n",
       "      <th>Erin</th>\n",
       "      <td>1469</td>\n",
       "      <td>1469</td>\n",
       "      <td>1469</td>\n",
       "      <td>1469</td>\n",
       "      <td>1469</td>\n",
       "    </tr>\n",
       "    <tr>\n",
       "      <th>Ryan</th>\n",
       "      <td>1379</td>\n",
       "      <td>1379</td>\n",
       "      <td>1379</td>\n",
       "      <td>1379</td>\n",
       "      <td>1379</td>\n",
       "    </tr>\n",
       "    <tr>\n",
       "      <th>Darryl</th>\n",
       "      <td>1243</td>\n",
       "      <td>1243</td>\n",
       "      <td>1243</td>\n",
       "      <td>1243</td>\n",
       "      <td>1243</td>\n",
       "    </tr>\n",
       "    <tr>\n",
       "      <th>Phyllis</th>\n",
       "      <td>1071</td>\n",
       "      <td>1071</td>\n",
       "      <td>1071</td>\n",
       "      <td>1071</td>\n",
       "      <td>1071</td>\n",
       "    </tr>\n",
       "    <tr>\n",
       "      <th>Kelly</th>\n",
       "      <td>956</td>\n",
       "      <td>956</td>\n",
       "      <td>956</td>\n",
       "      <td>956</td>\n",
       "      <td>956</td>\n",
       "    </tr>\n",
       "    <tr>\n",
       "      <th>Jan</th>\n",
       "      <td>949</td>\n",
       "      <td>949</td>\n",
       "      <td>949</td>\n",
       "      <td>949</td>\n",
       "      <td>949</td>\n",
       "    </tr>\n",
       "    <tr>\n",
       "      <th>Toby</th>\n",
       "      <td>936</td>\n",
       "      <td>936</td>\n",
       "      <td>936</td>\n",
       "      <td>936</td>\n",
       "      <td>936</td>\n",
       "    </tr>\n",
       "    <tr>\n",
       "      <th>Stanley</th>\n",
       "      <td>761</td>\n",
       "      <td>761</td>\n",
       "      <td>761</td>\n",
       "      <td>761</td>\n",
       "      <td>761</td>\n",
       "    </tr>\n",
       "    <tr>\n",
       "      <th>Meredith</th>\n",
       "      <td>645</td>\n",
       "      <td>645</td>\n",
       "      <td>645</td>\n",
       "      <td>645</td>\n",
       "      <td>645</td>\n",
       "    </tr>\n",
       "    <tr>\n",
       "      <th>Holly</th>\n",
       "      <td>608</td>\n",
       "      <td>608</td>\n",
       "      <td>608</td>\n",
       "      <td>608</td>\n",
       "      <td>608</td>\n",
       "    </tr>\n",
       "    <tr>\n",
       "      <th>Nellie</th>\n",
       "      <td>529</td>\n",
       "      <td>529</td>\n",
       "      <td>529</td>\n",
       "      <td>529</td>\n",
       "      <td>529</td>\n",
       "    </tr>\n",
       "    <tr>\n",
       "      <th>Creed</th>\n",
       "      <td>456</td>\n",
       "      <td>456</td>\n",
       "      <td>456</td>\n",
       "      <td>456</td>\n",
       "      <td>456</td>\n",
       "    </tr>\n",
       "    <tr>\n",
       "      <th>Gabe</th>\n",
       "      <td>436</td>\n",
       "      <td>436</td>\n",
       "      <td>436</td>\n",
       "      <td>436</td>\n",
       "      <td>436</td>\n",
       "    </tr>\n",
       "    <tr>\n",
       "      <th>Robert</th>\n",
       "      <td>430</td>\n",
       "      <td>430</td>\n",
       "      <td>430</td>\n",
       "      <td>430</td>\n",
       "      <td>430</td>\n",
       "    </tr>\n",
       "    <tr>\n",
       "      <th>David</th>\n",
       "      <td>382</td>\n",
       "      <td>382</td>\n",
       "      <td>382</td>\n",
       "      <td>382</td>\n",
       "      <td>382</td>\n",
       "    </tr>\n",
       "    <tr>\n",
       "      <th>Karen</th>\n",
       "      <td>341</td>\n",
       "      <td>341</td>\n",
       "      <td>341</td>\n",
       "      <td>341</td>\n",
       "      <td>341</td>\n",
       "    </tr>\n",
       "    <tr>\n",
       "      <th>Clark</th>\n",
       "      <td>260</td>\n",
       "      <td>260</td>\n",
       "      <td>260</td>\n",
       "      <td>260</td>\n",
       "      <td>260</td>\n",
       "    </tr>\n",
       "    <tr>\n",
       "      <th>Roy</th>\n",
       "      <td>255</td>\n",
       "      <td>255</td>\n",
       "      <td>255</td>\n",
       "      <td>255</td>\n",
       "      <td>255</td>\n",
       "    </tr>\n",
       "    <tr>\n",
       "      <th>Charles</th>\n",
       "      <td>221</td>\n",
       "      <td>221</td>\n",
       "      <td>221</td>\n",
       "      <td>221</td>\n",
       "      <td>221</td>\n",
       "    </tr>\n",
       "    <tr>\n",
       "      <th>Pete</th>\n",
       "      <td>213</td>\n",
       "      <td>213</td>\n",
       "      <td>213</td>\n",
       "      <td>213</td>\n",
       "      <td>213</td>\n",
       "    </tr>\n",
       "    <tr>\n",
       "      <th>Jo</th>\n",
       "      <td>194</td>\n",
       "      <td>194</td>\n",
       "      <td>194</td>\n",
       "      <td>194</td>\n",
       "      <td>194</td>\n",
       "    </tr>\n",
       "    <tr>\n",
       "      <th>Deangelo</th>\n",
       "      <td>171</td>\n",
       "      <td>171</td>\n",
       "      <td>171</td>\n",
       "      <td>171</td>\n",
       "      <td>171</td>\n",
       "    </tr>\n",
       "    <tr>\n",
       "      <th>...</th>\n",
       "      <td>...</td>\n",
       "      <td>...</td>\n",
       "      <td>...</td>\n",
       "      <td>...</td>\n",
       "      <td>...</td>\n",
       "    </tr>\n",
       "    <tr>\n",
       "      <th>Glen</th>\n",
       "      <td>1</td>\n",
       "      <td>1</td>\n",
       "      <td>1</td>\n",
       "      <td>1</td>\n",
       "      <td>1</td>\n",
       "    </tr>\n",
       "    <tr>\n",
       "      <th>Girls</th>\n",
       "      <td>1</td>\n",
       "      <td>1</td>\n",
       "      <td>1</td>\n",
       "      <td>1</td>\n",
       "      <td>1</td>\n",
       "    </tr>\n",
       "    <tr>\n",
       "      <th>Girl acting Pregnant</th>\n",
       "      <td>1</td>\n",
       "      <td>1</td>\n",
       "      <td>1</td>\n",
       "      <td>1</td>\n",
       "      <td>1</td>\n",
       "    </tr>\n",
       "    <tr>\n",
       "      <th>Gabe/Kelly/Toby</th>\n",
       "      <td>1</td>\n",
       "      <td>1</td>\n",
       "      <td>1</td>\n",
       "      <td>1</td>\n",
       "      <td>1</td>\n",
       "    </tr>\n",
       "    <tr>\n",
       "      <th>Jim's Dad</th>\n",
       "      <td>1</td>\n",
       "      <td>1</td>\n",
       "      <td>1</td>\n",
       "      <td>1</td>\n",
       "      <td>1</td>\n",
       "    </tr>\n",
       "    <tr>\n",
       "      <th>Jim's voicemail</th>\n",
       "      <td>1</td>\n",
       "      <td>1</td>\n",
       "      <td>1</td>\n",
       "      <td>1</td>\n",
       "      <td>1</td>\n",
       "    </tr>\n",
       "    <tr>\n",
       "      <th>Jim, Josh, and Dwight</th>\n",
       "      <td>1</td>\n",
       "      <td>1</td>\n",
       "      <td>1</td>\n",
       "      <td>1</td>\n",
       "      <td>1</td>\n",
       "    </tr>\n",
       "    <tr>\n",
       "      <th>Jo Bennett</th>\n",
       "      <td>1</td>\n",
       "      <td>1</td>\n",
       "      <td>1</td>\n",
       "      <td>1</td>\n",
       "      <td>1</td>\n",
       "    </tr>\n",
       "    <tr>\n",
       "      <th>Merv Bronte</th>\n",
       "      <td>1</td>\n",
       "      <td>1</td>\n",
       "      <td>1</td>\n",
       "      <td>1</td>\n",
       "      <td>1</td>\n",
       "    </tr>\n",
       "    <tr>\n",
       "      <th>Meredith, Creed, Oscar and Matt</th>\n",
       "      <td>1</td>\n",
       "      <td>1</td>\n",
       "      <td>1</td>\n",
       "      <td>1</td>\n",
       "      <td>1</td>\n",
       "    </tr>\n",
       "    <tr>\n",
       "      <th>Meredith &amp; Kelly</th>\n",
       "      <td>1</td>\n",
       "      <td>1</td>\n",
       "      <td>1</td>\n",
       "      <td>1</td>\n",
       "      <td>1</td>\n",
       "    </tr>\n",
       "    <tr>\n",
       "      <th>Men</th>\n",
       "      <td>1</td>\n",
       "      <td>1</td>\n",
       "      <td>1</td>\n",
       "      <td>1</td>\n",
       "      <td>1</td>\n",
       "    </tr>\n",
       "    <tr>\n",
       "      <th>MeeMaw</th>\n",
       "      <td>1</td>\n",
       "      <td>1</td>\n",
       "      <td>1</td>\n",
       "      <td>1</td>\n",
       "      <td>1</td>\n",
       "    </tr>\n",
       "    <tr>\n",
       "      <th>Mee-Maw</th>\n",
       "      <td>1</td>\n",
       "      <td>1</td>\n",
       "      <td>1</td>\n",
       "      <td>1</td>\n",
       "      <td>1</td>\n",
       "    </tr>\n",
       "    <tr>\n",
       "      <th>Man in line</th>\n",
       "      <td>1</td>\n",
       "      <td>1</td>\n",
       "      <td>1</td>\n",
       "      <td>1</td>\n",
       "      <td>1</td>\n",
       "    </tr>\n",
       "    <tr>\n",
       "      <th>Man in Video</th>\n",
       "      <td>1</td>\n",
       "      <td>1</td>\n",
       "      <td>1</td>\n",
       "      <td>1</td>\n",
       "      <td>1</td>\n",
       "    </tr>\n",
       "    <tr>\n",
       "      <th>Man 3</th>\n",
       "      <td>1</td>\n",
       "      <td>1</td>\n",
       "      <td>1</td>\n",
       "      <td>1</td>\n",
       "      <td>1</td>\n",
       "    </tr>\n",
       "    <tr>\n",
       "      <th>Man 1</th>\n",
       "      <td>1</td>\n",
       "      <td>1</td>\n",
       "      <td>1</td>\n",
       "      <td>1</td>\n",
       "      <td>1</td>\n",
       "    </tr>\n",
       "    <tr>\n",
       "      <th>Male voice</th>\n",
       "      <td>1</td>\n",
       "      <td>1</td>\n",
       "      <td>1</td>\n",
       "      <td>1</td>\n",
       "      <td>1</td>\n",
       "    </tr>\n",
       "    <tr>\n",
       "      <th>Male Applicant 2</th>\n",
       "      <td>1</td>\n",
       "      <td>1</td>\n",
       "      <td>1</td>\n",
       "      <td>1</td>\n",
       "      <td>1</td>\n",
       "    </tr>\n",
       "    <tr>\n",
       "      <th>Maguire</th>\n",
       "      <td>1</td>\n",
       "      <td>1</td>\n",
       "      <td>1</td>\n",
       "      <td>1</td>\n",
       "      <td>1</td>\n",
       "    </tr>\n",
       "    <tr>\n",
       "      <th>MIchael</th>\n",
       "      <td>1</td>\n",
       "      <td>1</td>\n",
       "      <td>1</td>\n",
       "      <td>1</td>\n",
       "      <td>1</td>\n",
       "    </tr>\n",
       "    <tr>\n",
       "      <th>M ichael</th>\n",
       "      <td>1</td>\n",
       "      <td>1</td>\n",
       "      <td>1</td>\n",
       "      <td>1</td>\n",
       "      <td>1</td>\n",
       "    </tr>\n",
       "    <tr>\n",
       "      <th>3rd Athlead Employee</th>\n",
       "      <td>1</td>\n",
       "      <td>1</td>\n",
       "      <td>1</td>\n",
       "      <td>1</td>\n",
       "      <td>1</td>\n",
       "    </tr>\n",
       "    <tr>\n",
       "      <th>Kevin's computer</th>\n",
       "      <td>1</td>\n",
       "      <td>1</td>\n",
       "      <td>1</td>\n",
       "      <td>1</td>\n",
       "      <td>1</td>\n",
       "    </tr>\n",
       "    <tr>\n",
       "      <th>Kevin &amp; Oscar</th>\n",
       "      <td>1</td>\n",
       "      <td>1</td>\n",
       "      <td>1</td>\n",
       "      <td>1</td>\n",
       "      <td>1</td>\n",
       "    </tr>\n",
       "    <tr>\n",
       "      <th>Kevin &amp; Meredith</th>\n",
       "      <td>1</td>\n",
       "      <td>1</td>\n",
       "      <td>1</td>\n",
       "      <td>1</td>\n",
       "      <td>1</td>\n",
       "    </tr>\n",
       "    <tr>\n",
       "      <th>Kevin &amp; Andy</th>\n",
       "      <td>1</td>\n",
       "      <td>1</td>\n",
       "      <td>1</td>\n",
       "      <td>1</td>\n",
       "      <td>1</td>\n",
       "    </tr>\n",
       "    <tr>\n",
       "      <th>Julius Irving</th>\n",
       "      <td>1</td>\n",
       "      <td>1</td>\n",
       "      <td>1</td>\n",
       "      <td>1</td>\n",
       "      <td>1</td>\n",
       "    </tr>\n",
       "    <tr>\n",
       "      <th>song</th>\n",
       "      <td>1</td>\n",
       "      <td>1</td>\n",
       "      <td>1</td>\n",
       "      <td>1</td>\n",
       "      <td>1</td>\n",
       "    </tr>\n",
       "  </tbody>\n",
       "</table>\n",
       "<p>797 rows × 5 columns</p>\n",
       "</div>"
      ],
      "text/plain": [
       "                                 season  episode  scene  line_text  deleted\n",
       "speaker                                                                    \n",
       "Michael                           12137    12137  12137      12137    12137\n",
       "Dwight                             7529     7529   7529       7529     7529\n",
       "Jim                                6814     6814   6814       6814     6814\n",
       "Pam                                5375     5375   5375       5375     5375\n",
       "Andy                               3968     3968   3968       3968     3968\n",
       "Kevin                              1708     1708   1708       1708     1708\n",
       "Angela                             1695     1695   1695       1695     1695\n",
       "Oscar                              1490     1490   1490       1490     1490\n",
       "Erin                               1469     1469   1469       1469     1469\n",
       "Ryan                               1379     1379   1379       1379     1379\n",
       "Darryl                             1243     1243   1243       1243     1243\n",
       "Phyllis                            1071     1071   1071       1071     1071\n",
       "Kelly                               956      956    956        956      956\n",
       "Jan                                 949      949    949        949      949\n",
       "Toby                                936      936    936        936      936\n",
       "Stanley                             761      761    761        761      761\n",
       "Meredith                            645      645    645        645      645\n",
       "Holly                               608      608    608        608      608\n",
       "Nellie                              529      529    529        529      529\n",
       "Creed                               456      456    456        456      456\n",
       "Gabe                                436      436    436        436      436\n",
       "Robert                              430      430    430        430      430\n",
       "David                               382      382    382        382      382\n",
       "Karen                               341      341    341        341      341\n",
       "Clark                               260      260    260        260      260\n",
       "Roy                                 255      255    255        255      255\n",
       "Charles                             221      221    221        221      221\n",
       "Pete                                213      213    213        213      213\n",
       "Jo                                  194      194    194        194      194\n",
       "Deangelo                            171      171    171        171      171\n",
       "...                                 ...      ...    ...        ...      ...\n",
       "Glen                                  1        1      1          1        1\n",
       "Girls                                 1        1      1          1        1\n",
       "Girl acting Pregnant                  1        1      1          1        1\n",
       "Gabe/Kelly/Toby                       1        1      1          1        1\n",
       "Jim's Dad                             1        1      1          1        1\n",
       "Jim's voicemail                       1        1      1          1        1\n",
       "Jim, Josh, and Dwight                 1        1      1          1        1\n",
       "Jo Bennett                            1        1      1          1        1\n",
       "Merv Bronte                           1        1      1          1        1\n",
       "Meredith, Creed, Oscar and Matt       1        1      1          1        1\n",
       "Meredith & Kelly                      1        1      1          1        1\n",
       "Men                                   1        1      1          1        1\n",
       "MeeMaw                                1        1      1          1        1\n",
       "Mee-Maw                               1        1      1          1        1\n",
       "Man in line                           1        1      1          1        1\n",
       "Man in Video                          1        1      1          1        1\n",
       "Man 3                                 1        1      1          1        1\n",
       "Man 1                                 1        1      1          1        1\n",
       "Male voice                            1        1      1          1        1\n",
       "Male Applicant 2                      1        1      1          1        1\n",
       "Maguire                               1        1      1          1        1\n",
       "MIchael                               1        1      1          1        1\n",
       "M ichael                              1        1      1          1        1\n",
       "3rd Athlead Employee                  1        1      1          1        1\n",
       "Kevin's computer                      1        1      1          1        1\n",
       "Kevin & Oscar                         1        1      1          1        1\n",
       "Kevin & Meredith                      1        1      1          1        1\n",
       "Kevin & Andy                          1        1      1          1        1\n",
       "Julius Irving                         1        1      1          1        1\n",
       "song                                  1        1      1          1        1\n",
       "\n",
       "[797 rows x 5 columns]"
      ]
     },
     "execution_count": 6,
     "metadata": {},
     "output_type": "execute_result"
    }
   ],
   "source": [
    "# Contamos lineas por personajes\n",
    "raw.groupby(['speaker']).count().sort_values(by='line_text', ascending=False)"
   ]
  },
  {
   "cell_type": "markdown",
   "metadata": {},
   "source": [
    "### Procesamiento\n",
    "\n",
    "#### Limpieza de personajes\n",
    "\n",
    "Como podemos observar, existen 797 \"personajes\" diferentes. Sin embargo, hay muchos errores y repeticiones como *Michael* y *MIchael* o personajes extras como *Man 1* y *Man 3* que no necesariamente son mismos personajes en diferentes escenas. A continuación limpiaremos el texto de la colummna *speaker* para reducir los errores."
   ]
  },
  {
   "cell_type": "code",
   "execution_count": 7,
   "metadata": {},
   "outputs": [
    {
     "data": {
      "text/plain": [
       "797"
      ]
     },
     "execution_count": 7,
     "metadata": {},
     "output_type": "execute_result"
    }
   ],
   "source": [
    "# Comenzaremos a procesar, entonces creamos otro DataFrame\n",
    "data = raw.copy()\n",
    "# Cuenta inicial\n",
    "len(data.speaker.unique())"
   ]
  },
  {
   "cell_type": "markdown",
   "metadata": {},
   "source": [
    "Antes que nada, comenzamos por convertir los nombres de personajes a minúsculas (facilitará todo el trabajo) ya que no necesitamos que estén en mayúsculas y juntando \"all\" y \"everyone\"."
   ]
  },
  {
   "cell_type": "code",
   "execution_count": 8,
   "metadata": {},
   "outputs": [
    {
     "data": {
      "text/plain": [
       "780"
      ]
     },
     "execution_count": 8,
     "metadata": {},
     "output_type": "execute_result"
    }
   ],
   "source": [
    "data['speaker'] = data.speaker.str.lower()\n",
    "data['speaker'] = data.speaker.str.replace(\"(everyone)|(office staff)|(the office)\", \"all\")\n",
    "len(data.speaker.unique())"
   ]
  },
  {
   "cell_type": "markdown",
   "metadata": {},
   "source": [
    "Eliminamos puntuación."
   ]
  },
  {
   "cell_type": "code",
   "execution_count": 9,
   "metadata": {},
   "outputs": [
    {
     "data": {
      "text/plain": [
       "777"
      ]
     },
     "execution_count": 9,
     "metadata": {},
     "output_type": "execute_result"
    }
   ],
   "source": [
    "data['speaker'] = data.speaker.str.replace(\"[\\:\\.]\", \"\", regex=True)\n",
    "len(data.speaker.unique())"
   ]
  },
  {
   "cell_type": "markdown",
   "metadata": {},
   "source": [
    "Cuando un personaje contenga *&*, *and* o algún caracter de conjunto, será reemplazado por \"multiple\" y significa que en esa escena muchos de los personajes que participan hablan juntos."
   ]
  },
  {
   "cell_type": "code",
   "execution_count": 10,
   "metadata": {},
   "outputs": [
    {
     "name": "stderr",
     "output_type": "stream",
     "text": [
      "/Users/jpnegrete/miniconda3/lib/python3.7/site-packages/ipykernel_launcher.py:2: UserWarning: This pattern has match groups. To actually get the groups, use str.extract.\n",
      "  \n"
     ]
    },
    {
     "data": {
      "text/plain": [
       "692"
      ]
     },
     "execution_count": 10,
     "metadata": {},
     "output_type": "execute_result"
    }
   ],
   "source": [
    "matching = \"( and )|(\\&)|(\\/)|(\\, )\"\n",
    "data['speaker'] = np.where(data['speaker'].str.contains(matching, regex=True), \"multiple\", data['speaker'])\n",
    "len(data.speaker.unique())"
   ]
  },
  {
   "cell_type": "markdown",
   "metadata": {},
   "source": [
    "Utilizamos una librería para medir similaridad entre palabras llamada *difflib*. El método *SequenceMatcher* te da un radio de similitud entre dos palabras, este considera substrings iguales y la longitud de estas. La documentación completa puede ser encontrada __[aquí](https://docs.python.org/2/library/difflib.html#difflib.SequenceMatcher)__. Además, importamos *re* para poder hacer match con regex."
   ]
  },
  {
   "cell_type": "code",
   "execution_count": 11,
   "metadata": {},
   "outputs": [],
   "source": [
    "import difflib"
   ]
  },
  {
   "cell_type": "code",
   "execution_count": 12,
   "metadata": {},
   "outputs": [],
   "source": [
    "# Obtener lista de los personajes\n",
    "speakers = list(data.speaker.unique())"
   ]
  },
  {
   "cell_type": "code",
   "execution_count": 13,
   "metadata": {},
   "outputs": [],
   "source": [
    "# Obtener una lista de pers1/pers2 con similaridad de nombre\n",
    "similarities = []\n",
    "for i in range(len(speakers)):\n",
    "    for j in range(i+1, len(speakers)):\n",
    "        similarities.append([speakers[i],\n",
    "                             speakers[j],\n",
    "                             difflib.SequenceMatcher(None, speakers[i], speakers[j]).ratio()])\n",
    "        \n",
    "# Ordenar lista por similaridad\n",
    "similarities = sorted(similarities, reverse=True, key=lambda value: value[2])"
   ]
  },
  {
   "cell_type": "code",
   "execution_count": 14,
   "metadata": {},
   "outputs": [
    {
     "data": {
      "image/png": "[encoded data removed]",
      "text/plain": [
       "<Figure size 432x288 with 1 Axes>"
      ]
     },
     "metadata": {
      "needs_background": "light"
     },
     "output_type": "display_data"
    }
   ],
   "source": [
    "# Graficar similaridad\n",
    "dictio = {i[0]+\"/\"+i[1]:i[2] for i in similarities}\n",
    "plt.plot(range(0, len(dictio)), dictio.values(), label=\"Similaridad entre pares de personajes\")\n",
    "plt.legend()\n",
    "plt.show()"
   ]
  },
  {
   "cell_type": "markdown",
   "metadata": {},
   "source": [
    "Tenemos varios personajes que no son principales pero hay varios, por ejemplo: *Worker 1* y *Worker 2*. Comenzaremos quitándoles los números con Regex. Además, hay escenas donde se habla por teléfono y se agrega *\\[on phone\\]*, eliminaremos esto también."
   ]
  },
  {
   "cell_type": "code",
   "execution_count": 15,
   "metadata": {},
   "outputs": [
    {
     "data": {
      "text/plain": [
       "648"
      ]
     },
     "execution_count": 15,
     "metadata": {},
     "output_type": "execute_result"
    }
   ],
   "source": [
    "# Regex para los números y teléfono\n",
    "matching = \"( \\#[0-9])|( [0-9])|( \\[on phone\\])\"\n",
    "data['speaker'] = data['speaker'].str.replace(matching, '', regex=True)\n",
    "\n",
    "len(data.speaker.unique())"
   ]
  },
  {
   "cell_type": "markdown",
   "metadata": {},
   "source": [
    "Obtenemos una lista de los personajes significativos, utilizando como criterio aquellos que tengan más de 20 lineas."
   ]
  },
  {
   "cell_type": "code",
   "execution_count": 16,
   "metadata": {},
   "outputs": [
    {
     "data": {
      "image/png": "[encoded data removed]",
      "text/plain": [
       "<Figure size 432x288 with 1 Axes>"
      ]
     },
     "metadata": {
      "needs_background": "light"
     },
     "output_type": "display_data"
    }
   ],
   "source": [
    "# Graficamos lineas por personajes\n",
    "data.groupby(['speaker']).count().sort_values(by='line_text', ascending=False)['line_text'].plot(label=\"Lineas por personaje\")\n",
    "plt.legend()\n",
    "plt.show()"
   ]
  },
  {
   "cell_type": "code",
   "execution_count": 17,
   "metadata": {},
   "outputs": [
    {
     "name": "stdout",
     "output_type": "stream",
     "text": [
      "['michael', 'dwight', 'jim', 'pam', 'andy', 'kevin', 'angela', 'oscar', 'erin', 'ryan', 'darryl', 'phyllis', 'kelly', 'jan', 'toby', 'stanley', 'meredith', 'holly', 'nellie', 'creed', 'gabe', 'robert', 'david', 'karen', 'clark', 'roy', 'deangelo', 'charles', 'pete', 'jo', 'multiple', 'all', 'david wallace', 'katy', 'carol', 'donna', 'todd packer', 'val', 'danny', 'josh', 'jessica', 'packer', 'nate', 'man', 'brian', 'mr brown', 'cathy', 'helene', 'susan', 'hank', 'group', 'todd', 'daryl', 'eric', 'captain jack', 'mose', 'nick', 'trevor', 'aj', 'grotti', 'guy', 'isabel', 'tom', 'bob', \"pam's mom\", 'woman', 'host', 'senator lipton', 'jake', 'nurse', 'lester', 'improv teacher', 'harry', 'mark', 'ben franklin', 'tony', 'melissa', 'hannah', 'bert', 'bar manager', 'irene', 'casey', 'jada', 'pizza guy', 'vikram', 'walter', 'esther']\n"
     ]
    }
   ],
   "source": [
    "# Obtenemos lista\n",
    "main = list(\n",
    "    data\n",
    "    .groupby(['speaker'], as_index=False)\n",
    "    .count()\n",
    "    .query('line_text > 20')\n",
    "    .sort_values(by='line_text', ascending=False)\n",
    "    ['speaker']\n",
    ")\n",
    "print(main)"
   ]
  },
  {
   "cell_type": "markdown",
   "metadata": {},
   "source": [
    "Para cada personaje principal, reemplazamos todos los \"personajes\" que sean al menos un 75% iguales."
   ]
  },
  {
   "cell_type": "code",
   "execution_count": 18,
   "metadata": {},
   "outputs": [
    {
     "data": {
      "text/plain": [
       "591"
      ]
     },
     "execution_count": 18,
     "metadata": {},
     "output_type": "execute_result"
    }
   ],
   "source": [
    "speakers = list(data.speaker.unique())\n",
    "for character in main:\n",
    "    for speaker in speakers:\n",
    "        if(difflib.SequenceMatcher(None, speaker, character).ratio() > .75):\n",
    "            data['speaker'] = np.where(data['speaker'] == speaker, character, data['speaker'])      \n",
    "len(data.speaker.unique())"
   ]
  },
  {
   "cell_type": "markdown",
   "metadata": {},
   "source": [
    "Se logró reducir o eliminar más de 200 personajes que eran fruto de un error de los datos o redundancia. Cerca de **25.8% de los datos eran errores o redundancia**."
   ]
  },
  {
   "cell_type": "code",
   "execution_count": 19,
   "metadata": {},
   "outputs": [
    {
     "data": {
      "image/png": "[encoded data removed]",
      "text/plain": [
       "<Figure size 432x288 with 1 Axes>"
      ]
     },
     "metadata": {
      "needs_background": "light"
     },
     "output_type": "display_data"
    }
   ],
   "source": [
    "plt.bar(['Antes', 'Después'], [raw.speaker.unique().size, data.speaker.unique().size])\n",
    "plt.show()"
   ]
  },
  {
   "cell_type": "markdown",
   "metadata": {},
   "source": [
    "Todos los demás personajes, serán categorizados como extras."
   ]
  },
  {
   "cell_type": "code",
   "execution_count": 20,
   "metadata": {},
   "outputs": [
    {
     "data": {
      "text/plain": [
       "85"
      ]
     },
     "execution_count": 20,
     "metadata": {},
     "output_type": "execute_result"
    }
   ],
   "source": [
    "speakers = list(data.speaker.unique())\n",
    "for speaker in speakers:\n",
    "    if(speaker not in main):\n",
    "        data['speaker'] = np.where(data['speaker'] == speaker, 'extra', data['speaker'])      \n",
    "len(data.speaker.unique())"
   ]
  },
  {
   "cell_type": "code",
   "execution_count": 21,
   "metadata": {},
   "outputs": [
    {
     "data": {
      "image/png": "[encoded data removed]",
      "text/plain": [
       "<Figure size 432x288 with 1 Axes>"
      ]
     },
     "metadata": {
      "needs_background": "light"
     },
     "output_type": "display_data"
    }
   ],
   "source": [
    "plt.bar(['Antes', 'Después'], [raw.speaker.unique().size, data.speaker.unique().size])\n",
    "plt.show()"
   ]
  },
  {
   "cell_type": "markdown",
   "metadata": {},
   "source": [
    "#### Limpieza de líneas\n",
    "En los datos de líneas hay un error de encoding de caracteres especiales. Principalmente en la octava y novena temporada. Los limpiamos con replaces. Debido a que es inglés y hay un gran use de contracciones, la mayoría son comillas."
   ]
  },
  {
   "cell_type": "code",
   "execution_count": 22,
   "metadata": {},
   "outputs": [
    {
     "data": {
      "text/plain": [
       "2559"
      ]
     },
     "execution_count": 22,
     "metadata": {},
     "output_type": "execute_result"
    }
   ],
   "source": [
    "data.query('line_text.str.contains(\"���\")', engine='python').line_text.count()"
   ]
  },
  {
   "cell_type": "code",
   "execution_count": 23,
   "metadata": {},
   "outputs": [
    {
     "data": {
      "text/plain": [
       "0"
      ]
     },
     "execution_count": 23,
     "metadata": {},
     "output_type": "execute_result"
    }
   ],
   "source": [
    "data['line_text'] = data.line_text.str.replace(\"���s\", \"'s\")\n",
    "data['line_text'] = data.line_text.str.replace(\"���m\", \"'m\")\n",
    "data['line_text'] = data.line_text.str.replace(\"n���t\", \"n't\")\n",
    "data['line_text'] = data.line_text.str.replace(\"���ve\", \"'ve\")\n",
    "data['line_text'] = data.line_text.str.replace(\"���ll\", \"'ll\")\n",
    "data['line_text'] = data.line_text.str.replace(\"���re\", \"'re\")\n",
    "data['line_text'] = data.line_text.str.replace(\"���d\", \"'d\")\n",
    "\n",
    "# Lo que suponemos que no son comillas, simplemente son eliminados. Creemos que son -- o cosas por el estilo.\n",
    "data['line_text'] = data.line_text.str.replace(\"���\", \"\")\n",
    "\n",
    "data.query('line_text.str.contains(\"���\")', engine='python').line_text.count()"
   ]
  },
  {
   "cell_type": "markdown",
   "metadata": {},
   "source": [
    "#### Unión con datos de calificación\n",
    "Ahorita solo tenemos los datos de los scripts, es necesario unirlo con los datos de calificación de IMDB. Hacemos el join de los datos."
   ]
  },
  {
   "cell_type": "code",
   "execution_count": 24,
   "metadata": {},
   "outputs": [
    {
     "name": "stderr",
     "output_type": "stream",
     "text": [
      "/Users/jpnegrete/miniconda3/lib/python3.7/site-packages/IPython/core/interactiveshell.py:3020: DtypeWarning: Columns (5) have mixed types. Specify dtype option on import or set low_memory=False.\n",
      "  interactivity=interactivity, compiler=compiler, result=result)\n"
     ]
    }
   ],
   "source": [
    "# Dataset que contiene información básica de series y películas\n",
    "series = pd.read_csv('imdb-data/title.basics.tsv', sep='\\t')\n",
    "\n",
    "# Dataset que relaciona los capítulos con la serie a la que pertenecen\n",
    "episodes = pd.read_csv('imdb-data/title.episode.tsv', sep='\\t')\n",
    "\n",
    "# Dataset de ratings por ID de IMDB\n",
    "ratings = pd.read_csv('imdb-data/title.ratings.tsv', sep='\\t')"
   ]
  },
  {
   "cell_type": "code",
   "execution_count": 25,
   "metadata": {},
   "outputs": [
    {
     "data": {
      "text/html": [
       "<div>\n",
       "<style scoped>\n",
       "    .dataframe tbody tr th:only-of-type {\n",
       "        vertical-align: middle;\n",
       "    }\n",
       "\n",
       "    .dataframe tbody tr th {\n",
       "        vertical-align: top;\n",
       "    }\n",
       "\n",
       "    .dataframe thead th {\n",
       "        text-align: right;\n",
       "    }\n",
       "</style>\n",
       "<table border=\"1\" class=\"dataframe\">\n",
       "  <thead>\n",
       "    <tr style=\"text-align: right;\">\n",
       "      <th></th>\n",
       "      <th>tconst</th>\n",
       "      <th>titleType</th>\n",
       "      <th>primaryTitle</th>\n",
       "      <th>originalTitle</th>\n",
       "      <th>isAdult</th>\n",
       "      <th>startYear</th>\n",
       "      <th>endYear</th>\n",
       "      <th>runtimeMinutes</th>\n",
       "      <th>genres</th>\n",
       "    </tr>\n",
       "  </thead>\n",
       "  <tbody>\n",
       "    <tr>\n",
       "      <th>2117107</th>\n",
       "      <td>tt2199755</td>\n",
       "      <td>tvEpisode</td>\n",
       "      <td>In Case of Complications</td>\n",
       "      <td>In Case of Complications</td>\n",
       "      <td>0</td>\n",
       "      <td>2012</td>\n",
       "      <td>\\N</td>\n",
       "      <td>42</td>\n",
       "      <td>Drama,Fantasy</td>\n",
       "    </tr>\n",
       "    <tr>\n",
       "      <th>1299808</th>\n",
       "      <td>tt1345293</td>\n",
       "      <td>tvEpisode</td>\n",
       "      <td>L'ekrazatator</td>\n",
       "      <td>L'ekrazatator</td>\n",
       "      <td>0</td>\n",
       "      <td>\\N</td>\n",
       "      <td>\\N</td>\n",
       "      <td>\\N</td>\n",
       "      <td>Animation,Family</td>\n",
       "    </tr>\n",
       "    <tr>\n",
       "      <th>3504017</th>\n",
       "      <td>tt5172022</td>\n",
       "      <td>tvEpisode</td>\n",
       "      <td>I Like Pointy Things</td>\n",
       "      <td>I Like Pointy Things</td>\n",
       "      <td>0</td>\n",
       "      <td>2013</td>\n",
       "      <td>\\N</td>\n",
       "      <td>\\N</td>\n",
       "      <td>Reality-TV</td>\n",
       "    </tr>\n",
       "  </tbody>\n",
       "</table>\n",
       "</div>"
      ],
      "text/plain": [
       "            tconst  titleType              primaryTitle  \\\n",
       "2117107  tt2199755  tvEpisode  In Case of Complications   \n",
       "1299808  tt1345293  tvEpisode             L'ekrazatator   \n",
       "3504017  tt5172022  tvEpisode      I Like Pointy Things   \n",
       "\n",
       "                    originalTitle  isAdult startYear endYear runtimeMinutes  \\\n",
       "2117107  In Case of Complications        0      2012      \\N             42   \n",
       "1299808             L'ekrazatator        0        \\N      \\N             \\N   \n",
       "3504017      I Like Pointy Things        0      2013      \\N             \\N   \n",
       "\n",
       "                   genres  \n",
       "2117107     Drama,Fantasy  \n",
       "1299808  Animation,Family  \n",
       "3504017        Reality-TV  "
      ]
     },
     "execution_count": 25,
     "metadata": {},
     "output_type": "execute_result"
    }
   ],
   "source": [
    "series.sample(3)"
   ]
  },
  {
   "cell_type": "code",
   "execution_count": 26,
   "metadata": {},
   "outputs": [
    {
     "data": {
      "text/html": [
       "<div>\n",
       "<style scoped>\n",
       "    .dataframe tbody tr th:only-of-type {\n",
       "        vertical-align: middle;\n",
       "    }\n",
       "\n",
       "    .dataframe tbody tr th {\n",
       "        vertical-align: top;\n",
       "    }\n",
       "\n",
       "    .dataframe thead th {\n",
       "        text-align: right;\n",
       "    }\n",
       "</style>\n",
       "<table border=\"1\" class=\"dataframe\">\n",
       "  <thead>\n",
       "    <tr style=\"text-align: right;\">\n",
       "      <th></th>\n",
       "      <th>tconst</th>\n",
       "      <th>parentTconst</th>\n",
       "      <th>seasonNumber</th>\n",
       "      <th>episodeNumber</th>\n",
       "    </tr>\n",
       "  </thead>\n",
       "  <tbody>\n",
       "    <tr>\n",
       "      <th>2108764</th>\n",
       "      <td>tt4791732</td>\n",
       "      <td>tt3738648</td>\n",
       "      <td>1</td>\n",
       "      <td>20</td>\n",
       "    </tr>\n",
       "    <tr>\n",
       "      <th>791569</th>\n",
       "      <td>tt1506479</td>\n",
       "      <td>tt1483037</td>\n",
       "      <td>1</td>\n",
       "      <td>12</td>\n",
       "    </tr>\n",
       "    <tr>\n",
       "      <th>1296996</th>\n",
       "      <td>tt2263313</td>\n",
       "      <td>tt1260628</td>\n",
       "      <td>1</td>\n",
       "      <td>8</td>\n",
       "    </tr>\n",
       "  </tbody>\n",
       "</table>\n",
       "</div>"
      ],
      "text/plain": [
       "            tconst parentTconst seasonNumber episodeNumber\n",
       "2108764  tt4791732    tt3738648            1            20\n",
       "791569   tt1506479    tt1483037            1            12\n",
       "1296996  tt2263313    tt1260628            1             8"
      ]
     },
     "execution_count": 26,
     "metadata": {},
     "output_type": "execute_result"
    }
   ],
   "source": [
    "episodes.sample(3)"
   ]
  },
  {
   "cell_type": "code",
   "execution_count": 27,
   "metadata": {},
   "outputs": [
    {
     "data": {
      "text/html": [
       "<div>\n",
       "<style scoped>\n",
       "    .dataframe tbody tr th:only-of-type {\n",
       "        vertical-align: middle;\n",
       "    }\n",
       "\n",
       "    .dataframe tbody tr th {\n",
       "        vertical-align: top;\n",
       "    }\n",
       "\n",
       "    .dataframe thead th {\n",
       "        text-align: right;\n",
       "    }\n",
       "</style>\n",
       "<table border=\"1\" class=\"dataframe\">\n",
       "  <thead>\n",
       "    <tr style=\"text-align: right;\">\n",
       "      <th></th>\n",
       "      <th>tconst</th>\n",
       "      <th>averageRating</th>\n",
       "      <th>numVotes</th>\n",
       "    </tr>\n",
       "  </thead>\n",
       "  <tbody>\n",
       "    <tr>\n",
       "      <th>39832</th>\n",
       "      <td>tt0063732</td>\n",
       "      <td>4.9</td>\n",
       "      <td>156</td>\n",
       "    </tr>\n",
       "    <tr>\n",
       "      <th>610906</th>\n",
       "      <td>tt2291941</td>\n",
       "      <td>9.0</td>\n",
       "      <td>6</td>\n",
       "    </tr>\n",
       "    <tr>\n",
       "      <th>10240</th>\n",
       "      <td>tt0027187</td>\n",
       "      <td>5.9</td>\n",
       "      <td>90</td>\n",
       "    </tr>\n",
       "  </tbody>\n",
       "</table>\n",
       "</div>"
      ],
      "text/plain": [
       "           tconst  averageRating  numVotes\n",
       "39832   tt0063732            4.9       156\n",
       "610906  tt2291941            9.0         6\n",
       "10240   tt0027187            5.9        90"
      ]
     },
     "execution_count": 27,
     "metadata": {},
     "output_type": "execute_result"
    }
   ],
   "source": [
    "ratings.sample(3)"
   ]
  },
  {
   "cell_type": "code",
   "execution_count": 28,
   "metadata": {},
   "outputs": [
    {
     "data": {
      "text/html": [
       "<div>\n",
       "<style scoped>\n",
       "    .dataframe tbody tr th:only-of-type {\n",
       "        vertical-align: middle;\n",
       "    }\n",
       "\n",
       "    .dataframe tbody tr th {\n",
       "        vertical-align: top;\n",
       "    }\n",
       "\n",
       "    .dataframe thead th {\n",
       "        text-align: right;\n",
       "    }\n",
       "</style>\n",
       "<table border=\"1\" class=\"dataframe\">\n",
       "  <thead>\n",
       "    <tr style=\"text-align: right;\">\n",
       "      <th></th>\n",
       "      <th>tconst</th>\n",
       "      <th>titleType</th>\n",
       "      <th>primaryTitle</th>\n",
       "      <th>originalTitle</th>\n",
       "      <th>isAdult</th>\n",
       "      <th>startYear</th>\n",
       "      <th>endYear</th>\n",
       "      <th>runtimeMinutes</th>\n",
       "      <th>genres</th>\n",
       "    </tr>\n",
       "  </thead>\n",
       "  <tbody>\n",
       "    <tr>\n",
       "      <th>371134</th>\n",
       "      <td>tt0386676</td>\n",
       "      <td>tvSeries</td>\n",
       "      <td>The Office</td>\n",
       "      <td>The Office</td>\n",
       "      <td>0</td>\n",
       "      <td>2005</td>\n",
       "      <td>2013</td>\n",
       "      <td>22</td>\n",
       "      <td>Comedy</td>\n",
       "    </tr>\n",
       "  </tbody>\n",
       "</table>\n",
       "</div>"
      ],
      "text/plain": [
       "           tconst titleType primaryTitle originalTitle  isAdult startYear  \\\n",
       "371134  tt0386676  tvSeries   The Office    The Office        0      2005   \n",
       "\n",
       "       endYear runtimeMinutes  genres  \n",
       "371134    2013             22  Comedy  "
      ]
     },
     "execution_count": 28,
     "metadata": {},
     "output_type": "execute_result"
    }
   ],
   "source": [
    "# Encontrar el identificador para \"The Office\"\n",
    "q = '(originalTitle.str.contains(\"The Office\")) and (titleType == \"tvSeries\") and (startYear == \"2005\") and (endYear == \"2013\")'\n",
    "series.query(q, engine='python')"
   ]
  },
  {
   "cell_type": "markdown",
   "metadata": {},
   "source": [
    "Podemos notar que *tt0386676* es el identificador de la serie. Por lo que con esto podemos encontrar los capítulos en el segundo dataset."
   ]
  },
  {
   "cell_type": "code",
   "execution_count": 29,
   "metadata": {},
   "outputs": [
    {
     "data": {
      "text/plain": [
       "(188, 4)"
      ]
     },
     "execution_count": 29,
     "metadata": {},
     "output_type": "execute_result"
    }
   ],
   "source": [
    "# Buscamos los episodios pertenecientes a The Office únicamente\n",
    "episodes = episodes.query('parentTconst == \"tt0386676\"', engine='python')\n",
    "episodes.shape"
   ]
  },
  {
   "cell_type": "code",
   "execution_count": 30,
   "metadata": {},
   "outputs": [
    {
     "data": {
      "text/html": [
       "<div>\n",
       "<style scoped>\n",
       "    .dataframe tbody tr th:only-of-type {\n",
       "        vertical-align: middle;\n",
       "    }\n",
       "\n",
       "    .dataframe tbody tr th {\n",
       "        vertical-align: top;\n",
       "    }\n",
       "\n",
       "    .dataframe thead th {\n",
       "        text-align: right;\n",
       "    }\n",
       "</style>\n",
       "<table border=\"1\" class=\"dataframe\">\n",
       "  <thead>\n",
       "    <tr style=\"text-align: right;\">\n",
       "      <th></th>\n",
       "      <th>tconst</th>\n",
       "      <th>parentTconst</th>\n",
       "      <th>seasonNumber</th>\n",
       "      <th>episodeNumber</th>\n",
       "      <th>averageRating</th>\n",
       "      <th>numVotes</th>\n",
       "    </tr>\n",
       "  </thead>\n",
       "  <tbody>\n",
       "    <tr>\n",
       "      <th>132</th>\n",
       "      <td>tt1832204</td>\n",
       "      <td>tt0386676</td>\n",
       "      <td>7</td>\n",
       "      <td>17</td>\n",
       "      <td>7.5</td>\n",
       "      <td>1358</td>\n",
       "    </tr>\n",
       "    <tr>\n",
       "      <th>166</th>\n",
       "      <td>tt2366115</td>\n",
       "      <td>tt0386676</td>\n",
       "      <td>8</td>\n",
       "      <td>23</td>\n",
       "      <td>7.8</td>\n",
       "      <td>1192</td>\n",
       "    </tr>\n",
       "    <tr>\n",
       "      <th>50</th>\n",
       "      <td>tt1028389</td>\n",
       "      <td>tt0386676</td>\n",
       "      <td>3</td>\n",
       "      <td>22</td>\n",
       "      <td>9.1</td>\n",
       "      <td>2418</td>\n",
       "    </tr>\n",
       "    <tr>\n",
       "      <th>85</th>\n",
       "      <td>tt1248752</td>\n",
       "      <td>tt0386676</td>\n",
       "      <td>5</td>\n",
       "      <td>8</td>\n",
       "      <td>8.6</td>\n",
       "      <td>1790</td>\n",
       "    </tr>\n",
       "    <tr>\n",
       "      <th>4</th>\n",
       "      <td>tt0664514</td>\n",
       "      <td>tt0386676</td>\n",
       "      <td>1</td>\n",
       "      <td>2</td>\n",
       "      <td>8.3</td>\n",
       "      <td>3059</td>\n",
       "    </tr>\n",
       "  </tbody>\n",
       "</table>\n",
       "</div>"
      ],
      "text/plain": [
       "        tconst parentTconst seasonNumber episodeNumber  averageRating  \\\n",
       "132  tt1832204    tt0386676            7            17            7.5   \n",
       "166  tt2366115    tt0386676            8            23            7.8   \n",
       "50   tt1028389    tt0386676            3            22            9.1   \n",
       "85   tt1248752    tt0386676            5             8            8.6   \n",
       "4    tt0664514    tt0386676            1             2            8.3   \n",
       "\n",
       "     numVotes  \n",
       "132      1358  \n",
       "166      1192  \n",
       "50       2418  \n",
       "85       1790  \n",
       "4        3059  "
      ]
     },
     "execution_count": 30,
     "metadata": {},
     "output_type": "execute_result"
    }
   ],
   "source": [
    "# Hacemos un left merge para asignar su calificación a cada capítulo y descartar las demás calificaciones\n",
    "episodes = episodes.merge(ratings, left_on='tconst', right_on='tconst', how='left')\n",
    "episodes.sample(5)"
   ]
  },
  {
   "cell_type": "code",
   "execution_count": 31,
   "metadata": {},
   "outputs": [],
   "source": [
    "# Hacemos un mapping the str a int\n",
    "episodes['episodeNumber'] = episodes['episodeNumber'].map(int)\n",
    "episodes['seasonNumber'] = episodes['seasonNumber'].map(int)"
   ]
  },
  {
   "cell_type": "code",
   "execution_count": 32,
   "metadata": {},
   "outputs": [],
   "source": [
    "# Realizamos el merge de los datos de script con las calificaciones\n",
    "full = data.merge(episodes, left_on=['season', 'episode'] , right_on=['seasonNumber', 'episodeNumber'], how='outer')"
   ]
  },
  {
   "cell_type": "code",
   "execution_count": 33,
   "metadata": {},
   "outputs": [
    {
     "data": {
      "text/plain": [
       "season           2\n",
       "episode          2\n",
       "scene            2\n",
       "line_text        2\n",
       "speaker          2\n",
       "deleted          2\n",
       "tconst           0\n",
       "parentTconst     0\n",
       "seasonNumber     0\n",
       "episodeNumber    0\n",
       "averageRating    0\n",
       "numVotes         0\n",
       "dtype: int64"
      ]
     },
     "execution_count": 33,
     "metadata": {},
     "output_type": "execute_result"
    }
   ],
   "source": [
    "# Vemos si hubo errores en merge\n",
    "full.isna().sum()"
   ]
  },
  {
   "cell_type": "code",
   "execution_count": 34,
   "metadata": {},
   "outputs": [
    {
     "data": {
      "text/html": [
       "<div>\n",
       "<style scoped>\n",
       "    .dataframe tbody tr th:only-of-type {\n",
       "        vertical-align: middle;\n",
       "    }\n",
       "\n",
       "    .dataframe tbody tr th {\n",
       "        vertical-align: top;\n",
       "    }\n",
       "\n",
       "    .dataframe thead th {\n",
       "        text-align: right;\n",
       "    }\n",
       "</style>\n",
       "<table border=\"1\" class=\"dataframe\">\n",
       "  <thead>\n",
       "    <tr style=\"text-align: right;\">\n",
       "      <th></th>\n",
       "      <th>season</th>\n",
       "      <th>episode</th>\n",
       "      <th>scene</th>\n",
       "      <th>line_text</th>\n",
       "      <th>speaker</th>\n",
       "      <th>deleted</th>\n",
       "      <th>tconst</th>\n",
       "      <th>parentTconst</th>\n",
       "      <th>seasonNumber</th>\n",
       "      <th>episodeNumber</th>\n",
       "      <th>averageRating</th>\n",
       "      <th>numVotes</th>\n",
       "    </tr>\n",
       "  </thead>\n",
       "  <tbody>\n",
       "    <tr>\n",
       "      <th>44167</th>\n",
       "      <td>7.0</td>\n",
       "      <td>20.0</td>\n",
       "      <td>10.0</td>\n",
       "      <td>[smiling] Okay, well we'll work on it.</td>\n",
       "      <td>michael</td>\n",
       "      <td>False</td>\n",
       "      <td>tt1833196</td>\n",
       "      <td>tt0386676</td>\n",
       "      <td>7</td>\n",
       "      <td>20</td>\n",
       "      <td>8.9</td>\n",
       "      <td>1857</td>\n",
       "    </tr>\n",
       "    <tr>\n",
       "      <th>43776</th>\n",
       "      <td>7.0</td>\n",
       "      <td>18.0</td>\n",
       "      <td>26.0</td>\n",
       "      <td>Is he alright?</td>\n",
       "      <td>michael</td>\n",
       "      <td>False</td>\n",
       "      <td>tt1833194</td>\n",
       "      <td>tt0386676</td>\n",
       "      <td>7</td>\n",
       "      <td>18</td>\n",
       "      <td>9.2</td>\n",
       "      <td>2344</td>\n",
       "    </tr>\n",
       "    <tr>\n",
       "      <th>33960</th>\n",
       "      <td>6.0</td>\n",
       "      <td>10.0</td>\n",
       "      <td>28.0</td>\n",
       "      <td>Can you believe this? The money they spent on ...</td>\n",
       "      <td>oscar</td>\n",
       "      <td>False</td>\n",
       "      <td>tt1535367</td>\n",
       "      <td>tt0386676</td>\n",
       "      <td>6</td>\n",
       "      <td>10</td>\n",
       "      <td>8.6</td>\n",
       "      <td>1701</td>\n",
       "    </tr>\n",
       "  </tbody>\n",
       "</table>\n",
       "</div>"
      ],
      "text/plain": [
       "       season  episode  scene  \\\n",
       "44167     7.0     20.0   10.0   \n",
       "43776     7.0     18.0   26.0   \n",
       "33960     6.0     10.0   28.0   \n",
       "\n",
       "                                               line_text  speaker deleted  \\\n",
       "44167             [smiling] Okay, well we'll work on it.  michael   False   \n",
       "43776                                     Is he alright?  michael   False   \n",
       "33960  Can you believe this? The money they spent on ...    oscar   False   \n",
       "\n",
       "          tconst parentTconst  seasonNumber  episodeNumber  averageRating  \\\n",
       "44167  tt1833196    tt0386676             7             20            8.9   \n",
       "43776  tt1833194    tt0386676             7             18            9.2   \n",
       "33960  tt1535367    tt0386676             6             10            8.6   \n",
       "\n",
       "       numVotes  \n",
       "44167      1857  \n",
       "43776      2344  \n",
       "33960      1701  "
      ]
     },
     "execution_count": 34,
     "metadata": {},
     "output_type": "execute_result"
    }
   ],
   "source": [
    "# Tenemos calificaciones para dos capítulos. Probablemente error de capítulos especiales (a veces contados como 2)\n",
    "full = full.dropna()\n",
    "full.sample(3)"
   ]
  },
  {
   "cell_type": "code",
   "execution_count": 35,
   "metadata": {},
   "outputs": [
    {
     "data": {
      "text/html": [
       "<div>\n",
       "<style scoped>\n",
       "    .dataframe tbody tr th:only-of-type {\n",
       "        vertical-align: middle;\n",
       "    }\n",
       "\n",
       "    .dataframe tbody tr th {\n",
       "        vertical-align: top;\n",
       "    }\n",
       "\n",
       "    .dataframe thead th {\n",
       "        text-align: right;\n",
       "    }\n",
       "</style>\n",
       "<table border=\"1\" class=\"dataframe\">\n",
       "  <thead>\n",
       "    <tr style=\"text-align: right;\">\n",
       "      <th></th>\n",
       "      <th>season</th>\n",
       "      <th>episode</th>\n",
       "      <th>scene</th>\n",
       "      <th>line_text</th>\n",
       "      <th>speaker</th>\n",
       "      <th>deleted</th>\n",
       "      <th>averageRating</th>\n",
       "      <th>numVotes</th>\n",
       "    </tr>\n",
       "  </thead>\n",
       "  <tbody>\n",
       "    <tr>\n",
       "      <th>13889</th>\n",
       "      <td>3.0</td>\n",
       "      <td>15.0</td>\n",
       "      <td>23.0</td>\n",
       "      <td>I look</td>\n",
       "      <td>kelly</td>\n",
       "      <td>False</td>\n",
       "      <td>8.3</td>\n",
       "      <td>1964</td>\n",
       "    </tr>\n",
       "    <tr>\n",
       "      <th>51803</th>\n",
       "      <td>8.0</td>\n",
       "      <td>21.0</td>\n",
       "      <td>26.0</td>\n",
       "      <td>Erin, I am so glad that you trusted me. You ca...</td>\n",
       "      <td>dwight</td>\n",
       "      <td>False</td>\n",
       "      <td>7.2</td>\n",
       "      <td>1362</td>\n",
       "    </tr>\n",
       "    <tr>\n",
       "      <th>48331</th>\n",
       "      <td>8.0</td>\n",
       "      <td>9.0</td>\n",
       "      <td>32.0</td>\n",
       "      <td>This is my gym, my rules. You do exactly as I ...</td>\n",
       "      <td>dwight</td>\n",
       "      <td>False</td>\n",
       "      <td>7.8</td>\n",
       "      <td>1326</td>\n",
       "    </tr>\n",
       "  </tbody>\n",
       "</table>\n",
       "</div>"
      ],
      "text/plain": [
       "       season  episode  scene  \\\n",
       "13889     3.0     15.0   23.0   \n",
       "51803     8.0     21.0   26.0   \n",
       "48331     8.0      9.0   32.0   \n",
       "\n",
       "                                               line_text speaker deleted  \\\n",
       "13889                                             I look   kelly   False   \n",
       "51803  Erin, I am so glad that you trusted me. You ca...  dwight   False   \n",
       "48331  This is my gym, my rules. You do exactly as I ...  dwight   False   \n",
       "\n",
       "       averageRating  numVotes  \n",
       "13889            8.3      1964  \n",
       "51803            7.2      1362  \n",
       "48331            7.8      1326  "
      ]
     },
     "execution_count": 35,
     "metadata": {},
     "output_type": "execute_result"
    }
   ],
   "source": [
    "# Eliminamos toda la información (columnas) que no nos sirven\n",
    "full = full.drop(['tconst', 'parentTconst', 'seasonNumber', 'episodeNumber'], axis=1)\n",
    "full.sample(3)"
   ]
  },
  {
   "cell_type": "code",
   "execution_count": 36,
   "metadata": {},
   "outputs": [
    {
     "data": {
      "image/png": "[encoded data removed]",
      "text/plain": [
       "<Figure size 432x288 with 1 Axes>"
      ]
     },
     "metadata": {
      "needs_background": "light"
     },
     "output_type": "display_data"
    }
   ],
   "source": [
    "# Mostramos las calificaciones por capítulo\n",
    "full.groupby(['season', 'episode'])['averageRating'].mean().plot(label='Calificaciones')\n",
    "plt.hlines(\n",
    "    y=full.groupby(['season', 'episode'])['averageRating'].mean().mean(),\n",
    "    linestyles='--',\n",
    "    color='r',\n",
    "    xmin=0,\n",
    "    xmax=190,\n",
    "    label=\"Promedio: {:.2f}\".format(full.groupby(['season', 'episode'])['averageRating'].mean().mean()))\n",
    "plt.hlines(\n",
    "    y=full.groupby(['season', 'episode'])['averageRating'].mean().median(),\n",
    "    linestyles='--',\n",
    "    color='y',\n",
    "    xmin=0,\n",
    "    xmax=190,\n",
    "    label=\"Mediana: {:.2f}\".format(full.groupby(['season', 'episode'])['averageRating'].mean().median()))\n",
    "plt.legend()\n",
    "plt.show()"
   ]
  },
  {
   "cell_type": "code",
   "execution_count": 37,
   "metadata": {},
   "outputs": [
    {
     "name": "stdout",
     "output_type": "stream",
     "text": [
      "Máxima: 6788 - Mínima: 1181\n"
     ]
    }
   ],
   "source": [
    "print('Máxima:', full.numVotes.max(), '- Mínima:', full.numVotes.min())"
   ]
  },
  {
   "cell_type": "code",
   "execution_count": 38,
   "metadata": {},
   "outputs": [
    {
     "data": {
      "image/png": "[encoded data removed]",
      "text/plain": [
       "<Figure size 432x288 with 1 Axes>"
      ]
     },
     "metadata": {
      "needs_background": "light"
     },
     "output_type": "display_data"
    }
   ],
   "source": [
    "# Mostramos el número de votos de cada capítulo\n",
    "full.groupby(['season', 'episode'])['numVotes'].mean().plot(label='Número de votos')\n",
    "plt.hlines(\n",
    "    y=full.groupby(['season', 'episode'])['numVotes'].mean().mean(),\n",
    "    linestyles='--',\n",
    "    color='g',\n",
    "    xmin=0,\n",
    "    xmax=190,\n",
    "    label=\"Promedio: {:.2f}\".format(full.groupby(['season', 'episode'])['numVotes'].mean().mean()))\n",
    "plt.legend()\n",
    "plt.show()"
   ]
  },
  {
   "cell_type": "code",
   "execution_count": 39,
   "metadata": {},
   "outputs": [
    {
     "data": {
      "image/png": "[encoded data removed]",
      "text/plain": [
       "<Figure size 432x288 with 1 Axes>"
      ]
     },
     "metadata": {
      "needs_background": "light"
     },
     "output_type": "display_data"
    }
   ],
   "source": [
    "# Pequeña función para escalar y poder graficar en conjunto\n",
    "def escala(x):\n",
    "    return x*1000\n",
    "\n",
    "# Graficamos ambas\n",
    "full.groupby(['season', 'episode'])['averageRating'].mean().apply(escala).plot(label='Calificaciones')\n",
    "plt.hlines(\n",
    "    y=full.groupby(['season', 'episode'])['averageRating'].mean().apply(escala).mean(),\n",
    "    linestyles='--',\n",
    "    color='r',\n",
    "    xmin=0,\n",
    "    xmax=190,\n",
    "    label=\"Promedio calif: {:.2f}\".format(full.groupby(['season', 'episode'])['averageRating'].mean().mean()))\n",
    "plt.hlines(\n",
    "    y=full.groupby(['season', 'episode'])['averageRating'].mean().apply(escala).median(),\n",
    "    linestyles='--',\n",
    "    color='y',\n",
    "    xmin=0,\n",
    "    xmax=190,\n",
    "    label=\"Mediana calif: {:.2f}\".format(full.groupby(['season', 'episode'])['averageRating'].mean().median()))\n",
    "full.groupby(['season', 'episode'])['numVotes'].mean().plot(label='Número de votos')\n",
    "plt.hlines(\n",
    "    y=full.groupby(['season', 'episode'])['numVotes'].mean().mean(),\n",
    "    linestyles='--',\n",
    "    color='g',\n",
    "    xmin=0,\n",
    "    xmax=190,\n",
    "    label=\"Promedio votos: {:.2f}\".format(full.groupby(['season', 'episode'])['numVotes'].mean().mean()))\n",
    "plt.legend()\n",
    "plt.show()"
   ]
  },
  {
   "cell_type": "markdown",
   "metadata": {},
   "source": [
    "## Aprendizaje (primer acercamiento)\n",
    "\n",
    "A partir de este momento comenzaremos a trabajar con clases de sklearn. Por esto, importaremos las clases generales."
   ]
  },
  {
   "cell_type": "code",
   "execution_count": 40,
   "metadata": {},
   "outputs": [],
   "source": [
    "# Importar clases de Cross Validation, partición del conjunto y métricas\n",
    "from sklearn.model_selection import GridSearchCV\n",
    "from sklearn.model_selection import train_test_split, cross_validate\n",
    "from sklearn.metrics import confusion_matrix, f1_score\n",
    "\n",
    "# Binarize multiclass\n",
    "from sklearn.preprocessing import label_binarize"
   ]
  },
  {
   "cell_type": "markdown",
   "metadata": {},
   "source": [
    "### Justificación\n",
    "Intentaremos hacer aprendizaje supervisado con las calificaciones. Debido a que las calificaciones son un número real, las convertiremos en clases con base en el promedio y la mediana.\n",
    "\n",
    "Definimos las clases de la siguiente manera:\n",
    " - Muy bueno: superior a 8.6\n",
    " - Bueno: inferior a 8.6 y superior a 8.3\n",
    " - Malo: inferior a 8.3 y superior a 8.0\n",
    " - Muy malo: inferior a 8.0\n",
    "\n",
    "**Problema**: tenemos calificaciones por capítulo, no por escena. Por lo que realizaremos un acercamiento por capítulo.\n",
    "\n",
    "En este acercamiento utilizaremos los siguientes datos para predecir:\n",
    " - Número de líneas de personajes principales en cada capítulo.\n",
    " - Agragado del sentimiento de todas las escenas del capítulo."
   ]
  },
  {
   "cell_type": "code",
   "execution_count": 41,
   "metadata": {},
   "outputs": [],
   "source": [
    "# Definimos nuestra función de clasificación\n",
    "def classify(x):\n",
    "    if(x < 8.0):\n",
    "        return 'muy malo'\n",
    "    elif(x < 8.3):\n",
    "        return 'malo'\n",
    "    elif(x < 8.6):\n",
    "        return 'bueno'\n",
    "    else:\n",
    "        return 'muy bueno'"
   ]
  },
  {
   "cell_type": "code",
   "execution_count": 42,
   "metadata": {},
   "outputs": [],
   "source": [
    "# Realizamos un pivot table para tener las líneas por personaje por escena\n",
    "test = full.pivot_table(index = ['season', 'episode', 'scene'],\n",
    "                        columns='speaker',\n",
    "                        aggfunc=len,\n",
    "                        fill_value=0,\n",
    "                        values='line_text')"
   ]
  },
  {
   "cell_type": "code",
   "execution_count": 43,
   "metadata": {},
   "outputs": [
    {
     "data": {
      "image/png": "[encoded data removed]",
      "text/plain": [
       "<Figure size 432x288 with 1 Axes>"
      ]
     },
     "metadata": {
      "needs_background": "light"
     },
     "output_type": "display_data"
    }
   ],
   "source": [
    "# Graficamos un preview de nuestros datos\n",
    "test.michael.plot(label='Michael')\n",
    "test.pam.plot(label='Pam')\n",
    "test.erin.plot(label='Erin')\n",
    "test.stanley.plot(label='Stanley')\n",
    "plt.legend()\n",
    "plt.title('Líneas por escena')\n",
    "plt.show()"
   ]
  },
  {
   "cell_type": "code",
   "execution_count": 44,
   "metadata": {},
   "outputs": [],
   "source": [
    "# Definimos una función para concatenar el texto por escena\n",
    "def organiza(x):\n",
    "    return pd.Series(dict(texto = ' '.join(x['line_text'])))"
   ]
  },
  {
   "cell_type": "code",
   "execution_count": 45,
   "metadata": {},
   "outputs": [
    {
     "data": {
      "text/html": [
       "<div>\n",
       "<style scoped>\n",
       "    .dataframe tbody tr th:only-of-type {\n",
       "        vertical-align: middle;\n",
       "    }\n",
       "\n",
       "    .dataframe tbody tr th {\n",
       "        vertical-align: top;\n",
       "    }\n",
       "\n",
       "    .dataframe thead th {\n",
       "        text-align: right;\n",
       "    }\n",
       "</style>\n",
       "<table border=\"1\" class=\"dataframe\">\n",
       "  <thead>\n",
       "    <tr style=\"text-align: right;\">\n",
       "      <th></th>\n",
       "      <th></th>\n",
       "      <th></th>\n",
       "      <th>aj</th>\n",
       "      <th>all</th>\n",
       "      <th>andy</th>\n",
       "      <th>angela</th>\n",
       "      <th>bar manager</th>\n",
       "      <th>ben franklin</th>\n",
       "      <th>bert</th>\n",
       "      <th>bob</th>\n",
       "      <th>brian</th>\n",
       "      <th>captain jack</th>\n",
       "      <th>...</th>\n",
       "      <th>todd</th>\n",
       "      <th>todd packer</th>\n",
       "      <th>tom</th>\n",
       "      <th>tony</th>\n",
       "      <th>trevor</th>\n",
       "      <th>val</th>\n",
       "      <th>vikram</th>\n",
       "      <th>walter</th>\n",
       "      <th>woman</th>\n",
       "      <th>texto</th>\n",
       "    </tr>\n",
       "    <tr>\n",
       "      <th>season</th>\n",
       "      <th>episode</th>\n",
       "      <th>scene</th>\n",
       "      <th></th>\n",
       "      <th></th>\n",
       "      <th></th>\n",
       "      <th></th>\n",
       "      <th></th>\n",
       "      <th></th>\n",
       "      <th></th>\n",
       "      <th></th>\n",
       "      <th></th>\n",
       "      <th></th>\n",
       "      <th></th>\n",
       "      <th></th>\n",
       "      <th></th>\n",
       "      <th></th>\n",
       "      <th></th>\n",
       "      <th></th>\n",
       "      <th></th>\n",
       "      <th></th>\n",
       "      <th></th>\n",
       "      <th></th>\n",
       "      <th></th>\n",
       "    </tr>\n",
       "  </thead>\n",
       "  <tbody>\n",
       "    <tr>\n",
       "      <th>2.0</th>\n",
       "      <th>6.0</th>\n",
       "      <th>25.0</th>\n",
       "      <td>0</td>\n",
       "      <td>0</td>\n",
       "      <td>0</td>\n",
       "      <td>0</td>\n",
       "      <td>0</td>\n",
       "      <td>0</td>\n",
       "      <td>0</td>\n",
       "      <td>0</td>\n",
       "      <td>0</td>\n",
       "      <td>0</td>\n",
       "      <td>...</td>\n",
       "      <td>0</td>\n",
       "      <td>0</td>\n",
       "      <td>0</td>\n",
       "      <td>0</td>\n",
       "      <td>0</td>\n",
       "      <td>0</td>\n",
       "      <td>0</td>\n",
       "      <td>0</td>\n",
       "      <td>0</td>\n",
       "      <td>You talkin' to me? You talkin' to me? 'Raging ...</td>\n",
       "    </tr>\n",
       "    <tr>\n",
       "      <th>5.0</th>\n",
       "      <th>21.0</th>\n",
       "      <th>40.0</th>\n",
       "      <td>0</td>\n",
       "      <td>0</td>\n",
       "      <td>6</td>\n",
       "      <td>0</td>\n",
       "      <td>0</td>\n",
       "      <td>0</td>\n",
       "      <td>0</td>\n",
       "      <td>0</td>\n",
       "      <td>0</td>\n",
       "      <td>0</td>\n",
       "      <td>...</td>\n",
       "      <td>0</td>\n",
       "      <td>0</td>\n",
       "      <td>0</td>\n",
       "      <td>0</td>\n",
       "      <td>0</td>\n",
       "      <td>0</td>\n",
       "      <td>0</td>\n",
       "      <td>0</td>\n",
       "      <td>0</td>\n",
       "      <td>Literally every song is better a cappella. Nam...</td>\n",
       "    </tr>\n",
       "    <tr>\n",
       "      <th>7.0</th>\n",
       "      <th>24.0</th>\n",
       "      <th>47.0</th>\n",
       "      <td>0</td>\n",
       "      <td>0</td>\n",
       "      <td>0</td>\n",
       "      <td>0</td>\n",
       "      <td>0</td>\n",
       "      <td>0</td>\n",
       "      <td>0</td>\n",
       "      <td>0</td>\n",
       "      <td>0</td>\n",
       "      <td>0</td>\n",
       "      <td>...</td>\n",
       "      <td>0</td>\n",
       "      <td>0</td>\n",
       "      <td>0</td>\n",
       "      <td>0</td>\n",
       "      <td>0</td>\n",
       "      <td>0</td>\n",
       "      <td>0</td>\n",
       "      <td>0</td>\n",
       "      <td>0</td>\n",
       "      <td>Um, how do I know that Robert is gay? He 'like...</td>\n",
       "    </tr>\n",
       "  </tbody>\n",
       "</table>\n",
       "<p>3 rows × 86 columns</p>\n",
       "</div>"
      ],
      "text/plain": [
       "                      aj  all  andy  angela  bar manager  ben franklin  bert  \\\n",
       "season episode scene                                                           \n",
       "2.0    6.0     25.0    0    0     0       0            0             0     0   \n",
       "5.0    21.0    40.0    0    0     6       0            0             0     0   \n",
       "7.0    24.0    47.0    0    0     0       0            0             0     0   \n",
       "\n",
       "                      bob  brian  captain jack  \\\n",
       "season episode scene                             \n",
       "2.0    6.0     25.0     0      0             0   \n",
       "5.0    21.0    40.0     0      0             0   \n",
       "7.0    24.0    47.0     0      0             0   \n",
       "\n",
       "                                            ...                          todd  \\\n",
       "season episode scene                        ...                                 \n",
       "2.0    6.0     25.0                         ...                             0   \n",
       "5.0    21.0    40.0                         ...                             0   \n",
       "7.0    24.0    47.0                         ...                             0   \n",
       "\n",
       "                      todd packer  tom  tony  trevor  val  vikram  walter  \\\n",
       "season episode scene                                                        \n",
       "2.0    6.0     25.0             0    0     0       0    0       0       0   \n",
       "5.0    21.0    40.0             0    0     0       0    0       0       0   \n",
       "7.0    24.0    47.0             0    0     0       0    0       0       0   \n",
       "\n",
       "                      woman                                              texto  \n",
       "season episode scene                                                            \n",
       "2.0    6.0     25.0       0  You talkin' to me? You talkin' to me? 'Raging ...  \n",
       "5.0    21.0    40.0       0  Literally every song is better a cappella. Nam...  \n",
       "7.0    24.0    47.0       0  Um, how do I know that Robert is gay? He 'like...  \n",
       "\n",
       "[3 rows x 86 columns]"
      ]
     },
     "execution_count": 45,
     "metadata": {},
     "output_type": "execute_result"
    }
   ],
   "source": [
    "# Realizamos el merge con el texto\n",
    "text = full.groupby(['season', 'episode', 'scene'], as_index=False).apply(organiza)\n",
    "test = test.merge(text, left_on=['season', 'episode', 'scene'] , right_on=['season', 'episode', 'scene'], how='outer')\n",
    "test.sample(3)"
   ]
  },
  {
   "cell_type": "markdown",
   "metadata": {},
   "source": [
    "Para el análisis de sentimiento utilizaremos una herramienta de NLTK llamada VADER (Valence Aware Dictionary and sEntiment Reasoner). Este consiste en asignar una polaridad de sentimiento a cada palabra del texto a analizar con una base de datos que ya tiene (por lo que no requerimos entrenarlo). Utilizamos la librería por la facilidad."
   ]
  },
  {
   "cell_type": "code",
   "execution_count": 46,
   "metadata": {},
   "outputs": [
    {
     "name": "stderr",
     "output_type": "stream",
     "text": [
      "[nltk_data] Downloading package vader_lexicon to\n",
      "[nltk_data]     /Users/jpnegrete/nltk_data...\n",
      "[nltk_data]   Package vader_lexicon is already up-to-date!\n"
     ]
    }
   ],
   "source": [
    "# Importamos NLTK y descargamos Vader.\n",
    "import nltk\n",
    "nltk.download('vader_lexicon')\n",
    "from nltk.sentiment.vader import SentimentIntensityAnalyzer"
   ]
  },
  {
   "cell_type": "code",
   "execution_count": 47,
   "metadata": {},
   "outputs": [],
   "source": [
    "# Instaciamos\n",
    "sid = SentimentIntensityAnalyzer()"
   ]
  },
  {
   "cell_type": "code",
   "execution_count": 48,
   "metadata": {},
   "outputs": [],
   "source": [
    "# Definimos una función para polaridad, por cada palabra regresamos el compound (resultado final) de su polaridad\n",
    "def sentiment(x):\n",
    "    return sid.polarity_scores(x)['compound']"
   ]
  },
  {
   "cell_type": "code",
   "execution_count": 49,
   "metadata": {},
   "outputs": [],
   "source": [
    "# Asignamos una columna para el sentimiento\n",
    "test = test.assign(what = lambda x: x.texto.apply(sentiment))"
   ]
  },
  {
   "cell_type": "code",
   "execution_count": 50,
   "metadata": {},
   "outputs": [
    {
     "data": {
      "image/png": "[encoded data removed]",
      "text/plain": [
       "<Figure size 432x288 with 1 Axes>"
      ]
     },
     "metadata": {
      "needs_background": "light"
     },
     "output_type": "display_data"
    }
   ],
   "source": [
    "test.what.hist(bins=100, label='Escenas / polaridad')\n",
    "plt.legend()\n",
    "plt.title('Histograma de polaridad por escena')\n",
    "plt.show()"
   ]
  },
  {
   "cell_type": "markdown",
   "metadata": {},
   "source": [
    "Podemos notar que muchas escenas no tienen polaridad. Esto tiene sentido si consideramos que la serie graba conversaciones comunes y palabras como \"Hola\" no tienen ninguna connotación o positiva o negativa. También vemos que la densidad está cargada hacía el lado positivo, que tiene sentido ya que es una serie de comedia."
   ]
  },
  {
   "cell_type": "code",
   "execution_count": 51,
   "metadata": {},
   "outputs": [],
   "source": [
    "# Hacemos la agrupación por capítulo y episodio utilizando como función de agregación la suma\n",
    "test = test.groupby(['season', 'episode']).sum()"
   ]
  },
  {
   "cell_type": "code",
   "execution_count": 52,
   "metadata": {},
   "outputs": [
    {
     "data": {
      "image/png": "[encoded data removed]",
      "text/plain": [
       "<Figure size 432x288 with 1 Axes>"
      ]
     },
     "metadata": {
      "needs_background": "light"
     },
     "output_type": "display_data"
    }
   ],
   "source": [
    "test.what.hist(bins=20, label='Capítulos / polaridad')\n",
    "plt.legend()\n",
    "plt.title('Histograma de polaridad por capítulos')\n",
    "plt.show()"
   ]
  },
  {
   "cell_type": "markdown",
   "metadata": {},
   "source": [
    "Podemos notar que la polaridad quedó positiva para todos los capítulos. Tiene sentido ya que esta en las escenas es desbalanceada y cargada a lo positivo."
   ]
  },
  {
   "cell_type": "code",
   "execution_count": 53,
   "metadata": {},
   "outputs": [],
   "source": [
    "# Realizamos una función para definir las calificaciones por capítulo en un DF\n",
    "def frates(x):\n",
    "    return pd.Series(dict(rate = x['averageRating'].mean()))"
   ]
  },
  {
   "cell_type": "code",
   "execution_count": 54,
   "metadata": {},
   "outputs": [
    {
     "data": {
      "text/html": [
       "<div>\n",
       "<style scoped>\n",
       "    .dataframe tbody tr th:only-of-type {\n",
       "        vertical-align: middle;\n",
       "    }\n",
       "\n",
       "    .dataframe tbody tr th {\n",
       "        vertical-align: top;\n",
       "    }\n",
       "\n",
       "    .dataframe thead th {\n",
       "        text-align: right;\n",
       "    }\n",
       "</style>\n",
       "<table border=\"1\" class=\"dataframe\">\n",
       "  <thead>\n",
       "    <tr style=\"text-align: right;\">\n",
       "      <th></th>\n",
       "      <th></th>\n",
       "      <th>aj</th>\n",
       "      <th>all</th>\n",
       "      <th>andy</th>\n",
       "      <th>angela</th>\n",
       "      <th>bar manager</th>\n",
       "      <th>ben franklin</th>\n",
       "      <th>bert</th>\n",
       "      <th>bob</th>\n",
       "      <th>brian</th>\n",
       "      <th>captain jack</th>\n",
       "      <th>...</th>\n",
       "      <th>todd packer</th>\n",
       "      <th>tom</th>\n",
       "      <th>tony</th>\n",
       "      <th>trevor</th>\n",
       "      <th>val</th>\n",
       "      <th>vikram</th>\n",
       "      <th>walter</th>\n",
       "      <th>woman</th>\n",
       "      <th>what</th>\n",
       "      <th>rate</th>\n",
       "    </tr>\n",
       "    <tr>\n",
       "      <th>season</th>\n",
       "      <th>episode</th>\n",
       "      <th></th>\n",
       "      <th></th>\n",
       "      <th></th>\n",
       "      <th></th>\n",
       "      <th></th>\n",
       "      <th></th>\n",
       "      <th></th>\n",
       "      <th></th>\n",
       "      <th></th>\n",
       "      <th></th>\n",
       "      <th></th>\n",
       "      <th></th>\n",
       "      <th></th>\n",
       "      <th></th>\n",
       "      <th></th>\n",
       "      <th></th>\n",
       "      <th></th>\n",
       "      <th></th>\n",
       "      <th></th>\n",
       "      <th></th>\n",
       "      <th></th>\n",
       "    </tr>\n",
       "  </thead>\n",
       "  <tbody>\n",
       "    <tr>\n",
       "      <th>5.0</th>\n",
       "      <th>7.0</th>\n",
       "      <td>0</td>\n",
       "      <td>0</td>\n",
       "      <td>69</td>\n",
       "      <td>10</td>\n",
       "      <td>0</td>\n",
       "      <td>0</td>\n",
       "      <td>0</td>\n",
       "      <td>0</td>\n",
       "      <td>0</td>\n",
       "      <td>0</td>\n",
       "      <td>...</td>\n",
       "      <td>0</td>\n",
       "      <td>0</td>\n",
       "      <td>0</td>\n",
       "      <td>0</td>\n",
       "      <td>0</td>\n",
       "      <td>0</td>\n",
       "      <td>0</td>\n",
       "      <td>0</td>\n",
       "      <td>14.9504</td>\n",
       "      <td>8.3</td>\n",
       "    </tr>\n",
       "    <tr>\n",
       "      <th>3.0</th>\n",
       "      <th>4.0</th>\n",
       "      <td>0</td>\n",
       "      <td>0</td>\n",
       "      <td>4</td>\n",
       "      <td>7</td>\n",
       "      <td>0</td>\n",
       "      <td>0</td>\n",
       "      <td>0</td>\n",
       "      <td>0</td>\n",
       "      <td>0</td>\n",
       "      <td>0</td>\n",
       "      <td>...</td>\n",
       "      <td>0</td>\n",
       "      <td>0</td>\n",
       "      <td>0</td>\n",
       "      <td>0</td>\n",
       "      <td>0</td>\n",
       "      <td>0</td>\n",
       "      <td>0</td>\n",
       "      <td>0</td>\n",
       "      <td>2.3957</td>\n",
       "      <td>8.0</td>\n",
       "    </tr>\n",
       "    <tr>\n",
       "      <th>8.0</th>\n",
       "      <th>13.0</th>\n",
       "      <td>0</td>\n",
       "      <td>1</td>\n",
       "      <td>47</td>\n",
       "      <td>31</td>\n",
       "      <td>0</td>\n",
       "      <td>0</td>\n",
       "      <td>0</td>\n",
       "      <td>0</td>\n",
       "      <td>0</td>\n",
       "      <td>0</td>\n",
       "      <td>...</td>\n",
       "      <td>0</td>\n",
       "      <td>0</td>\n",
       "      <td>0</td>\n",
       "      <td>0</td>\n",
       "      <td>3</td>\n",
       "      <td>0</td>\n",
       "      <td>0</td>\n",
       "      <td>0</td>\n",
       "      <td>13.6920</td>\n",
       "      <td>7.5</td>\n",
       "    </tr>\n",
       "  </tbody>\n",
       "</table>\n",
       "<p>3 rows × 87 columns</p>\n",
       "</div>"
      ],
      "text/plain": [
       "                aj  all  andy  angela  bar manager  ben franklin  bert  bob  \\\n",
       "season episode                                                                \n",
       "5.0    7.0       0    0    69      10            0             0     0    0   \n",
       "3.0    4.0       0    0     4       7            0             0     0    0   \n",
       "8.0    13.0      0    1    47      31            0             0     0    0   \n",
       "\n",
       "                brian  captain jack  ...   todd packer  tom  tony  trevor  \\\n",
       "season episode                       ...                                    \n",
       "5.0    7.0          0             0  ...             0    0     0       0   \n",
       "3.0    4.0          0             0  ...             0    0     0       0   \n",
       "8.0    13.0         0             0  ...             0    0     0       0   \n",
       "\n",
       "                val  vikram  walter  woman     what  rate  \n",
       "season episode                                             \n",
       "5.0    7.0        0       0       0      0  14.9504   8.3  \n",
       "3.0    4.0        0       0       0      0   2.3957   8.0  \n",
       "8.0    13.0       3       0       0      0  13.6920   7.5  \n",
       "\n",
       "[3 rows x 87 columns]"
      ]
     },
     "execution_count": 54,
     "metadata": {},
     "output_type": "execute_result"
    }
   ],
   "source": [
    "# Realizamos el merge con las calificaciones\n",
    "rates = full.groupby(['season', 'episode'], as_index=False).apply(frates)\n",
    "test = test.merge(rates, left_on=['season', 'episode'] , right_on=['season', 'episode'], how='outer')\n",
    "test.sample(3)"
   ]
  },
  {
   "cell_type": "markdown",
   "metadata": {},
   "source": [
    "Aplicaremos la función de clases para las calificaciones definida previamente."
   ]
  },
  {
   "cell_type": "code",
   "execution_count": 55,
   "metadata": {},
   "outputs": [],
   "source": [
    "# Aplicamos la función\n",
    "test['rating'] = test.rate.apply(classify)"
   ]
  },
  {
   "cell_type": "code",
   "execution_count": 56,
   "metadata": {},
   "outputs": [
    {
     "data": {
      "text/html": [
       "<div>\n",
       "<style scoped>\n",
       "    .dataframe tbody tr th:only-of-type {\n",
       "        vertical-align: middle;\n",
       "    }\n",
       "\n",
       "    .dataframe tbody tr th {\n",
       "        vertical-align: top;\n",
       "    }\n",
       "\n",
       "    .dataframe thead th {\n",
       "        text-align: right;\n",
       "    }\n",
       "</style>\n",
       "<table border=\"1\" class=\"dataframe\">\n",
       "  <thead>\n",
       "    <tr style=\"text-align: right;\">\n",
       "      <th></th>\n",
       "      <th></th>\n",
       "      <th>aj</th>\n",
       "      <th>all</th>\n",
       "      <th>andy</th>\n",
       "      <th>angela</th>\n",
       "      <th>bar manager</th>\n",
       "      <th>ben franklin</th>\n",
       "      <th>bert</th>\n",
       "      <th>bob</th>\n",
       "      <th>brian</th>\n",
       "      <th>captain jack</th>\n",
       "      <th>...</th>\n",
       "      <th>tom</th>\n",
       "      <th>tony</th>\n",
       "      <th>trevor</th>\n",
       "      <th>val</th>\n",
       "      <th>vikram</th>\n",
       "      <th>walter</th>\n",
       "      <th>woman</th>\n",
       "      <th>what</th>\n",
       "      <th>rate</th>\n",
       "      <th>rating</th>\n",
       "    </tr>\n",
       "    <tr>\n",
       "      <th>season</th>\n",
       "      <th>episode</th>\n",
       "      <th></th>\n",
       "      <th></th>\n",
       "      <th></th>\n",
       "      <th></th>\n",
       "      <th></th>\n",
       "      <th></th>\n",
       "      <th></th>\n",
       "      <th></th>\n",
       "      <th></th>\n",
       "      <th></th>\n",
       "      <th></th>\n",
       "      <th></th>\n",
       "      <th></th>\n",
       "      <th></th>\n",
       "      <th></th>\n",
       "      <th></th>\n",
       "      <th></th>\n",
       "      <th></th>\n",
       "      <th></th>\n",
       "      <th></th>\n",
       "      <th></th>\n",
       "    </tr>\n",
       "  </thead>\n",
       "  <tbody>\n",
       "    <tr>\n",
       "      <th>9.0</th>\n",
       "      <th>11.0</th>\n",
       "      <td>0</td>\n",
       "      <td>1</td>\n",
       "      <td>0</td>\n",
       "      <td>13</td>\n",
       "      <td>0</td>\n",
       "      <td>0</td>\n",
       "      <td>0</td>\n",
       "      <td>0</td>\n",
       "      <td>0</td>\n",
       "      <td>0</td>\n",
       "      <td>...</td>\n",
       "      <td>0</td>\n",
       "      <td>0</td>\n",
       "      <td>0</td>\n",
       "      <td>0</td>\n",
       "      <td>0</td>\n",
       "      <td>0</td>\n",
       "      <td>0</td>\n",
       "      <td>14.9396</td>\n",
       "      <td>8.0</td>\n",
       "      <td>malo</td>\n",
       "    </tr>\n",
       "    <tr>\n",
       "      <th rowspan=\"2\" valign=\"top\">8.0</th>\n",
       "      <th>16.0</th>\n",
       "      <td>0</td>\n",
       "      <td>2</td>\n",
       "      <td>20</td>\n",
       "      <td>11</td>\n",
       "      <td>0</td>\n",
       "      <td>0</td>\n",
       "      <td>0</td>\n",
       "      <td>0</td>\n",
       "      <td>0</td>\n",
       "      <td>0</td>\n",
       "      <td>...</td>\n",
       "      <td>0</td>\n",
       "      <td>0</td>\n",
       "      <td>0</td>\n",
       "      <td>9</td>\n",
       "      <td>0</td>\n",
       "      <td>0</td>\n",
       "      <td>0</td>\n",
       "      <td>17.0198</td>\n",
       "      <td>8.1</td>\n",
       "      <td>malo</td>\n",
       "    </tr>\n",
       "    <tr>\n",
       "      <th>20.0</th>\n",
       "      <td>0</td>\n",
       "      <td>3</td>\n",
       "      <td>48</td>\n",
       "      <td>8</td>\n",
       "      <td>0</td>\n",
       "      <td>0</td>\n",
       "      <td>19</td>\n",
       "      <td>0</td>\n",
       "      <td>0</td>\n",
       "      <td>0</td>\n",
       "      <td>...</td>\n",
       "      <td>0</td>\n",
       "      <td>0</td>\n",
       "      <td>0</td>\n",
       "      <td>0</td>\n",
       "      <td>0</td>\n",
       "      <td>0</td>\n",
       "      <td>1</td>\n",
       "      <td>13.1059</td>\n",
       "      <td>7.2</td>\n",
       "      <td>muy malo</td>\n",
       "    </tr>\n",
       "    <tr>\n",
       "      <th>4.0</th>\n",
       "      <th>12.0</th>\n",
       "      <td>0</td>\n",
       "      <td>0</td>\n",
       "      <td>23</td>\n",
       "      <td>3</td>\n",
       "      <td>0</td>\n",
       "      <td>0</td>\n",
       "      <td>0</td>\n",
       "      <td>0</td>\n",
       "      <td>0</td>\n",
       "      <td>0</td>\n",
       "      <td>...</td>\n",
       "      <td>0</td>\n",
       "      <td>0</td>\n",
       "      <td>0</td>\n",
       "      <td>0</td>\n",
       "      <td>0</td>\n",
       "      <td>0</td>\n",
       "      <td>0</td>\n",
       "      <td>9.8442</td>\n",
       "      <td>8.4</td>\n",
       "      <td>bueno</td>\n",
       "    </tr>\n",
       "    <tr>\n",
       "      <th>8.0</th>\n",
       "      <th>18.0</th>\n",
       "      <td>0</td>\n",
       "      <td>1</td>\n",
       "      <td>20</td>\n",
       "      <td>3</td>\n",
       "      <td>0</td>\n",
       "      <td>0</td>\n",
       "      <td>0</td>\n",
       "      <td>0</td>\n",
       "      <td>0</td>\n",
       "      <td>0</td>\n",
       "      <td>...</td>\n",
       "      <td>0</td>\n",
       "      <td>0</td>\n",
       "      <td>0</td>\n",
       "      <td>0</td>\n",
       "      <td>0</td>\n",
       "      <td>0</td>\n",
       "      <td>0</td>\n",
       "      <td>15.5730</td>\n",
       "      <td>7.8</td>\n",
       "      <td>muy malo</td>\n",
       "    </tr>\n",
       "  </tbody>\n",
       "</table>\n",
       "<p>5 rows × 88 columns</p>\n",
       "</div>"
      ],
      "text/plain": [
       "                aj  all  andy  angela  bar manager  ben franklin  bert  bob  \\\n",
       "season episode                                                                \n",
       "9.0    11.0      0    1     0      13            0             0     0    0   \n",
       "8.0    16.0      0    2    20      11            0             0     0    0   \n",
       "       20.0      0    3    48       8            0             0    19    0   \n",
       "4.0    12.0      0    0    23       3            0             0     0    0   \n",
       "8.0    18.0      0    1    20       3            0             0     0    0   \n",
       "\n",
       "                brian  captain jack    ...     tom  tony  trevor  val  vikram  \\\n",
       "season episode                         ...                                      \n",
       "9.0    11.0         0             0    ...       0     0       0    0       0   \n",
       "8.0    16.0         0             0    ...       0     0       0    9       0   \n",
       "       20.0         0             0    ...       0     0       0    0       0   \n",
       "4.0    12.0         0             0    ...       0     0       0    0       0   \n",
       "8.0    18.0         0             0    ...       0     0       0    0       0   \n",
       "\n",
       "                walter  woman     what  rate    rating  \n",
       "season episode                                          \n",
       "9.0    11.0          0      0  14.9396   8.0      malo  \n",
       "8.0    16.0          0      0  17.0198   8.1      malo  \n",
       "       20.0          0      1  13.1059   7.2  muy malo  \n",
       "4.0    12.0          0      0   9.8442   8.4     bueno  \n",
       "8.0    18.0          0      0  15.5730   7.8  muy malo  \n",
       "\n",
       "[5 rows x 88 columns]"
      ]
     },
     "execution_count": 56,
     "metadata": {},
     "output_type": "execute_result"
    }
   ],
   "source": [
    "test.sample(5)"
   ]
  },
  {
   "cell_type": "markdown",
   "metadata": {},
   "source": [
    "### Modelado\n",
    "\n",
    "Una vez que ya tenemos los datos listos para ser aplicados a este primer acercamiento comenzaremos con el modelado. Comenzamos importando e intentando con RandomForestClassifier."
   ]
  },
  {
   "cell_type": "code",
   "execution_count": 57,
   "metadata": {},
   "outputs": [],
   "source": [
    "from sklearn.ensemble import RandomForestClassifier"
   ]
  },
  {
   "cell_type": "markdown",
   "metadata": {},
   "source": [
    "Debido a que GridSearchCV solo permite clasificaciones binarias, debemos convertir nuestro valor objetivo en One Hot."
   ]
  },
  {
   "cell_type": "code",
   "execution_count": 58,
   "metadata": {},
   "outputs": [],
   "source": [
    "y = label_binarize(test.rating, classes=['muy malo', 'malo', 'bueno', 'muy bueno'])"
   ]
  },
  {
   "cell_type": "code",
   "execution_count": 59,
   "metadata": {},
   "outputs": [],
   "source": [
    "# Definimos un conjunto de entrenamiento y validación\n",
    "X_train, X_test, y_train, y_test = train_test_split(\n",
    "    test.drop(['rate', 'rating'], axis=1), # X\n",
    "    y,  # y\n",
    "    test_size=0.1)"
   ]
  },
  {
   "cell_type": "code",
   "execution_count": 60,
   "metadata": {},
   "outputs": [],
   "source": [
    "# Definimos nuestro clasificador\n",
    "rf = RandomForestClassifier(n_estimators=400, n_jobs=-1)"
   ]
  },
  {
   "cell_type": "markdown",
   "metadata": {},
   "source": [
    "Definimos un grid de parámetros para realizar un Grid Search."
   ]
  },
  {
   "cell_type": "code",
   "execution_count": 61,
   "metadata": {},
   "outputs": [],
   "source": [
    "param = {\n",
    "    'min_samples_split': [3, 5, 7],\n",
    "    'class_weight': ['balanced', None]\n",
    "}"
   ]
  },
  {
   "cell_type": "code",
   "execution_count": 62,
   "metadata": {},
   "outputs": [],
   "source": [
    "# Creamos una clase GridSearchCV para encontrar los mejores hiperparámetros y realizar Cross-Validation\n",
    "cross = GridSearchCV(rf, param, scoring='f1_micro', cv=5)"
   ]
  },
  {
   "cell_type": "code",
   "execution_count": 63,
   "metadata": {},
   "outputs": [
    {
     "name": "stderr",
     "output_type": "stream",
     "text": [
      "/Users/jpnegrete/miniconda3/lib/python3.7/site-packages/sklearn/model_selection/_search.py:841: DeprecationWarning: The default of the `iid` parameter will change from True to False in version 0.22 and will be removed in 0.24. This will change numeric results when test-set sizes are unequal.\n",
      "  DeprecationWarning)\n"
     ]
    },
    {
     "data": {
      "text/plain": [
       "{'class_weight': None, 'min_samples_split': 3}"
      ]
     },
     "execution_count": 63,
     "metadata": {},
     "output_type": "execute_result"
    }
   ],
   "source": [
    "# Entrenamos el modelo con todos los datos y obtenemos los mejores parámetros\n",
    "cross.fit(X_train, y_train)\n",
    "cross.best_params_"
   ]
  },
  {
   "cell_type": "markdown",
   "metadata": {},
   "source": [
    "Iremos actualizando los hiperparámetros de acuerdo a los resultados de la iteración: \n",
    " - Primera corrida: {'class_weight': 'balanced', 'min_samples_split': 15}\n",
    " - Segunda corrida: {'class_weight': 'balanced', 'min_samples_split': 5}"
   ]
  },
  {
   "cell_type": "code",
   "execution_count": 64,
   "metadata": {},
   "outputs": [
    {
     "data": {
      "text/plain": [
       "0.23999999999999996"
      ]
     },
     "execution_count": 64,
     "metadata": {},
     "output_type": "execute_result"
    }
   ],
   "source": [
    "f1_score(y_test, cross.predict(X_test), average='micro')"
   ]
  },
  {
   "cell_type": "code",
   "execution_count": 65,
   "metadata": {},
   "outputs": [
    {
     "data": {
      "text/plain": [
       "array([[6, 0, 0, 0],\n",
       "       [9, 0, 0, 0],\n",
       "       [0, 0, 0, 1],\n",
       "       [2, 1, 0, 0]])"
      ]
     },
     "execution_count": 65,
     "metadata": {},
     "output_type": "execute_result"
    }
   ],
   "source": [
    "confusion_matrix(y_test.argmax(axis=1), cross.predict(X_test).argmax(axis=1))"
   ]
  },
  {
   "cell_type": "code",
   "execution_count": 66,
   "metadata": {},
   "outputs": [
    {
     "data": {
      "image/png": "[encoded data removed]",
      "text/plain": [
       "<Figure size 432x288 with 1 Axes>"
      ]
     },
     "metadata": {
      "needs_background": "light"
     },
     "output_type": "display_data"
    }
   ],
   "source": [
    "# Entrenamos un árbol particular para ver importancia de personajes\n",
    "fi = RandomForestClassifier(n_estimators=400, n_jobs=-1, class_weight='balanced', min_samples_split=5)\n",
    "fi.fit(X_train, y_train)\n",
    "\n",
    "plt.plot(range(0, len(fi.feature_importances_)), sorted(list(fi.feature_importances_), reverse=True))\n",
    "plt.show()"
   ]
  },
  {
   "cell_type": "markdown",
   "metadata": {},
   "source": [
    "### Conclusiones primer intento\n",
    "\n",
    "Pésima predicción. Lo que posiblemente afecto el score:\n",
    " - **Datos de predicción**\n",
    " - Conversión a One Hot pudo afectar.\n",
    " - Modelo (poco probable que salga algo mejor con otro).\n",
    " - Elección de número de clases.\n",
    " \n",
    "Continuaremos en hacer cambios a los puntos dos a cuatro para ver si obtenemos mejores resultados.\n",
    "\n",
    "#### Sin conversión a One Hot\n",
    "No convertiremos a One Hot y utilizaremos los parámetros obtenidos en el GridSearch anterior."
   ]
  },
  {
   "cell_type": "code",
   "execution_count": 67,
   "metadata": {},
   "outputs": [],
   "source": [
    "# Definimos un conjunto de entrenamiento y validación\n",
    "X_train, X_test, y_train, y_test = train_test_split(\n",
    "    test.drop(['rate', 'rating'], axis=1), # X\n",
    "    test.rating,  # y\n",
    "    test_size=0.1)"
   ]
  },
  {
   "cell_type": "code",
   "execution_count": 68,
   "metadata": {},
   "outputs": [
    {
     "data": {
      "text/plain": [
       "RandomForestClassifier(bootstrap=True, class_weight='balanced',\n",
       "            criterion='gini', max_depth=None, max_features='auto',\n",
       "            max_leaf_nodes=None, min_impurity_decrease=0.0,\n",
       "            min_impurity_split=None, min_samples_leaf=1,\n",
       "            min_samples_split=5, min_weight_fraction_leaf=0.0,\n",
       "            n_estimators=400, n_jobs=-1, oob_score=False,\n",
       "            random_state=None, verbose=0, warm_start=False)"
      ]
     },
     "execution_count": 68,
     "metadata": {},
     "output_type": "execute_result"
    }
   ],
   "source": [
    "# Entrenamos un árbol particular\n",
    "fi = RandomForestClassifier(n_estimators=400, n_jobs=-1, class_weight='balanced', min_samples_split=5)\n",
    "fi.fit(X_train, y_train)"
   ]
  },
  {
   "cell_type": "code",
   "execution_count": 69,
   "metadata": {},
   "outputs": [
    {
     "data": {
      "text/plain": [
       "0.3684210526315789"
      ]
     },
     "execution_count": 69,
     "metadata": {},
     "output_type": "execute_result"
    }
   ],
   "source": [
    "f1_score(y_test, fi.predict(X_test), average='micro')"
   ]
  },
  {
   "cell_type": "code",
   "execution_count": 70,
   "metadata": {},
   "outputs": [
    {
     "data": {
      "text/plain": [
       "array([[0, 0, 3, 0],\n",
       "       [1, 2, 4, 2],\n",
       "       [0, 0, 2, 0],\n",
       "       [0, 1, 1, 3]])"
      ]
     },
     "execution_count": 70,
     "metadata": {},
     "output_type": "execute_result"
    }
   ],
   "source": [
    "confusion_matrix(y_test, fi.predict(X_test))"
   ]
  },
  {
   "cell_type": "markdown",
   "metadata": {},
   "source": [
    "¡Mejoró!\n",
    "\n",
    "#### Otros clasificadores\n",
    "Ahora probaremos con otros modelos."
   ]
  },
  {
   "cell_type": "code",
   "execution_count": 71,
   "metadata": {},
   "outputs": [],
   "source": [
    "from sklearn.naive_bayes import BernoulliNB"
   ]
  },
  {
   "cell_type": "code",
   "execution_count": 72,
   "metadata": {},
   "outputs": [],
   "source": [
    "nb = BernoulliNB(fit_prior=False)"
   ]
  },
  {
   "cell_type": "code",
   "execution_count": 73,
   "metadata": {},
   "outputs": [
    {
     "data": {
      "text/plain": [
       "BernoulliNB(alpha=1.0, binarize=0.0, class_prior=None, fit_prior=False)"
      ]
     },
     "execution_count": 73,
     "metadata": {},
     "output_type": "execute_result"
    }
   ],
   "source": [
    "nb.fit(X_train, y_train)"
   ]
  },
  {
   "cell_type": "code",
   "execution_count": 74,
   "metadata": {},
   "outputs": [
    {
     "data": {
      "text/plain": [
       "0.3157894736842105"
      ]
     },
     "execution_count": 74,
     "metadata": {},
     "output_type": "execute_result"
    }
   ],
   "source": [
    "f1_score(y_test, nb.predict(X_test), average='micro')"
   ]
  },
  {
   "cell_type": "code",
   "execution_count": 75,
   "metadata": {},
   "outputs": [
    {
     "data": {
      "text/plain": [
       "array([[1, 1, 1, 0],\n",
       "       [4, 0, 3, 2],\n",
       "       [0, 0, 1, 1],\n",
       "       [0, 0, 1, 4]])"
      ]
     },
     "execution_count": 75,
     "metadata": {},
     "output_type": "execute_result"
    }
   ],
   "source": [
    "confusion_matrix(y_test, nb.predict(X_test))"
   ]
  },
  {
   "cell_type": "markdown",
   "metadata": {},
   "source": [
    "Tuvimos resultados muy parecidos pero no mejores al RandomForest."
   ]
  },
  {
   "cell_type": "code",
   "execution_count": 76,
   "metadata": {},
   "outputs": [],
   "source": [
    "from sklearn.neighbors import KNeighborsClassifier"
   ]
  },
  {
   "cell_type": "code",
   "execution_count": 77,
   "metadata": {},
   "outputs": [],
   "source": [
    "kn = KNeighborsClassifier(11)"
   ]
  },
  {
   "cell_type": "code",
   "execution_count": 78,
   "metadata": {},
   "outputs": [
    {
     "data": {
      "text/plain": [
       "KNeighborsClassifier(algorithm='auto', leaf_size=30, metric='minkowski',\n",
       "           metric_params=None, n_jobs=None, n_neighbors=11, p=2,\n",
       "           weights='uniform')"
      ]
     },
     "execution_count": 78,
     "metadata": {},
     "output_type": "execute_result"
    }
   ],
   "source": [
    "kn.fit(X_train, y_train)"
   ]
  },
  {
   "cell_type": "code",
   "execution_count": 79,
   "metadata": {},
   "outputs": [
    {
     "data": {
      "text/plain": [
       "0.3684210526315789"
      ]
     },
     "execution_count": 79,
     "metadata": {},
     "output_type": "execute_result"
    }
   ],
   "source": [
    "f1_score(y_test, kn.predict(X_test), average='micro')"
   ]
  },
  {
   "cell_type": "code",
   "execution_count": 80,
   "metadata": {},
   "outputs": [
    {
     "data": {
      "text/plain": [
       "array([[0, 2, 1, 0],\n",
       "       [2, 3, 3, 1],\n",
       "       [0, 1, 0, 1],\n",
       "       [0, 1, 0, 4]])"
      ]
     },
     "execution_count": 80,
     "metadata": {},
     "output_type": "execute_result"
    }
   ],
   "source": [
    "confusion_matrix(y_test, kn.predict(X_test))"
   ]
  },
  {
   "cell_type": "markdown",
   "metadata": {},
   "source": [
    "Mejoró respecto al Random Forest. Vale la pena realizar un GridSearch."
   ]
  },
  {
   "cell_type": "code",
   "execution_count": 81,
   "metadata": {},
   "outputs": [],
   "source": [
    "y = label_binarize(test.rating, classes=['muy malo', 'malo', 'bueno', 'muy bueno'])"
   ]
  },
  {
   "cell_type": "code",
   "execution_count": 82,
   "metadata": {},
   "outputs": [],
   "source": [
    "# Definimos un conjunto de entrenamiento y validación\n",
    "X_train, X_test, y_train, y_test = train_test_split(\n",
    "    test.drop(['rate', 'rating'], axis=1), # X\n",
    "    y,  # y\n",
    "    test_size=0.1)"
   ]
  },
  {
   "cell_type": "code",
   "execution_count": 83,
   "metadata": {},
   "outputs": [],
   "source": [
    "kn = KNeighborsClassifier()"
   ]
  },
  {
   "cell_type": "code",
   "execution_count": 84,
   "metadata": {},
   "outputs": [],
   "source": [
    "param = {\n",
    "    'n_neighbors': range(1,30)\n",
    "}"
   ]
  },
  {
   "cell_type": "code",
   "execution_count": 85,
   "metadata": {},
   "outputs": [],
   "source": [
    "# Creamos una clase GridSearchCV para encontrar los mejores hiperparámetros y realizar Cross-Validation\n",
    "cross = GridSearchCV(kn, param, scoring='f1_micro', cv=5)"
   ]
  },
  {
   "cell_type": "code",
   "execution_count": 86,
   "metadata": {},
   "outputs": [
    {
     "name": "stderr",
     "output_type": "stream",
     "text": [
      "/Users/jpnegrete/miniconda3/lib/python3.7/site-packages/sklearn/model_selection/_search.py:841: DeprecationWarning: The default of the `iid` parameter will change from True to False in version 0.22 and will be removed in 0.24. This will change numeric results when test-set sizes are unequal.\n",
      "  DeprecationWarning)\n"
     ]
    },
    {
     "data": {
      "text/plain": [
       "{'n_neighbors': 1}"
      ]
     },
     "execution_count": 86,
     "metadata": {},
     "output_type": "execute_result"
    }
   ],
   "source": [
    "# Entrenamos el modelo con todos los datos y obtenemos los mejores parámetros\n",
    "cross.fit(X_train, y_train)\n",
    "cross.best_params_"
   ]
  },
  {
   "cell_type": "markdown",
   "metadata": {},
   "source": [
    "#### Número de clases\n",
    "Ahora haremos un análisis cambiando el número de clase que estamos usando."
   ]
  },
  {
   "cell_type": "code",
   "execution_count": 87,
   "metadata": {},
   "outputs": [],
   "source": [
    "# Definimos nuestra función de clasificación con dos clases\n",
    "def classify(x):\n",
    "    if(x < 8.3):\n",
    "        return 'malo'\n",
    "    else:\n",
    "        return 'bueno'"
   ]
  },
  {
   "cell_type": "code",
   "execution_count": 88,
   "metadata": {},
   "outputs": [],
   "source": [
    "# Aplicamos la función\n",
    "test['rating'] = test.rate.apply(classify)"
   ]
  },
  {
   "cell_type": "code",
   "execution_count": 89,
   "metadata": {},
   "outputs": [],
   "source": [
    "# Definimos un conjunto de entrenamiento y validación\n",
    "X_train, X_test, y_train, y_test = train_test_split(\n",
    "    test.drop(['rate', 'rating'], axis=1), # X\n",
    "    test.rating,  # y\n",
    "    test_size=0.1)"
   ]
  },
  {
   "cell_type": "markdown",
   "metadata": {},
   "source": [
    "Primero lo realizamos con RandomForestClassifier."
   ]
  },
  {
   "cell_type": "code",
   "execution_count": 90,
   "metadata": {},
   "outputs": [
    {
     "data": {
      "text/plain": [
       "RandomForestClassifier(bootstrap=True, class_weight='balanced',\n",
       "            criterion='gini', max_depth=None, max_features='auto',\n",
       "            max_leaf_nodes=None, min_impurity_decrease=0.0,\n",
       "            min_impurity_split=None, min_samples_leaf=1,\n",
       "            min_samples_split=5, min_weight_fraction_leaf=0.0,\n",
       "            n_estimators=400, n_jobs=-1, oob_score=False,\n",
       "            random_state=None, verbose=0, warm_start=False)"
      ]
     },
     "execution_count": 90,
     "metadata": {},
     "output_type": "execute_result"
    }
   ],
   "source": [
    "# Entrenamos un árbol particular\n",
    "fi = RandomForestClassifier(n_estimators=400, n_jobs=-1, class_weight='balanced', min_samples_split=5)\n",
    "fi.fit(X_train, y_train)"
   ]
  },
  {
   "cell_type": "code",
   "execution_count": 91,
   "metadata": {},
   "outputs": [
    {
     "data": {
      "text/plain": [
       "0.6842105263157895"
      ]
     },
     "execution_count": 91,
     "metadata": {},
     "output_type": "execute_result"
    }
   ],
   "source": [
    "f1_score(y_test, fi.predict(X_test), average='micro')"
   ]
  },
  {
   "cell_type": "code",
   "execution_count": 92,
   "metadata": {},
   "outputs": [
    {
     "data": {
      "text/plain": [
       "array([[6, 3],\n",
       "       [3, 7]])"
      ]
     },
     "execution_count": 92,
     "metadata": {},
     "output_type": "execute_result"
    }
   ],
   "source": [
    "confusion_matrix(y_test, fi.predict(X_test))"
   ]
  },
  {
   "cell_type": "markdown",
   "metadata": {},
   "source": [
    "Ahora con KNearestNeighbors."
   ]
  },
  {
   "cell_type": "code",
   "execution_count": 93,
   "metadata": {},
   "outputs": [
    {
     "data": {
      "text/plain": [
       "KNeighborsClassifier(algorithm='auto', leaf_size=30, metric='minkowski',\n",
       "           metric_params=None, n_jobs=None, n_neighbors=11, p=2,\n",
       "           weights='uniform')"
      ]
     },
     "execution_count": 93,
     "metadata": {},
     "output_type": "execute_result"
    }
   ],
   "source": [
    "# Entrenamos un modelo particular\n",
    "kn = KNeighborsClassifier(11)\n",
    "kn.fit(X_train, y_train)"
   ]
  },
  {
   "cell_type": "code",
   "execution_count": 94,
   "metadata": {},
   "outputs": [
    {
     "data": {
      "text/plain": [
       "0.5263157894736842"
      ]
     },
     "execution_count": 94,
     "metadata": {},
     "output_type": "execute_result"
    }
   ],
   "source": [
    "f1_score(y_test, kn.predict(X_test), average='micro')"
   ]
  },
  {
   "cell_type": "code",
   "execution_count": 95,
   "metadata": {},
   "outputs": [
    {
     "data": {
      "text/plain": [
       "array([[4, 5],\n",
       "       [4, 6]])"
      ]
     },
     "execution_count": 95,
     "metadata": {},
     "output_type": "execute_result"
    }
   ],
   "source": [
    "confusion_matrix(y_test, kn.predict(X_test))"
   ]
  },
  {
   "cell_type": "markdown",
   "metadata": {},
   "source": [
    "#### Mejora (¿o no?)\n",
    "\n",
    "¡Mejoró! Sin embargo, es importante decir que la mejora se da a debido a una reducción de la complejidad del problema. Es más fácil predecir cuando se tiene un menor número de clases. Ahora solo nos queda cambiar una de las variables que consideramos que pueden ser los errores principales: los datos de entrada."
   ]
  },
  {
   "cell_type": "markdown",
   "metadata": {},
   "source": [
    "## Aprendizaje (segundo acercamiento)\n",
    "\n",
    "### Justificación\n",
    "Vemos que el acercamiento por personajes no funcionó tan bien. Por suerte (?) tenemos todas las líneas de cada personaje en la serie. Intentaremos hacer un acercamiento con minería de texto.\n",
    "\n",
    "Utilizaremos únicamente las palabras en cada escena para tratar de predecir la calificación de esa escena.\n",
    "\n",
    "Importamos las clases de texto que necesitaremos."
   ]
  },
  {
   "cell_type": "code",
   "execution_count": 96,
   "metadata": {},
   "outputs": [],
   "source": [
    "# Para realizar tf-idf\n",
    "from sklearn.feature_extraction.text import TfidfVectorizer"
   ]
  },
  {
   "cell_type": "code",
   "execution_count": 97,
   "metadata": {},
   "outputs": [],
   "source": [
    "# Para definir el comportamiento de cada variable en la agregación\n",
    "def organiza(x):\n",
    "    return pd.Series(dict(\n",
    "        texto = ' '.join(x['line_text']), \n",
    "        pers = x['speaker'].value_counts().index[0],\n",
    "        rate = x['averageRating'].mean(),\n",
    "        votes = x['numVotes'].mean()))"
   ]
  },
  {
   "cell_type": "code",
   "execution_count": 98,
   "metadata": {},
   "outputs": [
    {
     "data": {
      "text/html": [
       "<div>\n",
       "<style scoped>\n",
       "    .dataframe tbody tr th:only-of-type {\n",
       "        vertical-align: middle;\n",
       "    }\n",
       "\n",
       "    .dataframe tbody tr th {\n",
       "        vertical-align: top;\n",
       "    }\n",
       "\n",
       "    .dataframe thead th {\n",
       "        text-align: right;\n",
       "    }\n",
       "</style>\n",
       "<table border=\"1\" class=\"dataframe\">\n",
       "  <thead>\n",
       "    <tr style=\"text-align: right;\">\n",
       "      <th></th>\n",
       "      <th></th>\n",
       "      <th></th>\n",
       "      <th>texto</th>\n",
       "      <th>pers</th>\n",
       "      <th>rate</th>\n",
       "      <th>votes</th>\n",
       "    </tr>\n",
       "    <tr>\n",
       "      <th>season</th>\n",
       "      <th>episode</th>\n",
       "      <th>scene</th>\n",
       "      <th></th>\n",
       "      <th></th>\n",
       "      <th></th>\n",
       "      <th></th>\n",
       "    </tr>\n",
       "  </thead>\n",
       "  <tbody>\n",
       "    <tr>\n",
       "      <th>2.0</th>\n",
       "      <th>12.0</th>\n",
       "      <th>21.0</th>\n",
       "      <td>Did you see Born on the Fourth of July?  I was...</td>\n",
       "      <td>michael</td>\n",
       "      <td>9.0</td>\n",
       "      <td>2843.0</td>\n",
       "    </tr>\n",
       "    <tr>\n",
       "      <th>3.0</th>\n",
       "      <th>12.0</th>\n",
       "      <th>50.0</th>\n",
       "      <td>Hey man. [Dwight hugs Jim and leaves] What hap...</td>\n",
       "      <td>karen</td>\n",
       "      <td>8.6</td>\n",
       "      <td>2006.0</td>\n",
       "    </tr>\n",
       "    <tr>\n",
       "      <th>9.0</th>\n",
       "      <th>1.0</th>\n",
       "      <th>8.0</th>\n",
       "      <td>Kelly Kapoor is gone. Her fianc�� Ravi was hir...</td>\n",
       "      <td>toby</td>\n",
       "      <td>7.8</td>\n",
       "      <td>1349.0</td>\n",
       "    </tr>\n",
       "  </tbody>\n",
       "</table>\n",
       "</div>"
      ],
      "text/plain": [
       "                                                                  texto  \\\n",
       "season episode scene                                                      \n",
       "2.0    12.0    21.0   Did you see Born on the Fourth of July?  I was...   \n",
       "3.0    12.0    50.0   Hey man. [Dwight hugs Jim and leaves] What hap...   \n",
       "9.0    1.0     8.0    Kelly Kapoor is gone. Her fianc�� Ravi was hir...   \n",
       "\n",
       "                         pers  rate   votes  \n",
       "season episode scene                         \n",
       "2.0    12.0    21.0   michael   9.0  2843.0  \n",
       "3.0    12.0    50.0     karen   8.6  2006.0  \n",
       "9.0    1.0     8.0       toby   7.8  1349.0  "
      ]
     },
     "execution_count": 98,
     "metadata": {},
     "output_type": "execute_result"
    }
   ],
   "source": [
    "# Creamos el dataset para el segundo acercamiento\n",
    "test = full.groupby(['season', 'episode', 'scene'], as_index=False).apply(organiza)\n",
    "test.sample(3)"
   ]
  },
  {
   "cell_type": "code",
   "execution_count": 99,
   "metadata": {},
   "outputs": [
    {
     "data": {
      "text/html": [
       "<div>\n",
       "<style scoped>\n",
       "    .dataframe tbody tr th:only-of-type {\n",
       "        vertical-align: middle;\n",
       "    }\n",
       "\n",
       "    .dataframe tbody tr th {\n",
       "        vertical-align: top;\n",
       "    }\n",
       "\n",
       "    .dataframe thead th {\n",
       "        text-align: right;\n",
       "    }\n",
       "</style>\n",
       "<table border=\"1\" class=\"dataframe\">\n",
       "  <thead>\n",
       "    <tr style=\"text-align: right;\">\n",
       "      <th></th>\n",
       "      <th></th>\n",
       "      <th></th>\n",
       "      <th>texto</th>\n",
       "      <th>pers</th>\n",
       "      <th>rate</th>\n",
       "      <th>votes</th>\n",
       "      <th>rating</th>\n",
       "      <th>rating2</th>\n",
       "    </tr>\n",
       "    <tr>\n",
       "      <th>season</th>\n",
       "      <th>episode</th>\n",
       "      <th>scene</th>\n",
       "      <th></th>\n",
       "      <th></th>\n",
       "      <th></th>\n",
       "      <th></th>\n",
       "      <th></th>\n",
       "      <th></th>\n",
       "    </tr>\n",
       "  </thead>\n",
       "  <tbody>\n",
       "    <tr>\n",
       "      <th>8.0</th>\n",
       "      <th>14.0</th>\n",
       "      <th>32.0</th>\n",
       "      <td>Yes, when he brushes your soft supple cheeks w...</td>\n",
       "      <td>dwight</td>\n",
       "      <td>7.8</td>\n",
       "      <td>1220.0</td>\n",
       "      <td>muy malo</td>\n",
       "      <td>malo</td>\n",
       "    </tr>\n",
       "    <tr>\n",
       "      <th>3.0</th>\n",
       "      <th>23.0</th>\n",
       "      <th>64.0</th>\n",
       "      <td>Hey you! Hey. How was your interview? Pretty g...</td>\n",
       "      <td>jan</td>\n",
       "      <td>9.3</td>\n",
       "      <td>2638.0</td>\n",
       "      <td>muy bueno</td>\n",
       "      <td>bueno</td>\n",
       "    </tr>\n",
       "    <tr>\n",
       "      <th>8.0</th>\n",
       "      <th>20.0</th>\n",
       "      <th>17.0</th>\n",
       "      <td>[pops balloon] Suck it! [cheers, applause] And...</td>\n",
       "      <td>andy</td>\n",
       "      <td>7.2</td>\n",
       "      <td>1278.0</td>\n",
       "      <td>muy malo</td>\n",
       "      <td>malo</td>\n",
       "    </tr>\n",
       "    <tr>\n",
       "      <th>6.0</th>\n",
       "      <th>10.0</th>\n",
       "      <th>38.0</th>\n",
       "      <td>Do you love her or do you love the idea of her...</td>\n",
       "      <td>ryan</td>\n",
       "      <td>8.6</td>\n",
       "      <td>1701.0</td>\n",
       "      <td>muy bueno</td>\n",
       "      <td>bueno</td>\n",
       "    </tr>\n",
       "    <tr>\n",
       "      <th rowspan=\"2\" valign=\"top\">3.0</th>\n",
       "      <th>22.0</th>\n",
       "      <th>25.0</th>\n",
       "      <td>We will be team U.S.A. Very good. Pam, please ...</td>\n",
       "      <td>andy</td>\n",
       "      <td>9.1</td>\n",
       "      <td>2418.0</td>\n",
       "      <td>muy bueno</td>\n",
       "      <td>bueno</td>\n",
       "    </tr>\n",
       "    <tr>\n",
       "      <th>1.0</th>\n",
       "      <th>3.0</th>\n",
       "      <td>[sobbing] Jim is gone.  He's gone.  I miss him...</td>\n",
       "      <td>dwight</td>\n",
       "      <td>8.9</td>\n",
       "      <td>2651.0</td>\n",
       "      <td>muy bueno</td>\n",
       "      <td>bueno</td>\n",
       "    </tr>\n",
       "  </tbody>\n",
       "</table>\n",
       "</div>"
      ],
      "text/plain": [
       "                                                                  texto  \\\n",
       "season episode scene                                                      \n",
       "8.0    14.0    32.0   Yes, when he brushes your soft supple cheeks w...   \n",
       "3.0    23.0    64.0   Hey you! Hey. How was your interview? Pretty g...   \n",
       "8.0    20.0    17.0   [pops balloon] Suck it! [cheers, applause] And...   \n",
       "6.0    10.0    38.0   Do you love her or do you love the idea of her...   \n",
       "3.0    22.0    25.0   We will be team U.S.A. Very good. Pam, please ...   \n",
       "       1.0     3.0    [sobbing] Jim is gone.  He's gone.  I miss him...   \n",
       "\n",
       "                        pers  rate   votes     rating rating2  \n",
       "season episode scene                                           \n",
       "8.0    14.0    32.0   dwight   7.8  1220.0   muy malo    malo  \n",
       "3.0    23.0    64.0      jan   9.3  2638.0  muy bueno   bueno  \n",
       "8.0    20.0    17.0     andy   7.2  1278.0   muy malo    malo  \n",
       "6.0    10.0    38.0     ryan   8.6  1701.0  muy bueno   bueno  \n",
       "3.0    22.0    25.0     andy   9.1  2418.0  muy bueno   bueno  \n",
       "       1.0     3.0    dwight   8.9  2651.0  muy bueno   bueno  "
      ]
     },
     "execution_count": 99,
     "metadata": {},
     "output_type": "execute_result"
    }
   ],
   "source": [
    "# Aplicamos función para crear las clases\n",
    "\n",
    "# Definimos nuestra función de clasificación\n",
    "def classify(x):\n",
    "    if(x < 8.0):\n",
    "        return 'muy malo'\n",
    "    elif(x < 8.3):\n",
    "        return 'malo'\n",
    "    elif(x < 8.6):\n",
    "        return 'bueno'\n",
    "    else:\n",
    "        return 'muy bueno'\n",
    "\n",
    "def twoclasses(x):\n",
    "    if(x < 8.3):\n",
    "        return 'malo'\n",
    "    else:\n",
    "        return 'bueno'\n",
    "    \n",
    "# Aplicamos la función\n",
    "test['rating'] = test.rate.apply(classify)\n",
    "test['rating2'] = test.rate.apply(twoclasses)\n",
    "test.sample(6)"
   ]
  },
  {
   "cell_type": "markdown",
   "metadata": {},
   "source": [
    "### Modelado\n",
    "Comenzamos con el modelado."
   ]
  },
  {
   "cell_type": "code",
   "execution_count": 100,
   "metadata": {},
   "outputs": [],
   "source": [
    "from sklearn.naive_bayes import MultinomialNB"
   ]
  },
  {
   "cell_type": "code",
   "execution_count": 122,
   "metadata": {},
   "outputs": [],
   "source": [
    "# Instanciamos Tfidf\n",
    "tf = TfidfVectorizer()"
   ]
  },
  {
   "cell_type": "code",
   "execution_count": 123,
   "metadata": {},
   "outputs": [],
   "source": [
    "# Definimos un conjunto de entrenamiento y validación\n",
    "indices_ent = np.random.rand(test.shape[0]) < 0.8\n",
    "indices_pru = ~indices_ent\n",
    "\n",
    "X_train = test.drop(['rate', 'rating', 'votes', 'rating2'], axis=1)[indices_ent]\n",
    "X_test = test.drop(['rate', 'rating', 'votes', 'rating2'], axis=1)[indices_pru]\n",
    "y_train = test.rating[indices_ent]\n",
    "y_test = test.rating[indices_pru]"
   ]
  },
  {
   "cell_type": "code",
   "execution_count": 124,
   "metadata": {},
   "outputs": [
    {
     "data": {
      "text/plain": [
       "TfidfVectorizer(analyzer='word', binary=False, decode_error='strict',\n",
       "        dtype=<class 'numpy.float64'>, encoding='utf-8', input='content',\n",
       "        lowercase=True, max_df=1.0, max_features=None, min_df=1,\n",
       "        ngram_range=(1, 1), norm='l2', preprocessor=None, smooth_idf=True,\n",
       "        stop_words=None, strip_accents=None, sublinear_tf=False,\n",
       "        token_pattern='(?u)\\\\b\\\\w\\\\w+\\\\b', tokenizer=None, use_idf=True,\n",
       "        vocabulary=None)"
      ]
     },
     "execution_count": 124,
     "metadata": {},
     "output_type": "execute_result"
    }
   ],
   "source": [
    "# Fit al tf-idf con el texto\n",
    "tf.fit(test.texto)"
   ]
  },
  {
   "cell_type": "code",
   "execution_count": 125,
   "metadata": {},
   "outputs": [
    {
     "data": {
      "text/plain": [
       "<7322x20977 sparse matrix of type '<class 'numpy.float64'>'\n",
       "\twith 356589 stored elements in Compressed Sparse Row format>"
      ]
     },
     "execution_count": 125,
     "metadata": {},
     "output_type": "execute_result"
    }
   ],
   "source": [
    "train_text = tf.transform(X_train.texto)\n",
    "train_text"
   ]
  },
  {
   "cell_type": "code",
   "execution_count": 126,
   "metadata": {},
   "outputs": [
    {
     "data": {
      "text/plain": [
       "MultinomialNB(alpha=1.0, class_prior=None, fit_prior=False)"
      ]
     },
     "execution_count": 126,
     "metadata": {},
     "output_type": "execute_result"
    }
   ],
   "source": [
    "nb = MultinomialNB(fit_prior=False)\n",
    "nb.fit(train_text, y_train)"
   ]
  },
  {
   "cell_type": "code",
   "execution_count": 127,
   "metadata": {},
   "outputs": [
    {
     "data": {
      "text/plain": [
       "{'fit_time': array([0.02218819, 0.0212791 , 0.02244687, 0.01906586, 0.01958489]),\n",
       " 'score_time': array([0.00640583, 0.00376868, 0.00354028, 0.00351214, 0.00370812]),\n",
       " 'test_score': array([0.3337884 , 0.3337884 , 0.34197952, 0.32991803, 0.32330827]),\n",
       " 'train_score': array([0.53389107, 0.53508622, 0.54481817, 0.55633322, 0.55248336])}"
      ]
     },
     "execution_count": 127,
     "metadata": {},
     "output_type": "execute_result"
    }
   ],
   "source": [
    "cross_validate(nb, train_text, y_train, cv=5, return_train_score=True, scoring='f1_micro')"
   ]
  },
  {
   "cell_type": "code",
   "execution_count": 128,
   "metadata": {},
   "outputs": [
    {
     "data": {
      "text/plain": [
       "0.3404023926046765"
      ]
     },
     "execution_count": 128,
     "metadata": {},
     "output_type": "execute_result"
    }
   ],
   "source": [
    "f1_score(y_test, nb.predict(tf.transform(X_test.texto)), average='micro')"
   ]
  },
  {
   "cell_type": "markdown",
   "metadata": {},
   "source": [
    "#### Con dos clases"
   ]
  },
  {
   "cell_type": "code",
   "execution_count": 129,
   "metadata": {},
   "outputs": [],
   "source": [
    "y_train = test.rating2[indices_ent]\n",
    "y_test = test.rating2[indices_pru]"
   ]
  },
  {
   "cell_type": "code",
   "execution_count": 130,
   "metadata": {},
   "outputs": [
    {
     "data": {
      "text/plain": [
       "MultinomialNB(alpha=1.0, class_prior=None, fit_prior=False)"
      ]
     },
     "execution_count": 130,
     "metadata": {},
     "output_type": "execute_result"
    }
   ],
   "source": [
    "nb = MultinomialNB(fit_prior=False)\n",
    "nb.fit(train_text, y_train)"
   ]
  },
  {
   "cell_type": "code",
   "execution_count": 131,
   "metadata": {},
   "outputs": [
    {
     "data": {
      "text/plain": [
       "{'fit_time': array([0.02073288, 0.01954985, 0.01829195, 0.01774693, 0.01799202]),\n",
       " 'score_time': array([0.00490713, 0.00524521, 0.004637  , 0.00456405, 0.00459099]),\n",
       " 'test_score': array([0.54061433, 0.51740614, 0.57172131, 0.57103825, 0.53756831]),\n",
       " 'train_score': array([0.84616698, 0.84394741, 0.8552407 , 0.86377603, 0.87077501])}"
      ]
     },
     "execution_count": 131,
     "metadata": {},
     "output_type": "execute_result"
    }
   ],
   "source": [
    "cross_validate(nb, train_text, y_train, cv=5, return_train_score=True, scoring='f1_micro')"
   ]
  },
  {
   "cell_type": "code",
   "execution_count": 132,
   "metadata": {},
   "outputs": [
    {
     "data": {
      "text/plain": [
       "0.6340402392604676"
      ]
     },
     "execution_count": 132,
     "metadata": {},
     "output_type": "execute_result"
    }
   ],
   "source": [
    "f1_score(y_test, nb.predict(tf.transform(X_test.texto)), average='micro')"
   ]
  },
  {
   "cell_type": "markdown",
   "metadata": {},
   "source": [
    "Realmente tenemos un buen modelo, en comparación con los anteriores, basado en las palabras de las escenas. Pero tenemos una gran desventaja: no tenemos interpretabilidad alguna. No podemos estar escribiendo guiones como si nada para desecharlos si un modelo nos dice que no va a jalar. Entonces medimos la importancia de las palabras."
   ]
  },
  {
   "cell_type": "markdown",
   "metadata": {},
   "source": [
    "#### Medir importancia de las palabras\n",
    "Medimos que tanto afecta una palabra a la clasificación."
   ]
  },
  {
   "cell_type": "code",
   "execution_count": 133,
   "metadata": {},
   "outputs": [
    {
     "data": {
      "text/plain": [
       "RandomForestClassifier(bootstrap=True, class_weight=None, criterion='gini',\n",
       "            max_depth=None, max_features='auto', max_leaf_nodes=None,\n",
       "            min_impurity_decrease=0.0, min_impurity_split=None,\n",
       "            min_samples_leaf=1, min_samples_split=2,\n",
       "            min_weight_fraction_leaf=0.0, n_estimators=400, n_jobs=-1,\n",
       "            oob_score=False, random_state=None, verbose=0,\n",
       "            warm_start=False)"
      ]
     },
     "execution_count": 133,
     "metadata": {},
     "output_type": "execute_result"
    }
   ],
   "source": [
    "y_train = test.rating[indices_ent]\n",
    "wi = RandomForestClassifier(n_estimators=400, n_jobs=-1)\n",
    "wi.fit(train_text, y_train)\n",
    "\n",
    "y_train = test.rating2[indices_ent]\n",
    "wi2 = RandomForestClassifier(n_estimators=400, n_jobs=-1)\n",
    "wi2.fit(train_text, y_train)"
   ]
  },
  {
   "cell_type": "code",
   "execution_count": 134,
   "metadata": {},
   "outputs": [
    {
     "data": {
      "image/png": "[encoded data removed]",
      "text/plain": [
       "<Figure size 432x288 with 1 Axes>"
      ]
     },
     "metadata": {
      "needs_background": "light"
     },
     "output_type": "display_data"
    }
   ],
   "source": [
    "importancia = pd.DataFrame({\n",
    "    'palabra': list(tf.vocabulary_.keys()),\n",
    "    'importancia1': wi.feature_importances_,\n",
    "    'importancia2': wi2.feature_importances_\n",
    "}).sort_values(by='importancia2', ascending=False)\n",
    "importancia.plot(x='palabra', y=['importancia1', 'importancia2'])\n",
    "plt.show()"
   ]
  },
  {
   "cell_type": "markdown",
   "metadata": {},
   "source": [
    "Tenemos la importancia de las palabras pero no sabemos para donde afectan. No sabemos si esa palabra que afecta con .008 nos lleva a un mal capítulo o a uno bueno. Podemos elegir perder certeza para tener mejor interpretabilidad."
   ]
  },
  {
   "cell_type": "code",
   "execution_count": 135,
   "metadata": {},
   "outputs": [
    {
     "data": {
      "text/plain": [
       "262"
      ]
     },
     "execution_count": 135,
     "metadata": {},
     "output_type": "execute_result"
    }
   ],
   "source": [
    "indices = importancia.query('importancia2 > 0.0008').index\n",
    "len(indices)"
   ]
  },
  {
   "cell_type": "code",
   "execution_count": 136,
   "metadata": {},
   "outputs": [],
   "source": [
    "from sklearn.tree import DecisionTreeClassifier\n",
    "y_train = test.rating2[indices_ent]"
   ]
  },
  {
   "cell_type": "code",
   "execution_count": 137,
   "metadata": {},
   "outputs": [],
   "source": [
    "# Encontramos los mejors hiperparámetros\n",
    "dt = DecisionTreeClassifier()\n",
    "cross = GridSearchCV(dt, {'max_depth': range(20, 100)}, cv=5, n_jobs=-1, scoring='f1_micro')"
   ]
  },
  {
   "cell_type": "markdown",
   "metadata": {},
   "source": [
    "Encontramos el mejor árbol con Cross Validation."
   ]
  },
  {
   "cell_type": "code",
   "execution_count": 138,
   "metadata": {},
   "outputs": [
    {
     "data": {
      "text/plain": [
       "GridSearchCV(cv=5, error_score='raise-deprecating',\n",
       "       estimator=DecisionTreeClassifier(class_weight=None, criterion='gini', max_depth=None,\n",
       "            max_features=None, max_leaf_nodes=None,\n",
       "            min_impurity_decrease=0.0, min_impurity_split=None,\n",
       "            min_samples_leaf=1, min_samples_split=2,\n",
       "            min_weight_fraction_leaf=0.0, presort=False, random_state=None,\n",
       "            splitter='best'),\n",
       "       fit_params=None, iid='warn', n_jobs=-1,\n",
       "       param_grid={'max_depth': range(20, 100)}, pre_dispatch='2*n_jobs',\n",
       "       refit=True, return_train_score='warn', scoring='f1_micro',\n",
       "       verbose=0)"
      ]
     },
     "execution_count": 138,
     "metadata": {},
     "output_type": "execute_result"
    }
   ],
   "source": [
    "cross.fit(train_text[:, indices], y_train)"
   ]
  },
  {
   "cell_type": "code",
   "execution_count": 139,
   "metadata": {},
   "outputs": [
    {
     "name": "stdout",
     "output_type": "stream",
     "text": [
      "El mejor estimador es: DecisionTreeClassifier(class_weight=None, criterion='gini', max_depth=20,\n",
      "            max_features=None, max_leaf_nodes=None,\n",
      "            min_impurity_decrease=0.0, min_impurity_split=None,\n",
      "            min_samples_leaf=1, min_samples_split=2,\n",
      "            min_weight_fraction_leaf=0.0, presort=False, random_state=None,\n",
      "            splitter='best') con el score: 0.539060366020213\n"
     ]
    }
   ],
   "source": [
    "print('El mejor estimador es:', cross.best_estimator_, 'con el score:', cross.best_score_)"
   ]
  },
  {
   "cell_type": "code",
   "execution_count": 140,
   "metadata": {},
   "outputs": [
    {
     "data": {
      "text/plain": [
       "{'fit_time': array([0.43568802, 0.46480989, 0.52837706, 0.44769001, 0.42190909]),\n",
       " 'score_time': array([0.00578475, 0.00579786, 0.00593996, 0.00643706, 0.00661778]),\n",
       " 'test_score': array([0.52969283, 0.54675768, 0.52527322, 0.55737705, 0.53346995]),\n",
       " 'train_score': array([0.71350521, 0.7420181 , 0.76920451, 0.72226016, 0.71628542])}"
      ]
     },
     "execution_count": 140,
     "metadata": {},
     "output_type": "execute_result"
    }
   ],
   "source": [
    "cross_validate(\n",
    "    cross.best_estimator_, \n",
    "    train_text[:, indices], \n",
    "    y_train, \n",
    "    cv=5, \n",
    "    return_train_score=True, \n",
    "    scoring='f1_micro')"
   ]
  },
  {
   "cell_type": "markdown",
   "metadata": {},
   "source": [
    "Crearemos una foto del árbol de decision para tener interpretabilidad. ¿Qué combinaciones de palabras nos llevan a un promedio superior a 8.3?"
   ]
  },
  {
   "cell_type": "code",
   "execution_count": 143,
   "metadata": {},
   "outputs": [],
   "source": [
    "from sklearn import tree\n",
    "import graphviz"
   ]
  },
  {
   "cell_type": "code",
   "execution_count": 144,
   "metadata": {},
   "outputs": [
    {
     "data": {
      "text/plain": [
       "'arbol.dot.png'"
      ]
     },
     "execution_count": 144,
     "metadata": {},
     "output_type": "execute_result"
    }
   ],
   "source": [
    "graf = tree.export_graphviz(\n",
    "    cross.best_estimator_,\n",
    "    out_file='arbol.dot', \n",
    "    feature_names=importancia.query('importancia2 > 0.0008').palabra.values,  \n",
    "    class_names=['malo', 'bueno'],  \n",
    "    filled=True, rounded=True,  \n",
    "    special_characters=True)\n",
    "graphviz.render('dot', 'png', 'arbol.dot')"
   ]
  },
  {
   "cell_type": "markdown",
   "metadata": {},
   "source": [
    "### Conclusiones segundo acercamiento\n",
    "Una estimación del rating del capítulo con las palabras utilizadas por escena no mejora mucho a una estimación con personajes. Sin embargo, en este acercamiento tenemos interpretabilidad y entender qué palabras generan que resultados."
   ]
  },
  {
   "cell_type": "markdown",
   "metadata": {},
   "source": [
    "## Aprendizaje (tercer acercamiento)\n",
    "\n",
    "### Justificación\n",
    "Al tener un pivot de temporada-episodio-escena contra personajes, podemos verlo como un problema de asociación. Esto nos ayudará a ver las relaciones entre personajes que se crearon a lo largo de la serie.\n",
    "\n",
    "Importamos las herramientas para realizar asociación apriori.\n",
    "\n",
    "### Modelado"
   ]
  },
  {
   "cell_type": "code",
   "execution_count": 145,
   "metadata": {},
   "outputs": [],
   "source": [
    "from apyori import apriori"
   ]
  },
  {
   "cell_type": "code",
   "execution_count": 149,
   "metadata": {},
   "outputs": [],
   "source": [
    "# Realizamos un pivot table para tener las líneas por personaje por escena\n",
    "test = full.pivot_table(index = ['season', 'episode', 'scene'],\n",
    "                        columns='speaker',\n",
    "                        aggfunc=len,\n",
    "                        fill_value=0,\n",
    "                        values='line_text')"
   ]
  },
  {
   "cell_type": "code",
   "execution_count": 151,
   "metadata": {},
   "outputs": [],
   "source": [
    "# Obtenemos los personajes relevantes\n",
    "personajes = list(test.columns)"
   ]
  },
  {
   "cell_type": "code",
   "execution_count": 153,
   "metadata": {},
   "outputs": [],
   "source": [
    "# Realizamos un pivot table para tener las líneas por personaje por escena\n",
    "apdf = full.pivot_table(index = ['season', 'episode', 'scene'],\n",
    "                        columns='speaker',\n",
    "                        aggfunc=len,\n",
    "                        fill_value=0,\n",
    "                        values='line_text')"
   ]
  },
  {
   "cell_type": "code",
   "execution_count": 154,
   "metadata": {},
   "outputs": [],
   "source": [
    "# Lo convertimos a lista para convertir a algo procesable para apriori\n",
    "aplist = apdf.values.tolist()\n",
    "apdf.to_csv('apriori.csv')\n"
   ]
  },
  {
   "cell_type": "code",
   "execution_count": 155,
   "metadata": {},
   "outputs": [],
   "source": [
    "# Procesamos las listas para apriori\n",
    "for j in aplist:\n",
    "    if(len(j) == 85):\n",
    "        for index, item in enumerate(j):\n",
    "            if(item != 0):\n",
    "                j[index] = personajes[index]\n",
    "                \n",
    "for index, item in enumerate(aplist):\n",
    "    aplist[index] = list(filter(lambda x: x != 0, item))"
   ]
  },
  {
   "cell_type": "code",
   "execution_count": 156,
   "metadata": {},
   "outputs": [],
   "source": [
    "# Fijamos los criterios de reglas\n",
    "reglas = list(\n",
    "    apriori(\n",
    "        aplist,\n",
    "        min_support=0.01,\n",
    "        min_confidence=0.1,\n",
    "        min_lift=1))"
   ]
  },
  {
   "cell_type": "code",
   "execution_count": 157,
   "metadata": {},
   "outputs": [
    {
     "name": "stdout",
     "output_type": "stream",
     "text": [
      "Rule: frozenset({'andy'})\n",
      "Support: 0.14649055779936687\n",
      "Confidence: 0.14649055779936687\n",
      "Lift: 1.0\n",
      "=====================================\n",
      "Rule: frozenset({'dwight'})\n",
      "Support: 0.2701670123348979\n",
      "Confidence: 0.2701670123348979\n",
      "Lift: 1.0\n",
      "=====================================\n",
      "Rule: frozenset({'jim'})\n",
      "Support: 0.2411308809081978\n",
      "Confidence: 0.2411308809081978\n",
      "Lift: 1.0\n",
      "=====================================\n",
      "Rule: frozenset({'michael'})\n",
      "Support: 0.34657788451042465\n",
      "Confidence: 0.34657788451042465\n",
      "Lift: 1.0\n",
      "=====================================\n",
      "Rule: frozenset({'pam'})\n",
      "Support: 0.21613360986791835\n",
      "Confidence: 0.21613360986791835\n",
      "Lift: 1.0\n",
      "=====================================\n",
      "Rule: frozenset({'angela', 'andy'})\n",
      "Support: 0.0155004912127497\n",
      "Confidence: 0.10581222056631893\n",
      "Lift: 1.2754549376421682\n",
      "=====================================\n",
      "Rule: frozenset({'daryl', 'andy'})\n",
      "Support: 0.0155004912127497\n",
      "Confidence: 0.10581222056631893\n",
      "Lift: 1.9782566379756077\n",
      "=====================================\n",
      "Rule: frozenset({'erin', 'andy'})\n",
      "Support: 0.025106429429101625\n",
      "Confidence: 0.17138599105812222\n",
      "Lift: 2.557112482220615\n",
      "=====================================\n",
      "Rule: frozenset({'extra', 'andy'})\n",
      "Support: 0.01560964960157188\n",
      "Confidence: 0.10655737704918034\n",
      "Lift: 1.0762647531946428\n",
      "=====================================\n",
      "Rule: frozenset({'kevin', 'andy'})\n",
      "Support: 0.022159152930902738\n",
      "Confidence: 0.1512667660208644\n",
      "Lift: 1.5500613462160389\n",
      "=====================================\n",
      "Rule: frozenset({'meredith', 'andy'})\n",
      "Support: 0.010479205326929374\n",
      "Confidence: 0.25\n",
      "Lift: 1.7065946348733234\n",
      "=====================================\n",
      "Rule: frozenset({'oscar', 'andy'})\n",
      "Support: 0.018229450933304223\n",
      "Confidence: 0.12444113263785395\n",
      "Lift: 1.5405475893180811\n",
      "=====================================\n",
      "Rule: frozenset({'phyllis', 'andy'})\n",
      "Support: 0.019539351599170397\n",
      "Confidence: 0.13338301043219078\n",
      "Lift: 1.903304919889875\n",
      "=====================================\n",
      "Rule: frozenset({'stanley', 'andy'})\n",
      "Support: 0.014299748935705708\n",
      "Confidence: 0.27291666666666664\n",
      "Lift: 1.8630324764033779\n",
      "=====================================\n",
      "Rule: frozenset({'angela', 'dwight'})\n",
      "Support: 0.03111014081432158\n",
      "Confidence: 0.375\n",
      "Lift: 1.3880303030303032\n",
      "=====================================\n",
      "Rule: frozenset({'angela', 'kevin'})\n",
      "Support: 0.023469053596768912\n",
      "Confidence: 0.28289473684210525\n",
      "Lift: 2.8988799599670316\n",
      "=====================================\n",
      "Rule: frozenset({'angela', 'oscar'})\n",
      "Support: 0.022377469708547103\n",
      "Confidence: 0.26973684210526316\n",
      "Lift: 3.33926920341394\n",
      "=====================================\n",
      "Rule: frozenset({'angela', 'pam'})\n",
      "Support: 0.020740093876214387\n",
      "Confidence: 0.25\n",
      "Lift: 1.1566919191919192\n",
      "=====================================\n",
      "Rule: frozenset({'angela', 'phyllis'})\n",
      "Support: 0.016264599934504968\n",
      "Confidence: 0.19605263157894737\n",
      "Lift: 2.797567224135104\n",
      "=====================================\n",
      "Rule: frozenset({'daryl', 'kevin'})\n",
      "Support: 0.01004257177164065\n",
      "Confidence: 0.18775510204081633\n",
      "Lift: 1.9239647536867097\n",
      "=====================================\n",
      "Rule: frozenset({'dwight', 'extra'})\n",
      "Support: 0.02794454753847833\n",
      "Confidence: 0.10343434343434343\n",
      "Lift: 1.0447210807078504\n",
      "=====================================\n",
      "Rule: frozenset({'jim', 'dwight'})\n",
      "Support: 0.0769566641196376\n",
      "Confidence: 0.2848484848484849\n",
      "Lift: 1.181302385557705\n",
      "=====================================\n",
      "Rule: frozenset({'dwight', 'meredith'})\n",
      "Support: 0.013535640213950442\n",
      "Confidence: 0.3229166666666667\n",
      "Lift: 1.1952483164983165\n",
      "=====================================\n",
      "Rule: frozenset({'oscar', 'dwight'})\n",
      "Support: 0.021940836153258376\n",
      "Confidence: 0.2716216216216216\n",
      "Lift: 1.0053841113841113\n",
      "=====================================\n",
      "Rule: frozenset({'dwight', 'phyllis'})\n",
      "Support: 0.02630717170614562\n",
      "Confidence: 0.3753894080996885\n",
      "Lift: 1.3894716636772713\n",
      "=====================================\n",
      "Rule: frozenset({'dwight', 'stanley'})\n",
      "Support: 0.018666084488592947\n",
      "Confidence: 0.35624999999999996\n",
      "Lift: 1.3186287878787877\n",
      "=====================================\n",
      "Rule: frozenset({'erin', 'kevin'})\n",
      "Support: 0.011461630826329004\n",
      "Confidence: 0.17100977198697068\n",
      "Lift: 1.752371947620401\n",
      "=====================================\n",
      "Rule: frozenset({'michael', 'extra'})\n",
      "Support: 0.039297019975985156\n",
      "Confidence: 0.39691289966923926\n",
      "Lift: 1.1452343539747718\n",
      "=====================================\n",
      "Rule: frozenset({'michael', 'holly'})\n",
      "Support: 0.012880689881017357\n",
      "Confidence: 0.7151515151515152\n",
      "Lift: 2.063465521355285\n",
      "=====================================\n",
      "Rule: frozenset({'jan', 'michael'})\n",
      "Support: 0.016919550267438053\n",
      "Confidence: 0.695067264573991\n",
      "Lift: 2.0055153419723877\n",
      "=====================================\n",
      "Rule: frozenset({'jim', 'kevin'})\n",
      "Support: 0.02554306298439035\n",
      "Confidence: 0.10593028519692169\n",
      "Lift: 1.085489197638702\n",
      "=====================================\n",
      "Rule: frozenset({'jim', 'meredith'})\n",
      "Support: 0.010588363715751555\n",
      "Confidence: 0.2526041666666667\n",
      "Lift: 1.0475811547457372\n",
      "=====================================\n",
      "Rule: frozenset({'oscar', 'jim'})\n",
      "Support: 0.019539351599170397\n",
      "Confidence: 0.2418918918918919\n",
      "Lift: 1.0031560079771942\n",
      "=====================================\n",
      "Rule: frozenset({'jim', 'pam'})\n",
      "Support: 0.08972819561183278\n",
      "Confidence: 0.37211407876867364\n",
      "Lift: 1.7216853917170805\n",
      "=====================================\n",
      "Rule: frozenset({'jim', 'phyllis'})\n",
      "Support: 0.021504202597969653\n",
      "Confidence: 0.3068535825545171\n",
      "Lift: 1.2725602850982034\n",
      "=====================================\n",
      "Rule: frozenset({'jim', 'stanley'})\n",
      "Support: 0.01659207510097151\n",
      "Confidence: 0.31666666666666665\n",
      "Lift: 1.3132563754338313\n",
      "=====================================\n",
      "Rule: frozenset({'pam', 'kelly'})\n",
      "Support: 0.013644798602772623\n",
      "Confidence: 0.27839643652561247\n",
      "Lift: 1.288075633844008\n",
      "=====================================\n",
      "Rule: frozenset({'kelly', 'ryan'})\n",
      "Support: 0.011679947603973366\n",
      "Confidence: 0.2383073496659243\n",
      "Lift: 3.857126555281859\n",
      "=====================================\n",
      "Rule: frozenset({'meredith', 'kevin'})\n",
      "Support: 0.011679947603973366\n",
      "Confidence: 0.11968680089485459\n",
      "Lift: 2.855340580723341\n",
      "=====================================\n",
      "Rule: frozenset({'oscar', 'kevin'})\n",
      "Support: 0.025979696539679076\n",
      "Confidence: 0.2662192393736018\n",
      "Lift: 3.2957222322994135\n",
      "=====================================\n",
      "Rule: frozenset({'pam', 'kevin'})\n",
      "Support: 0.024669795873812902\n",
      "Confidence: 0.25279642058165547\n",
      "Lift: 1.1696303075497705\n",
      "=====================================\n",
      "Rule: frozenset({'phyllis', 'kevin'})\n",
      "Support: 0.016919550267438053\n",
      "Confidence: 0.17337807606263983\n",
      "Lift: 2.4740133252489773\n",
      "=====================================\n",
      "Rule: frozenset({'stanley', 'kevin'})\n",
      "Support: 0.010370046938107193\n",
      "Confidence: 0.10626398210290827\n",
      "Lift: 2.028092375093214\n",
      "=====================================\n",
      "Rule: frozenset({'oscar', 'meredith'})\n",
      "Support: 0.011461630826329004\n",
      "Confidence: 0.2734375\n",
      "Lift: 3.385082347972973\n",
      "=====================================\n",
      "Rule: frozenset({'meredith', 'pam'})\n",
      "Support: 0.012880689881017357\n",
      "Confidence: 0.3072916666666667\n",
      "Lift: 1.4217671506734006\n",
      "=====================================\n",
      "Rule: frozenset({'michael', 'ryan'})\n",
      "Support: 0.024888112651457264\n",
      "Confidence: 0.4028268551236749\n",
      "Lift: 1.1622982109568458\n",
      "=====================================\n",
      "Rule: frozenset({'michael', 'stanley'})\n",
      "Support: 0.020412618709747844\n",
      "Confidence: 0.38958333333333334\n",
      "Lift: 1.1240859580052494\n",
      "=====================================\n",
      "Rule: frozenset({'michael', 'toby'})\n",
      "Support: 0.01440890732452789\n",
      "Confidence: 0.3529411764705882\n",
      "Lift: 1.0183603520148214\n",
      "=====================================\n",
      "Rule: frozenset({'oscar', 'pam'})\n",
      "Support: 0.020630935487392206\n",
      "Confidence: 0.2554054054054054\n",
      "Lift: 1.1817014742014742\n",
      "=====================================\n",
      "Rule: frozenset({'oscar', 'phyllis'})\n",
      "Support: 0.01659207510097151\n",
      "Confidence: 0.20540540540540542\n",
      "Lift: 2.9310263534562604\n",
      "=====================================\n",
      "Rule: frozenset({'oscar', 'stanley'})\n",
      "Support: 0.010588363715751555\n",
      "Confidence: 0.13108108108108107\n",
      "Lift: 2.5017370495495492\n",
      "=====================================\n",
      "Rule: frozenset({'pam', 'phyllis'})\n",
      "Support: 0.022814103263835827\n",
      "Confidence: 0.10555555555555556\n",
      "Lift: 1.5062218760816892\n",
      "=====================================\n",
      "Rule: frozenset({'pam', 'ryan'})\n",
      "Support: 0.015063857657460976\n",
      "Confidence: 0.24381625441696114\n",
      "Lift: 1.1280811650069602\n",
      "=====================================\n",
      "Rule: frozenset({'stanley', 'pam'})\n",
      "Support: 0.01331732343630608\n",
      "Confidence: 0.25416666666666665\n",
      "Lift: 1.1759701178451178\n",
      "=====================================\n",
      "Rule: frozenset({'stanley', 'phyllis'})\n",
      "Support: 0.019430193210348216\n",
      "Confidence: 0.2772585669781932\n",
      "Lift: 5.291595275181724\n",
      "=====================================\n",
      "Rule: frozenset({'jim', 'dwight', 'andy'})\n",
      "Support: 0.013426481825128261\n",
      "Confidence: 0.37048192771084343\n",
      "Lift: 1.5364350112082557\n",
      "=====================================\n",
      "Rule: frozenset({'dwight', 'michael', 'andy'})\n",
      "Support: 0.010697522104573736\n",
      "Confidence: 0.4336283185840708\n",
      "Lift: 1.6050379905247163\n",
      "=====================================\n",
      "Rule: frozenset({'jim', 'pam', 'andy'})\n",
      "Support: 0.012444056325728632\n",
      "Confidence: 0.35962145110410093\n",
      "Lift: 1.6638849058407417\n",
      "=====================================\n",
      "Rule: frozenset({'angela', 'oscar', 'kevin'})\n",
      "Support: 0.011898264381617727\n",
      "Confidence: 0.5069767441860465\n",
      "Lift: 6.276235072281584\n",
      "=====================================\n",
      "Rule: frozenset({'dwight', 'michael', 'extra'})\n",
      "Support: 0.010151730160462832\n",
      "Confidence: 0.36328125\n",
      "Lift: 1.048195127952756\n",
      "=====================================\n",
      "Rule: frozenset({'jim', 'dwight', 'kevin'})\n",
      "Support: 0.010151730160462832\n",
      "Confidence: 0.13191489361702127\n",
      "Lift: 1.3517587700509306\n",
      "=====================================\n",
      "Rule: frozenset({'jim', 'dwight', 'michael'})\n",
      "Support: 0.022268311319724923\n",
      "Confidence: 0.2723631508678238\n",
      "Lift: 1.1295241399276297\n",
      "=====================================\n",
      "Rule: frozenset({'jim', 'dwight', 'pam'})\n",
      "Support: 0.023469053596768912\n",
      "Confidence: 0.3049645390070922\n",
      "Lift: 1.4110000716383695\n",
      "=====================================\n",
      "Rule: frozenset({'jim', 'dwight', 'phyllis'})\n",
      "Support: 0.011570789215151185\n",
      "Confidence: 0.150354609929078\n",
      "Lift: 2.145480656635956\n",
      "=====================================\n",
      "Rule: frozenset({'dwight', 'michael', 'pam'})\n",
      "Support: 0.01560964960157188\n",
      "Confidence: 0.3602015113350126\n",
      "Lift: 1.0393089906582835\n",
      "=====================================\n",
      "Rule: frozenset({'dwight', 'michael', 'phyllis'})\n",
      "Support: 0.011352472437506823\n",
      "Confidence: 0.13885180240320427\n",
      "Lift: 1.9813416850712684\n",
      "=====================================\n",
      "Rule: frozenset({'jim', 'michael', 'kevin'})\n",
      "Support: 0.010479205326929374\n",
      "Confidence: 0.4102564102564103\n",
      "Lift: 1.1837351100343227\n",
      "=====================================\n",
      "Rule: frozenset({'jim', 'pam', 'kevin'})\n",
      "Support: 0.01222573954808427\n",
      "Confidence: 0.47863247863247865\n",
      "Lift: 2.214521281187948\n",
      "=====================================\n",
      "Rule: frozenset({'jim', 'michael', 'pam'})\n",
      "Support: 0.022595786486191465\n",
      "Confidence: 0.4019417475728156\n",
      "Lift: 1.859691085613416\n",
      "=====================================\n",
      "Rule: frozenset({'jim', 'pam', 'phyllis'})\n",
      "Support: 0.010370046938107193\n",
      "Confidence: 0.11557177615571776\n",
      "Lift: 1.6491480395054992\n",
      "=====================================\n"
     ]
    }
   ],
   "source": [
    "# Imprimimos las reglas (gracias: https://stackabuse.com/association-rule-mining-via-apriori-algorithm-in-python/)\n",
    "for item in reglas:\n",
    "\n",
    "    # first index of the inner list\n",
    "    # Contains base item and add item\n",
    "    pair = item[0]\n",
    "    print(\"Rule: \" + str(pair))\n",
    "\n",
    "    #second index of the inner list\n",
    "    print(\"Support: \" + str(item[1]))\n",
    "\n",
    "    #third index of the list located at 0th\n",
    "    #of the third index of the inner list\n",
    "\n",
    "    print(\"Confidence: \" + str(item[2][0][2]))\n",
    "    print(\"Lift: \" + str(item[2][0][3]))\n",
    "    print(\"=====================================\")"
   ]
  },
  {
   "cell_type": "markdown",
   "metadata": {},
   "source": [
    "Ya tenemos unas reglas de asociación, para poder verlas bien las graficamos con ayuda de la librería graphviz."
   ]
  },
  {
   "cell_type": "code",
   "execution_count": 158,
   "metadata": {},
   "outputs": [],
   "source": [
    "from graphviz import Graph, Digraph"
   ]
  },
  {
   "cell_type": "code",
   "execution_count": 162,
   "metadata": {},
   "outputs": [],
   "source": [
    "grafo = Digraph()\n",
    "grafo.attr(size='9,9')\n",
    "grafo.node_attr.update(style='filled')\n",
    "for rule in reglas:\n",
    "    if(len(rule[0]) == 2):\n",
    "        items = [x for x in rule[0]]\n",
    "        if(rule[1] > 0.02):\n",
    "            grafo.attr('node', shape='doublecircle')\n",
    "            grafo.attr('node', color='mediumseagreen')\n",
    "        else:\n",
    "            grafo.attr('node', shape='circle')\n",
    "            grafo.attr('node', color='lightblue2')\n",
    "        for item in items:\n",
    "            if(item == 'extra'):\n",
    "                grafo.attr('node', color='violetred1')\n",
    "            grafo.node(item)\n",
    "        if(rule[2][0][2] < .15):\n",
    "            grafo.attr('edge', style='dashed')\n",
    "        else:\n",
    "            grafo.attr('edge', style='filled')\n",
    "        grafo.edge(items[0],\n",
    "                   items[1],\n",
    "                   #label=str(rule[2][0][2]),\n",
    "                   weight='1',\n",
    "                   penwidth=str(rule[2][0][3]))"
   ]
  },
  {
   "cell_type": "code",
   "execution_count": 163,
   "metadata": {},
   "outputs": [
    {
     "data": {
      "image/svg+xml": [
       "<?xml version=\"1.0\" encoding=\"UTF-8\" standalone=\"no\"?>\n",
       "<!DOCTYPE svg PUBLIC \"-//W3C//DTD SVG 1.1//EN\"\n",
       " \"http://www.w3.org/Graphics/SVG/1.1/DTD/svg11.dtd\">\n",
       "<!-- Generated by graphviz version 2.40.1 (20161225.0304)\n",
       " -->\n",
       "<!-- Title: %3 Pages: 1 -->\n",
       "<svg width=\"648pt\" height=\"590pt\"\n",
       " viewBox=\"0.00 0.00 648.00 589.61\" xmlns=\"http://www.w3.org/2000/svg\" xmlns:xlink=\"http://www.w3.org/1999/xlink\">\n",
       "<g id=\"graph0\" class=\"graph\" transform=\"scale(.6639 .6639) rotate(0) translate(4 884.1018)\">\n",
       "<title>%3</title>\n",
       "<polygon fill=\"#ffffff\" stroke=\"transparent\" points=\"-4,4 -4,-884.1018 972.0509,-884.1018 972.0509,4 -4,4\"/>\n",
       "<!-- angela -->\n",
       "<g id=\"node1\" class=\"node\">\n",
       "<title>angela</title>\n",
       "<ellipse fill=\"#b2dfee\" stroke=\"#b2dfee\" cx=\"531.0509\" cy=\"-846.9191\" rx=\"33.3665\" ry=\"33.3665\"/>\n",
       "<text text-anchor=\"middle\" x=\"531.0509\" y=\"-842.7191\" font-family=\"Times,serif\" font-size=\"14.00\" fill=\"#000000\">angela</text>\n",
       "</g>\n",
       "<!-- andy -->\n",
       "<g id=\"node2\" class=\"node\">\n",
       "<title>andy</title>\n",
       "<ellipse fill=\"#b2dfee\" stroke=\"#b2dfee\" cx=\"485.0509\" cy=\"-27.2972\" rx=\"27.0958\" ry=\"27.0958\"/>\n",
       "<text text-anchor=\"middle\" x=\"485.0509\" y=\"-23.0972\" font-family=\"Times,serif\" font-size=\"14.00\" fill=\"#000000\">andy</text>\n",
       "</g>\n",
       "<!-- angela&#45;&gt;andy -->\n",
       "<g id=\"edge1\" class=\"edge\">\n",
       "<title>angela&#45;&gt;andy</title>\n",
       "<path fill=\"none\" stroke=\"#000000\" stroke-width=\"1.2755\" stroke-dasharray=\"5,2\" d=\"M563.897,-840.1912C665.5263,-818.4423 968.0509,-746.3103 968.0509,-658.3062 968.0509,-658.3062 968.0509,-658.3062 968.0509,-228.2872 968.0509,-131.7349 634.897,-56.9246 521.9696,-34.3399\"/>\n",
       "<polygon fill=\"#000000\" stroke=\"#000000\" stroke-width=\"1.2755\" points=\"522.5432,-30.8856 512.0541,-32.3784 521.1847,-37.7525 522.5432,-30.8856\"/>\n",
       "</g>\n",
       "<!-- kevin -->\n",
       "<g id=\"node6\" class=\"node\">\n",
       "<title>kevin</title>\n",
       "<ellipse fill=\"#3cb371\" stroke=\"#3cb371\" cx=\"353.0509\" cy=\"-124.3485\" rx=\"29.539\" ry=\"29.539\"/>\n",
       "<ellipse fill=\"none\" stroke=\"#3cb371\" cx=\"353.0509\" cy=\"-124.3485\" rx=\"33.5101\" ry=\"33.5101\"/>\n",
       "<text text-anchor=\"middle\" x=\"353.0509\" y=\"-120.1485\" font-family=\"Times,serif\" font-size=\"14.00\" fill=\"#000000\">kevin</text>\n",
       "</g>\n",
       "<!-- angela&#45;&gt;kevin -->\n",
       "<g id=\"edge11\" class=\"edge\">\n",
       "<title>angela&#45;&gt;kevin</title>\n",
       "<path fill=\"none\" stroke=\"#000000\" stroke-width=\"2.8989\" d=\"M497.8289,-844.6912C453.2379,-839.9125 374.4019,-824.8957 329.0509,-777.7364 303.1427,-750.795 258.5795,-726.3047 206.0509,-357.1366 202.029,-328.8704 204.0605,-200.3176 208.0509,-194.1027 230.4147,-159.2724 275.4661,-141.3934 309.4501,-132.5113\"/>\n",
       "<polygon fill=\"#000000\" stroke=\"#000000\" stroke-width=\"2.8989\" points=\"310.7183,-135.8047 319.6042,-130.0348 309.0596,-129.004 310.7183,-135.8047\"/>\n",
       "</g>\n",
       "<!-- oscar -->\n",
       "<g id=\"node8\" class=\"node\">\n",
       "<title>oscar</title>\n",
       "<ellipse fill=\"#b2dfee\" stroke=\"#b2dfee\" cx=\"415.0509\" cy=\"-748.971\" rx=\"28.5325\" ry=\"28.5325\"/>\n",
       "<text text-anchor=\"middle\" x=\"415.0509\" y=\"-744.771\" font-family=\"Times,serif\" font-size=\"14.00\" fill=\"#000000\">oscar</text>\n",
       "</g>\n",
       "<!-- angela&#45;&gt;oscar -->\n",
       "<g id=\"edge12\" class=\"edge\">\n",
       "<title>angela&#45;&gt;oscar</title>\n",
       "<path fill=\"none\" stroke=\"#000000\" stroke-width=\"3.3393\" d=\"M505.5942,-825.424C487.7374,-810.346 463.7956,-790.13 445.0165,-774.2733\"/>\n",
       "<polygon fill=\"#000000\" stroke=\"#000000\" stroke-width=\"3.3393\" points=\"447.2158,-771.5495 437.3172,-767.7722 442.6997,-776.8979 447.2158,-771.5495\"/>\n",
       "</g>\n",
       "<!-- phyllis -->\n",
       "<g id=\"node9\" class=\"node\">\n",
       "<title>phyllis</title>\n",
       "<ellipse fill=\"#b2dfee\" stroke=\"#b2dfee\" cx=\"291.0509\" cy=\"-228.2872\" rx=\"34.3701\" ry=\"34.3701\"/>\n",
       "<text text-anchor=\"middle\" x=\"291.0509\" y=\"-224.0872\" font-family=\"Times,serif\" font-size=\"14.00\" fill=\"#000000\">phyllis</text>\n",
       "</g>\n",
       "<!-- angela&#45;&gt;phyllis -->\n",
       "<g id=\"edge14\" class=\"edge\">\n",
       "<title>angela&#45;&gt;phyllis</title>\n",
       "<path fill=\"none\" stroke=\"#000000\" stroke-width=\"2.7976\" d=\"M498.7707,-838.5277C465.2818,-828.5259 412.891,-809.1051 377.0509,-777.7364 340.2445,-745.5218 335.0971,-730.4119 319.0509,-684.2057 269.092,-540.3454 278.3298,-355.7647 286.0648,-272.5082\"/>\n",
       "<polygon fill=\"#000000\" stroke=\"#000000\" stroke-width=\"2.7976\" points=\"289.5642,-272.6835 287.0443,-262.3927 282.5967,-272.0088 289.5642,-272.6835\"/>\n",
       "</g>\n",
       "<!-- dwight -->\n",
       "<g id=\"node11\" class=\"node\">\n",
       "<title>dwight</title>\n",
       "<ellipse fill=\"#3cb371\" stroke=\"#3cb371\" cx=\"493.0509\" cy=\"-554.3099\" rx=\"34.8278\" ry=\"34.8278\"/>\n",
       "<ellipse fill=\"none\" stroke=\"#3cb371\" cx=\"493.0509\" cy=\"-554.3099\" rx=\"38.8457\" ry=\"38.8457\"/>\n",
       "<text text-anchor=\"middle\" x=\"493.0509\" y=\"-550.1099\" font-family=\"Times,serif\" font-size=\"14.00\" fill=\"#000000\">dwight</text>\n",
       "</g>\n",
       "<!-- angela&#45;&gt;dwight -->\n",
       "<g id=\"edge10\" class=\"edge\">\n",
       "<title>angela&#45;&gt;dwight</title>\n",
       "<path fill=\"none\" stroke=\"#000000\" stroke-width=\"1.388\" d=\"M526.7657,-813.9219C520.0685,-762.3515 507.0864,-662.3861 499.3317,-602.6734\"/>\n",
       "<polygon fill=\"#000000\" stroke=\"#000000\" stroke-width=\"1.388\" points=\"502.7994,-602.1973 498.0406,-592.7314 495.8577,-603.0989 502.7994,-602.1973\"/>\n",
       "</g>\n",
       "<!-- pam -->\n",
       "<g id=\"node12\" class=\"node\">\n",
       "<title>pam</title>\n",
       "<ellipse fill=\"#3cb371\" stroke=\"#3cb371\" cx=\"636.0509\" cy=\"-327.8042\" rx=\"25.1885\" ry=\"25.1885\"/>\n",
       "<ellipse fill=\"none\" stroke=\"#3cb371\" cx=\"636.0509\" cy=\"-327.8042\" rx=\"29.1658\" ry=\"29.1658\"/>\n",
       "<text text-anchor=\"middle\" x=\"636.0509\" y=\"-323.6042\" font-family=\"Times,serif\" font-size=\"14.00\" fill=\"#000000\">pam</text>\n",
       "</g>\n",
       "<!-- angela&#45;&gt;pam -->\n",
       "<g id=\"edge13\" class=\"edge\">\n",
       "<title>angela&#45;&gt;pam</title>\n",
       "<path fill=\"none\" stroke=\"#000000\" stroke-width=\"1.1567\" d=\"M558.9622,-828.2482C600.5779,-797.9249 674.0509,-733.7111 674.0509,-658.3062 674.0509,-658.3062 674.0509,-658.3062 674.0509,-554.3099 674.0509,-487.3544 657.7013,-410.7812 646.4507,-366.0154\"/>\n",
       "<polygon fill=\"#000000\" stroke=\"#000000\" stroke-width=\"1.1567\" points=\"649.7964,-364.9717 643.9246,-356.1529 643.0153,-366.7086 649.7964,-364.9717\"/>\n",
       "</g>\n",
       "<!-- daryl -->\n",
       "<g id=\"node3\" class=\"node\">\n",
       "<title>daryl</title>\n",
       "<ellipse fill=\"#b2dfee\" stroke=\"#b2dfee\" cx=\"485.0509\" cy=\"-228.2872\" rx=\"28.0565\" ry=\"28.0565\"/>\n",
       "<text text-anchor=\"middle\" x=\"485.0509\" y=\"-224.0872\" font-family=\"Times,serif\" font-size=\"14.00\" fill=\"#000000\">daryl</text>\n",
       "</g>\n",
       "<!-- daryl&#45;&gt;andy -->\n",
       "<g id=\"edge2\" class=\"edge\">\n",
       "<title>daryl&#45;&gt;andy</title>\n",
       "<path fill=\"none\" stroke=\"#000000\" stroke-width=\"1.9783\" stroke-dasharray=\"5,2\" d=\"M485.0509,-199.9165C485.0509,-164.6294 485.0509,-104.2669 485.0509,-65.0855\"/>\n",
       "<polygon fill=\"#000000\" stroke=\"#000000\" stroke-width=\"1.9783\" points=\"488.551,-64.8783 485.0509,-54.8784 481.551,-64.8784 488.551,-64.8783\"/>\n",
       "</g>\n",
       "<!-- daryl&#45;&gt;kevin -->\n",
       "<g id=\"edge15\" class=\"edge\">\n",
       "<title>daryl&#45;&gt;kevin</title>\n",
       "<path fill=\"none\" stroke=\"#000000\" stroke-width=\"1.924\" d=\"M462.8977,-210.0921C456.5168,-204.8959 449.5294,-199.2485 443.0509,-194.1027 425.1236,-179.8631 404.9974,-164.2314 388.3307,-151.3815\"/>\n",
       "<polygon fill=\"#000000\" stroke=\"#000000\" stroke-width=\"1.924\" points=\"390.0194,-148.2645 379.9605,-144.9375 385.7492,-153.8111 390.0194,-148.2645\"/>\n",
       "</g>\n",
       "<!-- erin -->\n",
       "<g id=\"node4\" class=\"node\">\n",
       "<title>erin</title>\n",
       "<ellipse fill=\"#3cb371\" stroke=\"#3cb371\" cx=\"66.0509\" cy=\"-228.2872\" rx=\"23.7327\" ry=\"23.7327\"/>\n",
       "<ellipse fill=\"none\" stroke=\"#3cb371\" cx=\"66.0509\" cy=\"-228.2872\" rx=\"27.712\" ry=\"27.712\"/>\n",
       "<text text-anchor=\"middle\" x=\"66.0509\" y=\"-224.0872\" font-family=\"Times,serif\" font-size=\"14.00\" fill=\"#000000\">erin</text>\n",
       "</g>\n",
       "<!-- erin&#45;&gt;andy -->\n",
       "<g id=\"edge3\" class=\"edge\">\n",
       "<title>erin&#45;&gt;andy</title>\n",
       "<path fill=\"none\" stroke=\"#000000\" stroke-width=\"2.5571\" d=\"M87.3711,-209.9098C93.857,-204.6019 101.109,-198.9406 108.0509,-194.1027 182.1878,-142.436 200.4995,-127.3502 283.0509,-90.5943 338.7617,-65.7893 407.121,-46.5466 448.3243,-36.0772\"/>\n",
       "<polygon fill=\"#000000\" stroke=\"#000000\" stroke-width=\"2.5571\" points=\"449.3402,-39.431 458.1904,-33.6065 447.6397,-32.6406 449.3402,-39.431\"/>\n",
       "</g>\n",
       "<!-- erin&#45;&gt;kevin -->\n",
       "<g id=\"edge22\" class=\"edge\">\n",
       "<title>erin&#45;&gt;kevin</title>\n",
       "<path fill=\"none\" stroke=\"#000000\" stroke-width=\"1.7524\" d=\"M86.6619,-208.7385C93.1279,-203.3977 100.5467,-198.012 108.0509,-194.1027 173.9165,-159.7897 258.7948,-140.4781 309.3994,-131.2519\"/>\n",
       "<polygon fill=\"#000000\" stroke=\"#000000\" stroke-width=\"1.7524\" points=\"310.1176,-134.6792 319.353,-129.487 308.8955,-127.7867 310.1176,-134.6792\"/>\n",
       "</g>\n",
       "<!-- extra -->\n",
       "<g id=\"node5\" class=\"node\">\n",
       "<title>extra</title>\n",
       "<ellipse fill=\"#ff3e96\" stroke=\"#ff3e96\" cx=\"730.0509\" cy=\"-434.6749\" rx=\"27.5633\" ry=\"27.5633\"/>\n",
       "<text text-anchor=\"middle\" x=\"730.0509\" y=\"-430.4749\" font-family=\"Times,serif\" font-size=\"14.00\" fill=\"#000000\">extra</text>\n",
       "</g>\n",
       "<!-- extra&#45;&gt;andy -->\n",
       "<g id=\"edge4\" class=\"edge\">\n",
       "<title>extra&#45;&gt;andy</title>\n",
       "<path fill=\"none\" stroke=\"#000000\" stroke-width=\"1.0763\" stroke-dasharray=\"5,2\" d=\"M737.766,-407.7707C754.1228,-344.5411 784.8954,-184.7347 709.0509,-90.5943 685.6605,-61.5615 579.6198,-41.4974 522.2229,-32.5559\"/>\n",
       "<polygon fill=\"#000000\" stroke=\"#000000\" stroke-width=\"1.0763\" points=\"522.5154,-29.0602 512.1026,-31.0161 521.4624,-35.9805 522.5154,-29.0602\"/>\n",
       "</g>\n",
       "<!-- kevin&#45;&gt;andy -->\n",
       "<g id=\"edge5\" class=\"edge\">\n",
       "<title>kevin&#45;&gt;andy</title>\n",
       "<path fill=\"none\" stroke=\"#000000\" stroke-width=\"1.5501\" d=\"M380.4014,-104.2394C402.0966,-88.2883 432.3946,-66.0121 454.8098,-49.5316\"/>\n",
       "<polygon fill=\"#000000\" stroke=\"#000000\" stroke-width=\"1.5501\" points=\"456.9969,-52.2678 462.9803,-43.5243 452.8503,-46.6281 456.9969,-52.2678\"/>\n",
       "</g>\n",
       "<!-- meredith -->\n",
       "<g id=\"node7\" class=\"node\">\n",
       "<title>meredith</title>\n",
       "<ellipse fill=\"#b2dfee\" stroke=\"#b2dfee\" cx=\"508.0509\" cy=\"-434.6749\" rx=\"41.5766\" ry=\"41.5766\"/>\n",
       "<text text-anchor=\"middle\" x=\"508.0509\" y=\"-430.4749\" font-family=\"Times,serif\" font-size=\"14.00\" fill=\"#000000\">meredith</text>\n",
       "</g>\n",
       "<!-- meredith&#45;&gt;andy -->\n",
       "<g id=\"edge6\" class=\"edge\">\n",
       "<title>meredith&#45;&gt;andy</title>\n",
       "<path fill=\"none\" stroke=\"#000000\" stroke-width=\"1.7066\" d=\"M533.6726,-401.4254C542.2272,-388.354 550.6877,-372.7522 555.0509,-357.1366 586.9302,-243.0435 603.1197,-198.8668 555.0509,-90.5943 547.1592,-72.8186 531.5358,-57.9184 517.0476,-47.0489\"/>\n",
       "<polygon fill=\"#000000\" stroke=\"#000000\" stroke-width=\"1.7066\" points=\"518.8932,-44.0667 508.7154,-41.1237 514.8365,-49.7714 518.8932,-44.0667\"/>\n",
       "</g>\n",
       "<!-- meredith&#45;&gt;kevin -->\n",
       "<g id=\"edge34\" class=\"edge\">\n",
       "<title>meredith&#45;&gt;kevin</title>\n",
       "<path fill=\"none\" stroke=\"#000000\" stroke-width=\"2.8553\" stroke-dasharray=\"5,2\" d=\"M484.8405,-400.0829C462.5986,-366.0212 428.9698,-312.044 405.0509,-262.4718 396.6394,-245.0387 380.0443,-200.073 367.855,-166.1451\"/>\n",
       "<polygon fill=\"#000000\" stroke=\"#000000\" stroke-width=\"2.8553\" points=\"371.0525,-164.6923 364.3862,-156.4576 364.4622,-167.0522 371.0525,-164.6923\"/>\n",
       "</g>\n",
       "<!-- meredith&#45;&gt;pam -->\n",
       "<g id=\"edge40\" class=\"edge\">\n",
       "<title>meredith&#45;&gt;pam</title>\n",
       "<path fill=\"none\" stroke=\"#000000\" stroke-width=\"1.4218\" d=\"M540.0206,-407.9826C560.0657,-391.2464 585.7589,-369.7944 605.5243,-353.2917\"/>\n",
       "<polygon fill=\"#000000\" stroke=\"#000000\" stroke-width=\"1.4218\" points=\"607.8931,-355.8735 613.3261,-346.7778 603.4067,-350.5002 607.8931,-355.8735\"/>\n",
       "</g>\n",
       "<!-- oscar&#45;&gt;andy -->\n",
       "<g id=\"edge7\" class=\"edge\">\n",
       "<title>oscar&#45;&gt;andy</title>\n",
       "<path fill=\"none\" stroke=\"#000000\" stroke-width=\"1.5405\" stroke-dasharray=\"5,2\" d=\"M390.4712,-733.0728C364.0491,-715.8753 325.0125,-690.1146 319.0509,-684.2057 139.2897,-506.0335 -79.5504,-422.7185 29.0509,-194.1027 60.2957,-128.3297 90.0754,-121.4091 156.0509,-90.5943 254.4426,-44.6392 384.3065,-32.0478 447.406,-28.5984\"/>\n",
       "<polygon fill=\"#000000\" stroke=\"#000000\" stroke-width=\"1.5405\" points=\"447.8545,-32.0804 457.6678,-28.0868 447.506,-25.0891 447.8545,-32.0804\"/>\n",
       "</g>\n",
       "<!-- oscar&#45;&gt;kevin -->\n",
       "<g id=\"edge35\" class=\"edge\">\n",
       "<title>oscar&#45;&gt;kevin</title>\n",
       "<path fill=\"none\" stroke=\"#000000\" stroke-width=\"3.2957\" d=\"M391.3857,-731.92C376.1935,-719.9771 356.9623,-702.8648 344.0509,-684.2057 336.644,-673.5015 266.6923,-494.8088 262.0509,-476.2131 231.5689,-354.0859 175.0866,-303.6683 237.0509,-194.1027 252.8144,-166.2296 284.6628,-148.266 311.0062,-137.5599\"/>\n",
       "<polygon fill=\"#000000\" stroke=\"#000000\" stroke-width=\"3.2957\" points=\"312.3451,-140.7949 320.4226,-133.9389 309.8327,-134.2613 312.3451,-140.7949\"/>\n",
       "</g>\n",
       "<!-- oscar&#45;&gt;meredith -->\n",
       "<g id=\"edge39\" class=\"edge\">\n",
       "<title>oscar&#45;&gt;meredith</title>\n",
       "<path fill=\"none\" stroke=\"#000000\" stroke-width=\"3.3851\" d=\"M437.8207,-731.0273C468.5038,-705.1778 521.528,-654.1718 541.0509,-596.4066 553.0318,-560.9571 548.5286,-548.8777 541.0509,-512.2131 538.9241,-501.7845 535.341,-491.0213 531.3011,-480.9558\"/>\n",
       "<polygon fill=\"#000000\" stroke=\"#000000\" stroke-width=\"3.3851\" points=\"534.4421,-479.3972 527.3205,-471.5528 527.9959,-482.1261 534.4421,-479.3972\"/>\n",
       "</g>\n",
       "<!-- oscar&#45;&gt;phyllis -->\n",
       "<g id=\"edge45\" class=\"edge\">\n",
       "<title>oscar&#45;&gt;phyllis</title>\n",
       "<path fill=\"none\" stroke=\"#000000\" stroke-width=\"2.931\" d=\"M396.5611,-726.455C387.5048,-714.5028 377.0679,-699.2132 370.0509,-684.2057 306.9259,-549.196 309.4903,-505.5676 296.0509,-357.1366 293.5162,-329.1421 292.2651,-297.6118 291.6482,-272.7488\"/>\n",
       "<polygon fill=\"#000000\" stroke=\"#000000\" stroke-width=\"2.931\" points=\"295.1426,-272.4507 291.4208,-262.5311 288.1443,-272.6066 295.1426,-272.4507\"/>\n",
       "</g>\n",
       "<!-- stanley -->\n",
       "<g id=\"node10\" class=\"node\">\n",
       "<title>stanley</title>\n",
       "<ellipse fill=\"#b2dfee\" stroke=\"#b2dfee\" cx=\"413.0509\" cy=\"-434.6749\" rx=\"35.3129\" ry=\"35.3129\"/>\n",
       "<text text-anchor=\"middle\" x=\"413.0509\" y=\"-430.4749\" font-family=\"Times,serif\" font-size=\"14.00\" fill=\"#000000\">stanley</text>\n",
       "</g>\n",
       "<!-- oscar&#45;&gt;stanley -->\n",
       "<g id=\"edge46\" class=\"edge\">\n",
       "<title>oscar&#45;&gt;stanley</title>\n",
       "<path fill=\"none\" stroke=\"#000000\" stroke-width=\"2.5017\" stroke-dasharray=\"5,2\" d=\"M398.5436,-725.2462C391.3434,-713.4766 383.7176,-698.7028 380.0509,-684.2057 362.0198,-612.9142 381.9537,-527.5254 397.7315,-477.3785\"/>\n",
       "<polygon fill=\"#000000\" stroke=\"#000000\" stroke-width=\"2.5017\" points=\"401.0713,-478.4255 400.8191,-467.8336 394.4111,-476.2709 401.0713,-478.4255\"/>\n",
       "</g>\n",
       "<!-- oscar&#45;&gt;dwight -->\n",
       "<g id=\"edge19\" class=\"edge\">\n",
       "<title>oscar&#45;&gt;dwight</title>\n",
       "<path fill=\"none\" stroke=\"#000000\" stroke-width=\"1.0054\" d=\"M429.9057,-723.9527C436.5704,-712.1397 444.225,-697.6997 450.0509,-684.2057 461.6468,-657.3473 472.0371,-626.2693 479.6983,-601.2472\"/>\n",
       "<polygon fill=\"#000000\" stroke=\"#000000\" stroke-width=\"1.0054\" points=\"483.0631,-602.2115 482.6013,-591.6267 476.3615,-600.1892 483.0631,-602.2115\"/>\n",
       "</g>\n",
       "<!-- oscar&#45;&gt;pam -->\n",
       "<g id=\"edge44\" class=\"edge\">\n",
       "<title>oscar&#45;&gt;pam</title>\n",
       "<path fill=\"none\" stroke=\"#000000\" stroke-width=\"1.1817\" d=\"M441.6928,-737.7596C464.8612,-726.8995 498.0742,-708.5133 520.0509,-684.2057 588.9692,-607.9781 593.008,-575.0765 621.0509,-476.2131 631.2286,-440.3324 634.7023,-397.8527 635.7937,-367.5548\"/>\n",
       "<polygon fill=\"#000000\" stroke=\"#000000\" stroke-width=\"1.1817\" points=\"639.2975,-367.4738 636.0876,-357.377 632.3004,-367.2718 639.2975,-367.4738\"/>\n",
       "</g>\n",
       "<!-- jim -->\n",
       "<g id=\"node13\" class=\"node\">\n",
       "<title>jim</title>\n",
       "<ellipse fill=\"#3cb371\" stroke=\"#3cb371\" cx=\"415.0509\" cy=\"-658.3062\" rx=\"21.8149\" ry=\"21.8149\"/>\n",
       "<ellipse fill=\"none\" stroke=\"#3cb371\" cx=\"415.0509\" cy=\"-658.3062\" rx=\"25.7995\" ry=\"25.7995\"/>\n",
       "<text text-anchor=\"middle\" x=\"415.0509\" y=\"-654.1062\" font-family=\"Times,serif\" font-size=\"14.00\" fill=\"#000000\">jim</text>\n",
       "</g>\n",
       "<!-- oscar&#45;&gt;jim -->\n",
       "<g id=\"edge28\" class=\"edge\">\n",
       "<title>oscar&#45;&gt;jim</title>\n",
       "<path fill=\"none\" stroke=\"#000000\" stroke-width=\"1.0032\" d=\"M415.0509,-720.0348C415.0509,-711.8556 415.0509,-702.8533 415.0509,-694.3127\"/>\n",
       "<polygon fill=\"#000000\" stroke=\"#000000\" stroke-width=\"1.0032\" points=\"418.551,-694.2102 415.0509,-684.2103 411.551,-694.2103 418.551,-694.2102\"/>\n",
       "</g>\n",
       "<!-- phyllis&#45;&gt;andy -->\n",
       "<g id=\"edge8\" class=\"edge\">\n",
       "<title>phyllis&#45;&gt;andy</title>\n",
       "<path fill=\"none\" stroke=\"#000000\" stroke-width=\"1.9033\" stroke-dasharray=\"5,2\" d=\"M286.5811,-194.1825C284.5308,-163.7269 286.595,-119.5747 310.0509,-90.5943 327.7667,-68.7061 402.4963,-47.2781 448.3815,-35.8322\"/>\n",
       "<polygon fill=\"#000000\" stroke=\"#000000\" stroke-width=\"1.9033\" points=\"449.3812,-39.1909 458.2603,-33.4107 447.7146,-32.3922 449.3812,-39.1909\"/>\n",
       "</g>\n",
       "<!-- phyllis&#45;&gt;kevin -->\n",
       "<g id=\"edge37\" class=\"edge\">\n",
       "<title>phyllis&#45;&gt;kevin</title>\n",
       "<path fill=\"none\" stroke=\"#000000\" stroke-width=\"2.474\" d=\"M308.6518,-198.7806C315.3846,-187.4936 323.1615,-174.4561 330.3071,-162.4769\"/>\n",
       "<polygon fill=\"#000000\" stroke=\"#000000\" stroke-width=\"2.474\" points=\"333.5036,-163.9504 335.6207,-153.5692 327.4919,-160.3643 333.5036,-163.9504\"/>\n",
       "</g>\n",
       "<!-- stanley&#45;&gt;andy -->\n",
       "<g id=\"edge9\" class=\"edge\">\n",
       "<title>stanley&#45;&gt;andy</title>\n",
       "<path fill=\"none\" stroke=\"#000000\" stroke-width=\"1.863\" d=\"M436.4924,-408.4265C463.2321,-376.5543 505.4022,-319.9031 522.0509,-262.4718 542.2065,-192.9434 517.4628,-108.4703 499.8229,-62.0478\"/>\n",
       "<polygon fill=\"#000000\" stroke=\"#000000\" stroke-width=\"1.863\" points=\"502.977,-60.503 496.0752,-52.4645 496.4578,-63.0525 502.977,-60.503\"/>\n",
       "</g>\n",
       "<!-- stanley&#45;&gt;kevin -->\n",
       "<g id=\"edge38\" class=\"edge\">\n",
       "<title>stanley&#45;&gt;kevin</title>\n",
       "<path fill=\"none\" stroke=\"#000000\" stroke-width=\"2.0281\" stroke-dasharray=\"5,2\" d=\"M409.9844,-399.4711C407.0007,-371.6732 401.499,-332.1014 392.0509,-298.4718 387.3627,-281.7845 381.898,-279.1136 377.0509,-262.4718 368.0285,-231.494 361.9147,-195.5612 358.1165,-168.1118\"/>\n",
       "<polygon fill=\"#000000\" stroke=\"#000000\" stroke-width=\"2.0281\" points=\"361.5639,-167.4846 356.773,-158.0349 354.6253,-168.4097 361.5639,-167.4846\"/>\n",
       "</g>\n",
       "<!-- stanley&#45;&gt;phyllis -->\n",
       "<g id=\"edge50\" class=\"edge\">\n",
       "<title>stanley&#45;&gt;phyllis</title>\n",
       "<path fill=\"none\" stroke=\"#000000\" stroke-width=\"5.2916\" d=\"M405.3524,-400.2262C397.8555,-371.4264 384.5571,-330.1011 364.0509,-298.4718 353.8174,-282.6872 339.3855,-267.8365 326.0526,-255.8965\"/>\n",
       "<polygon fill=\"#000000\" stroke=\"#000000\" stroke-width=\"5.2916\" points=\"328.9542,-252.2838 318.3694,-249.2177 322.8789,-259.2727 328.9542,-252.2838\"/>\n",
       "</g>\n",
       "<!-- stanley&#45;&gt;pam -->\n",
       "<g id=\"edge49\" class=\"edge\">\n",
       "<title>stanley&#45;&gt;pam</title>\n",
       "<path fill=\"none\" stroke=\"#000000\" stroke-width=\"1.176\" d=\"M437.1747,-408.6005C443.2715,-402.9807 450.0795,-397.4425 457.0509,-393.1366 458.6374,-392.1567 546.8523,-360.1236 598.8329,-341.2833\"/>\n",
       "<polygon fill=\"#000000\" stroke=\"#000000\" stroke-width=\"1.176\" points=\"600.1896,-344.5145 608.3988,-337.8168 597.8046,-337.9332 600.1896,-344.5145\"/>\n",
       "</g>\n",
       "<!-- dwight&#45;&gt;extra -->\n",
       "<g id=\"edge16\" class=\"edge\">\n",
       "<title>dwight&#45;&gt;extra</title>\n",
       "<path fill=\"none\" stroke=\"#000000\" stroke-width=\"1.0447\" stroke-dasharray=\"5,2\" d=\"M527.7666,-536.7858C572.8995,-514.0032 651.2309,-474.4624 696.0233,-451.8516\"/>\n",
       "<polygon fill=\"#000000\" stroke=\"#000000\" stroke-width=\"1.0447\" points=\"697.6986,-454.9267 705.0485,-447.2958 694.5442,-448.6777 697.6986,-454.9267\"/>\n",
       "</g>\n",
       "<!-- dwight&#45;&gt;meredith -->\n",
       "<g id=\"edge18\" class=\"edge\">\n",
       "<title>dwight&#45;&gt;meredith</title>\n",
       "<path fill=\"none\" stroke=\"#000000\" stroke-width=\"1.1952\" d=\"M497.8796,-515.7981C499.0619,-506.3685 500.3461,-496.1265 501.5912,-486.1955\"/>\n",
       "<polygon fill=\"#000000\" stroke=\"#000000\" stroke-width=\"1.1952\" points=\"505.0974,-486.3639 502.8688,-476.0061 498.1518,-485.493 505.0974,-486.3639\"/>\n",
       "</g>\n",
       "<!-- dwight&#45;&gt;phyllis -->\n",
       "<g id=\"edge20\" class=\"edge\">\n",
       "<title>dwight&#45;&gt;phyllis</title>\n",
       "<path fill=\"none\" stroke=\"#000000\" stroke-width=\"1.3895\" d=\"M456.9096,-540.5385C428.7771,-527.9717 390.9483,-506.6884 369.0509,-476.2131 321.6255,-410.2097 353.9184,-374.8199 326.0509,-298.4718 322.3007,-288.1974 317.458,-277.4606 312.5775,-267.5631\"/>\n",
       "<polygon fill=\"#000000\" stroke=\"#000000\" stroke-width=\"1.3895\" points=\"315.5632,-265.7117 307.9212,-258.3734 309.319,-268.8756 315.5632,-265.7117\"/>\n",
       "</g>\n",
       "<!-- dwight&#45;&gt;stanley -->\n",
       "<g id=\"edge21\" class=\"edge\">\n",
       "<title>dwight&#45;&gt;stanley</title>\n",
       "<path fill=\"none\" stroke=\"#000000\" stroke-width=\"1.3186\" d=\"M471.4018,-521.9349C461.2504,-506.7542 449.0858,-488.5628 438.4968,-472.7276\"/>\n",
       "<polygon fill=\"#000000\" stroke=\"#000000\" stroke-width=\"1.3186\" points=\"441.2671,-470.5739 432.799,-464.2068 435.4482,-474.4651 441.2671,-470.5739\"/>\n",
       "</g>\n",
       "<!-- pam&#45;&gt;kevin -->\n",
       "<g id=\"edge36\" class=\"edge\">\n",
       "<title>pam&#45;&gt;kevin</title>\n",
       "<path fill=\"none\" stroke=\"#000000\" stroke-width=\"1.1696\" d=\"M606.7292,-323.7991C567.061,-317.1061 495.7813,-300.4352 448.0509,-262.4718 419.9572,-240.1267 425.3496,-223.7088 405.0509,-194.1027 397.1554,-182.5869 388.182,-170.2928 379.9384,-159.2839\"/>\n",
       "<polygon fill=\"#000000\" stroke=\"#000000\" stroke-width=\"1.1696\" points=\"382.6213,-157.0284 373.8068,-151.15 377.0316,-161.2421 382.6213,-157.0284\"/>\n",
       "</g>\n",
       "<!-- pam&#45;&gt;phyllis -->\n",
       "<g id=\"edge47\" class=\"edge\">\n",
       "<title>pam&#45;&gt;phyllis</title>\n",
       "<path fill=\"none\" stroke=\"#000000\" stroke-width=\"1.5062\" stroke-dasharray=\"5,2\" d=\"M607.8181,-319.6603C547.4606,-302.2499 405.5536,-261.3161 333.9595,-240.6644\"/>\n",
       "<polygon fill=\"#000000\" stroke=\"#000000\" stroke-width=\"1.5062\" points=\"334.503,-237.1785 323.9247,-237.7698 332.5629,-243.9043 334.503,-237.1785\"/>\n",
       "</g>\n",
       "<!-- kelly -->\n",
       "<g id=\"node17\" class=\"node\">\n",
       "<title>kelly</title>\n",
       "<ellipse fill=\"#b2dfee\" stroke=\"#b2dfee\" cx=\"674.0509\" cy=\"-228.2872\" rx=\"27.5804\" ry=\"27.5804\"/>\n",
       "<text text-anchor=\"middle\" x=\"674.0509\" y=\"-224.0872\" font-family=\"Times,serif\" font-size=\"14.00\" fill=\"#000000\">kelly</text>\n",
       "</g>\n",
       "<!-- pam&#45;&gt;kelly -->\n",
       "<g id=\"edge32\" class=\"edge\">\n",
       "<title>pam&#45;&gt;kelly</title>\n",
       "<path fill=\"none\" stroke=\"#000000\" stroke-width=\"1.2881\" d=\"M646.5352,-300.3473C650.8688,-288.9982 655.9476,-275.6975 660.5541,-263.6337\"/>\n",
       "<polygon fill=\"#000000\" stroke=\"#000000\" stroke-width=\"1.2881\" points=\"663.8263,-264.8755 664.1239,-254.2849 657.2869,-262.3784 663.8263,-264.8755\"/>\n",
       "</g>\n",
       "<!-- ryan -->\n",
       "<g id=\"node18\" class=\"node\">\n",
       "<title>ryan</title>\n",
       "<ellipse fill=\"#b2dfee\" stroke=\"#b2dfee\" cx=\"674.0509\" cy=\"-124.3485\" rx=\"25.642\" ry=\"25.642\"/>\n",
       "<text text-anchor=\"middle\" x=\"674.0509\" y=\"-120.1485\" font-family=\"Times,serif\" font-size=\"14.00\" fill=\"#000000\">ryan</text>\n",
       "</g>\n",
       "<!-- pam&#45;&gt;ryan -->\n",
       "<g id=\"edge48\" class=\"edge\">\n",
       "<title>pam&#45;&gt;ryan</title>\n",
       "<path fill=\"none\" stroke=\"#000000\" stroke-width=\"1.1281\" d=\"M632.3272,-298.6099C629.7465,-271.1789 628.1766,-229.2103 637.0509,-194.1027 640.5311,-180.3348 647.2535,-166.2872 654.0243,-154.4408\"/>\n",
       "<polygon fill=\"#000000\" stroke=\"#000000\" stroke-width=\"1.1281\" points=\"657.0317,-156.2312 659.1584,-145.852 651.0233,-152.6395 657.0317,-156.2312\"/>\n",
       "</g>\n",
       "<!-- jim&#45;&gt;kevin -->\n",
       "<g id=\"edge26\" class=\"edge\">\n",
       "<title>jim&#45;&gt;kevin</title>\n",
       "<path fill=\"none\" stroke=\"#000000\" stroke-width=\"1.0855\" stroke-dasharray=\"5,2\" d=\"M393.439,-643.914C378.1353,-632.6684 358.2385,-615.7375 346.0509,-596.4066 263.5596,-465.5654 270.0524,-415.5736 248.0509,-262.4718 243.7287,-232.3945 233.6912,-220.8818 248.0509,-194.1027 261.5495,-168.9296 288.5767,-151.2934 311.8292,-140.0523\"/>\n",
       "<polygon fill=\"#000000\" stroke=\"#000000\" stroke-width=\"1.0855\" points=\"313.5472,-143.1151 321.18,-135.7672 310.631,-136.7514 313.5472,-143.1151\"/>\n",
       "</g>\n",
       "<!-- jim&#45;&gt;meredith -->\n",
       "<g id=\"edge27\" class=\"edge\">\n",
       "<title>jim&#45;&gt;meredith</title>\n",
       "<path fill=\"none\" stroke=\"#000000\" stroke-width=\"1.0476\" d=\"M416.6467,-632.3211C419.3273,-602.1566 426.4273,-551.5244 445.0509,-512.2131 451.8735,-497.812 461.9133,-483.7607 471.9825,-471.663\"/>\n",
       "<polygon fill=\"#000000\" stroke=\"#000000\" stroke-width=\"1.0476\" points=\"474.6981,-473.8731 478.5701,-464.0112 469.3932,-469.3061 474.6981,-473.8731\"/>\n",
       "</g>\n",
       "<!-- jim&#45;&gt;phyllis -->\n",
       "<g id=\"edge30\" class=\"edge\">\n",
       "<title>jim&#45;&gt;phyllis</title>\n",
       "<path fill=\"none\" stroke=\"#000000\" stroke-width=\"1.2726\" d=\"M403.1117,-635.0706C386.0934,-601.0488 354.9448,-535.2958 337.0509,-476.2131 315.964,-406.5873 302.8702,-322.8837 296.2779,-272.7183\"/>\n",
       "<polygon fill=\"#000000\" stroke=\"#000000\" stroke-width=\"1.2726\" points=\"299.7159,-272.0118 294.9693,-262.5397 292.7731,-272.9044 299.7159,-272.0118\"/>\n",
       "</g>\n",
       "<!-- jim&#45;&gt;stanley -->\n",
       "<g id=\"edge31\" class=\"edge\">\n",
       "<title>jim&#45;&gt;stanley</title>\n",
       "<path fill=\"none\" stroke=\"#000000\" stroke-width=\"1.3133\" d=\"M413.5162,-632.4158C412.9317,-621.3305 412.3375,-608.2381 412.0509,-596.4066 411.1001,-557.146 411.4867,-512.5097 412.0332,-480.0904\"/>\n",
       "<polygon fill=\"#000000\" stroke=\"#000000\" stroke-width=\"1.3133\" points=\"415.5339,-480.0778 412.2147,-470.0163 408.535,-479.9516 415.5339,-480.0778\"/>\n",
       "</g>\n",
       "<!-- jim&#45;&gt;dwight -->\n",
       "<g id=\"edge17\" class=\"edge\">\n",
       "<title>jim&#45;&gt;dwight</title>\n",
       "<path fill=\"none\" stroke=\"#000000\" stroke-width=\"1.1813\" d=\"M430.8354,-637.261C440.2253,-624.7415 452.4383,-608.4582 463.5543,-593.6373\"/>\n",
       "<polygon fill=\"#000000\" stroke=\"#000000\" stroke-width=\"1.1813\" points=\"466.392,-595.6871 469.5922,-585.5871 460.792,-591.4869 466.392,-595.6871\"/>\n",
       "</g>\n",
       "<!-- jim&#45;&gt;pam -->\n",
       "<g id=\"edge29\" class=\"edge\">\n",
       "<title>jim&#45;&gt;pam</title>\n",
       "<path fill=\"none\" stroke=\"#000000\" stroke-width=\"1.7217\" d=\"M440.3396,-652.09C468.6209,-643.8922 513.9978,-626.8161 541.0509,-596.4066 572.1022,-561.5031 609.0527,-431.8672 626.2909,-366.3024\"/>\n",
       "<polygon fill=\"#000000\" stroke=\"#000000\" stroke-width=\"1.7217\" points=\"629.7485,-366.9136 628.8844,-356.354 622.9749,-365.1477 629.7485,-366.9136\"/>\n",
       "</g>\n",
       "<!-- michael -->\n",
       "<g id=\"node14\" class=\"node\">\n",
       "<title>michael</title>\n",
       "<ellipse fill=\"#3cb371\" stroke=\"#3cb371\" cx=\"786.0509\" cy=\"-554.3099\" rx=\"38.1845\" ry=\"38.1845\"/>\n",
       "<ellipse fill=\"none\" stroke=\"#3cb371\" cx=\"786.0509\" cy=\"-554.3099\" rx=\"42.1937\" ry=\"42.1937\"/>\n",
       "<text text-anchor=\"middle\" x=\"786.0509\" y=\"-550.1099\" font-family=\"Times,serif\" font-size=\"14.00\" fill=\"#000000\">michael</text>\n",
       "</g>\n",
       "<!-- michael&#45;&gt;extra -->\n",
       "<g id=\"edge23\" class=\"edge\">\n",
       "<title>michael&#45;&gt;extra</title>\n",
       "<path fill=\"none\" stroke=\"#000000\" stroke-width=\"1.1452\" d=\"M768.1782,-516.1277C761.1412,-501.0942 753.1178,-483.9535 746.2525,-469.287\"/>\n",
       "<polygon fill=\"#000000\" stroke=\"#000000\" stroke-width=\"1.1452\" points=\"749.3397,-467.6263 741.9303,-460.0532 742.9999,-470.594 749.3397,-467.6263\"/>\n",
       "</g>\n",
       "<!-- michael&#45;&gt;stanley -->\n",
       "<g id=\"edge42\" class=\"edge\">\n",
       "<title>michael&#45;&gt;stanley</title>\n",
       "<path fill=\"none\" stroke=\"#000000\" stroke-width=\"1.1241\" d=\"M743.8474,-551.3009C678.7415,-545.1678 551.4653,-527.1617 457.0509,-476.2131 452.7694,-473.9027 448.5969,-471.0687 444.6342,-467.9763\"/>\n",
       "<polygon fill=\"#000000\" stroke=\"#000000\" stroke-width=\"1.1241\" points=\"446.7162,-465.1527 436.8271,-461.3506 442.1868,-470.4898 446.7162,-465.1527\"/>\n",
       "</g>\n",
       "<!-- holly -->\n",
       "<g id=\"node15\" class=\"node\">\n",
       "<title>holly</title>\n",
       "<ellipse fill=\"#b2dfee\" stroke=\"#b2dfee\" cx=\"842.0509\" cy=\"-434.6749\" rx=\"28.0736\" ry=\"28.0736\"/>\n",
       "<text text-anchor=\"middle\" x=\"842.0509\" y=\"-430.4749\" font-family=\"Times,serif\" font-size=\"14.00\" fill=\"#000000\">holly</text>\n",
       "</g>\n",
       "<!-- michael&#45;&gt;holly -->\n",
       "<g id=\"edge24\" class=\"edge\">\n",
       "<title>michael&#45;&gt;holly</title>\n",
       "<path fill=\"none\" stroke=\"#000000\" stroke-width=\"2.0635\" d=\"M803.9237,-516.1277C810.9082,-501.2063 818.8644,-484.2092 825.6955,-469.6157\"/>\n",
       "<polygon fill=\"#000000\" stroke=\"#000000\" stroke-width=\"2.0635\" points=\"828.9309,-470.9595 830.0005,-460.4188 822.591,-467.9919 828.9309,-470.9595\"/>\n",
       "</g>\n",
       "<!-- michael&#45;&gt;ryan -->\n",
       "<g id=\"edge41\" class=\"edge\">\n",
       "<title>michael&#45;&gt;ryan</title>\n",
       "<path fill=\"none\" stroke=\"#000000\" stroke-width=\"1.1623\" d=\"M782.9154,-512.285C780.0393,-479.5947 774.9994,-433.21 767.0509,-393.1366 749.1722,-302.9984 745.2203,-279.408 711.0509,-194.1027 705.8626,-181.1496 698.9505,-167.4693 692.5058,-155.6879\"/>\n",
       "<polygon fill=\"#000000\" stroke=\"#000000\" stroke-width=\"1.1623\" points=\"695.4141,-153.7174 687.4794,-146.6967 689.3041,-157.1332 695.4141,-153.7174\"/>\n",
       "</g>\n",
       "<!-- toby -->\n",
       "<g id=\"node19\" class=\"node\">\n",
       "<title>toby</title>\n",
       "<ellipse fill=\"#b2dfee\" stroke=\"#b2dfee\" cx=\"914.0509\" cy=\"-434.6749\" rx=\"25.6592\" ry=\"25.6592\"/>\n",
       "<text text-anchor=\"middle\" x=\"914.0509\" y=\"-430.4749\" font-family=\"Times,serif\" font-size=\"14.00\" fill=\"#000000\">toby</text>\n",
       "</g>\n",
       "<!-- michael&#45;&gt;toby -->\n",
       "<g id=\"edge43\" class=\"edge\">\n",
       "<title>michael&#45;&gt;toby</title>\n",
       "<path fill=\"none\" stroke=\"#000000\" stroke-width=\"1.0184\" d=\"M819.5338,-528.5162C837.7899,-513.8892 860.3999,-494.8331 879.0509,-476.2131 883.2408,-472.0303 887.4806,-467.4008 891.4938,-462.7954\"/>\n",
       "<polygon fill=\"#000000\" stroke=\"#000000\" stroke-width=\"1.0184\" points=\"894.1806,-465.0387 897.9852,-455.1505 888.8446,-460.5079 894.1806,-465.0387\"/>\n",
       "</g>\n",
       "<!-- jan -->\n",
       "<g id=\"node16\" class=\"node\">\n",
       "<title>jan</title>\n",
       "<ellipse fill=\"#b2dfee\" stroke=\"#b2dfee\" cx=\"786.0509\" cy=\"-658.3062\" rx=\"20.8218\" ry=\"20.8218\"/>\n",
       "<text text-anchor=\"middle\" x=\"786.0509\" y=\"-654.1062\" font-family=\"Times,serif\" font-size=\"14.00\" fill=\"#000000\">jan</text>\n",
       "</g>\n",
       "<!-- jan&#45;&gt;michael -->\n",
       "<g id=\"edge25\" class=\"edge\">\n",
       "<title>jan&#45;&gt;michael</title>\n",
       "<path fill=\"none\" stroke=\"#000000\" stroke-width=\"2.0055\" d=\"M786.0509,-637.261C786.0509,-628.4454 786.0509,-617.7636 786.0509,-607.0403\"/>\n",
       "<polygon fill=\"#000000\" stroke=\"#000000\" stroke-width=\"2.0055\" points=\"789.551,-606.806 786.0509,-596.806 782.551,-606.8061 789.551,-606.806\"/>\n",
       "</g>\n",
       "<!-- kelly&#45;&gt;ryan -->\n",
       "<g id=\"edge33\" class=\"edge\">\n",
       "<title>kelly&#45;&gt;ryan</title>\n",
       "<path fill=\"none\" stroke=\"#000000\" stroke-width=\"3.8571\" d=\"M674.0509,-200.4335C674.0509,-188.1919 674.0509,-173.6563 674.0509,-160.5864\"/>\n",
       "<polygon fill=\"#000000\" stroke=\"#000000\" stroke-width=\"3.8571\" points=\"677.551,-160.4906 674.0509,-150.4907 670.551,-160.4907 677.551,-160.4906\"/>\n",
       "</g>\n",
       "</g>\n",
       "</svg>\n"
      ],
      "text/plain": [
       "<graphviz.dot.Digraph at 0x129727ef0>"
      ]
     },
     "execution_count": 163,
     "metadata": {},
     "output_type": "execute_result"
    }
   ],
   "source": [
    "grafo"
   ]
  },
  {
   "cell_type": "markdown",
   "metadata": {},
   "source": [
    "### Conclusiones tercer acercamiento\n",
    "Con el acercamiento de asociación apriori podemos observar las relaciones de personajes. Si consideramos la asociación entre personajes A->B, la gráfica se puede interpretar de las siguiente manera:\n",
    " - Nodos verdes: personajes principales (aquellos que tienen un soporte mayor a 0.2).\n",
    " - Nodo rosa: personajes extras.\n",
    " - Grosor arista: entre más gruesa, más es el *lift* entre esos dos personajes. Es decir, es más probable que A y B salgan juntos que solo A.\n",
    " - Relleno arista: si es punteada, tiene una menor *confidence*. Es decir, que el personaje B sale en menor pocentaje de las escenas totales en las que sale A."
   ]
  },
  {
   "cell_type": "markdown",
   "metadata": {},
   "source": [
    "## Decisión\n",
    "Con los tres acercamientos del documento podemos tomar decisiones como:\n",
    " - Qué personajes colocar juntos en escenas para obtener mejores resultados.\n",
    " - Qué palabras utilizar en los scripts para posiblemente obtener buenos resultados.\n",
    " - Cuando sale un personaje en escena, cual es la relación que se espera con otros personajes."
   ]
  },
  {
   "cell_type": "code",
   "execution_count": null,
   "metadata": {},
   "outputs": [],
   "source": []
  },
  {
   "cell_type": "code",
   "execution_count": null,
   "metadata": {},
   "outputs": [],
   "source": []
  },
  {
   "cell_type": "code",
   "execution_count": null,
   "metadata": {},
   "outputs": [],
   "source": []
  }
 ],
 "metadata": {
  "kernelspec": {
   "display_name": "Python 3",
   "language": "python",
   "name": "python3"
  },
  "language_info": {
   "codemirror_mode": {
    "name": "ipython",
    "version": 3
   },
   "file_extension": ".py",
   "mimetype": "text/x-python",
   "name": "python",
   "nbconvert_exporter": "python",
   "pygments_lexer": "ipython3",
   "version": "3.7.1"
  }
 },
 "nbformat": 4,
 "nbformat_minor": 2
}
